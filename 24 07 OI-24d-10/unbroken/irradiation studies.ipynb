{
 "cells": [
  {
   "cell_type": "code",
   "execution_count": null,
   "metadata": {},
   "outputs": [],
   "source": [
    "# initialize stuff\n",
    "%reload_ext autoreload\n",
    "%autoreload 2\n",
    "%matplotlib inline\n",
    "\n",
    "import sys\n",
    "import logging\n",
    "import importlib\n",
    "\n",
    "import numpy as np\n",
    "import matplotlib.pyplot as plt\n",
    "\n",
    "from importlib import reload\n",
    "\n",
    "sys.path.append(\"/Users/oliver/Documents/p5control-bluefors-evaluation\")\n",
    "sys.path.append(\"/home/oliver/Documents/p5control-bluefors-evaluation\")\n",
    "\n",
    "from utilities.irradiationevalaluation import IrradiationEvaluation\n",
    "from utilities.irradiationplotting import IrradiationPlotting\n",
    "importlib.reload(sys.modules[\"utilities.irradiationevalaluation\"])\n",
    "importlib.reload(sys.modules[\"utilities.irradiationplotting\"])\n",
    "\n",
    "plt.ioff()\n",
    "reload(logging)\n",
    "logger = logging.getLogger(__name__)\n",
    "logging.basicConfig(level=logging.INFO, format='%(message)s')"
   ]
  },
  {
   "cell_type": "markdown",
   "metadata": {},
   "source": [
    "# Irradiation Study (7.75-8.05GHz)"
   ]
  },
  {
   "cell_type": "code",
   "execution_count": null,
   "metadata": {},
   "outputs": [
    {
     "name": "stderr",
     "output_type": "stream",
     "text": [
      "(eva) ... BaseClass initialized.\n",
      "(eva) ... BaseEvaluation initialized.\n"
     ]
    },
    {
     "name": "stderr",
     "output_type": "stream",
     "text": [
      "(eva) ... IrradiationEvaluation initialized.\n",
      "(eva) title = Irradiation Study (7.75-8.05GHz)\n",
      "(eva) sub_folder = irradiation studies/\n",
      "(eva) file_folder = 24 07 OI-24d-10/unbroken/24 07 31 irradiation study/\n",
      "(eva) file_name = OI-24d-10, 24-07-31, irradiation study, 0-0.80V, 7.75-8.05GHz 0.hdf5\n",
      "(eva) setAmplifications(1000, 1000)\n",
      "(eva) showMeasurements()\n",
      "(eva) ['vna_irradiations']\n",
      "(eva) setMeasurement('vna_irradiations')\n",
      "(eva) showKeys()\n",
      "(eva) ['no_irradiation', 'vna_7.7500GHz_0.010V', 'vna_8.0500GHz_0.790V', 'vna_8.0500GHz_0.800V']\n",
      "(eva) index_trigger_down = None\n",
      "(eva) setV(-0.0011, 0.0011, 1100)\n",
      "(eva) getIrradiationMaps()\n",
      " 75%|███████▌  | 1889/2511 [08:13<01:54,  5.44it/s]  "
     ]
    }
   ],
   "source": [
    "# Evaluate Irradiation Study (7.75-8.05GHz)\n",
    "eva = IrradiationEvaluation('eva')\n",
    "eva.title = 'Irradiation Study (7.75-8.05GHz)'\n",
    "eva.sub_folder = 'irradiation studies/'\n",
    "eva.file_folder = '24 07 OI-24d-10/unbroken/24 07 31 irradiation study/'\n",
    "eva.file_name = 'OI-24d-10, 24-07-31, irradiation study, 0-0.80V, 7.75-8.05GHz 0.hdf5'\n",
    "eva.setAmplifications(1000, 1000)\n",
    "eva.showMeasurements()\n",
    "eva.setMeasurement('vna_irradiations')\n",
    "eva.showKeys()\n",
    "eva.setMultipleKeys()\n",
    "eva.index_trigger_down = None\n",
    "eva.setV(1.1e-3, voltage_bins=1100)\n",
    "eva.getIrradiationMaps()\n",
    "eva.saveData()\n",
    "# eva.showFile()\n",
    "# eva.showData()"
   ]
  },
  {
   "cell_type": "code",
   "execution_count": null,
   "metadata": {},
   "outputs": [
    {
     "name": "stderr",
     "output_type": "stream",
     "text": [
      "(eva) ... BaseClass initialized.\n",
      "(eva) ... BaseEvaluation initialized.\n",
      "(eva) ... BasePlotting initialized.\n",
      "(eva) ... IrradiationPlotting initialized.\n",
      "(eva) title = Irradiation Study (7.75-8.05GHz)\n",
      "(eva) sub_folder = irradiation studies/\n",
      "(eva) loadData()\n",
      "(eva) x_lim = (-1.1, 1.1)\n",
      "(eva) v_ac_lim = (0, 0.8)\n",
      "(eva) z_lim = (0, 0.2)\n",
      "(eva) v_lim = 0.7\n",
      "(eva) i_lim = (-0.25, 5.25)\n",
      "(eva) didv_lim = (-0.04, 0.24)\n",
      "(eva) n_lim = (0, 1.2)\n",
      "(eva) saveData()\n"
     ]
    }
   ],
   "source": [
    "# Settings\n",
    "eva = IrradiationPlotting('eva')\n",
    "eva.title = 'Irradiation Study (7.75-8.05GHz)'\n",
    "eva.sub_folder = 'irradiation studies/'\n",
    "eva.loadData()\n",
    "\n",
    "eva.x_lim = (-1.1, 1.1)\n",
    "eva.v_ac_lim = (0, .8)\n",
    "eva.z_lim = (0, .2)\n",
    "eva.v_lim = 0.7\n",
    "eva.i_lim = (-.25, 5.25)\n",
    "eva.didv_lim = (-.04, .24)\n",
    "eva.n_lim = (0, 1.2)\n",
    "\n",
    "eva.saveData()"
   ]
  },
  {
   "cell_type": "markdown",
   "metadata": {},
   "source": [
    "### Amplitude Studies"
   ]
  },
  {
   "cell_type": "code",
   "execution_count": null,
   "metadata": {},
   "outputs": [
    {
     "name": "stderr",
     "output_type": "stream",
     "text": [
      "(eva) ... BaseClass initialized.\n",
      "(eva) ... BaseEvaluation initialized.\n",
      "(eva) ... BasePlotting initialized.\n",
      "(eva) ... IrradiationPlotting initialized.\n",
      "(eva) title = Irradiation Study (7.75-8.05GHz)\n",
      "(eva) sub_folder = irradiation studies/\n",
      "(eva) loadData()\n",
      "(eva) values = [0.2, 0.4, 0.5, 0.6, 0.7]\n",
      "(eva) showAllAmplitudeStudies()\n",
      "100%|██████████| 31/31 [00:01<00:00, 21.92it/s]\n",
      "/var/folders/kc/8fnzl3f94vxgl8w4wm3wfvk80000gn/T/ipykernel_90405/1183281559.py:14: UserWarning: FigureCanvasAgg is non-interactive, and thus cannot be shown\n",
      "  plt.show()\n"
     ]
    },
    {
     "name": "stderr",
     "output_type": "stream",
     "text": [
      "2024-12-04 17:07:52.731 Python[90405:8951396] _TIPropertyValueIsValid called with 16 on nil context!\n",
      "2024-12-04 17:07:52.731 Python[90405:8951396] imkxpc_getApplicationProperty:reply: called with incorrect property value 16, bailing.\n",
      "2024-12-04 17:07:52.731 Python[90405:8951396] Text input context does not respond to _valueForTIProperty:\n"
     ]
    }
   ],
   "source": [
    "# Show Amplitude Studies\n",
    "%matplotlib qt\n",
    "eva = IrradiationPlotting('eva')\n",
    "eva.title = 'Irradiation Study (7.75-8.05GHz)'\n",
    "eva.sub_folder = 'irradiation studies/'\n",
    "eva.loadData()\n",
    "\n",
    "eva.values = [0.2, 0.4, .5, .6, .7]\n",
    "\n",
    "eva.showAllAmplitudeStudies()\n",
    "plt.show()"
   ]
  },
  {
   "cell_type": "code",
   "execution_count": null,
   "metadata": {},
   "outputs": [
    {
     "name": "stderr",
     "output_type": "stream",
     "text": [
      "(eva) ... BaseClass initialized.\n",
      "(eva) ... BaseEvaluation initialized.\n",
      "(eva) ... BasePlotting initialized.\n",
      "(eva) ... IrradiationPlotting initialized.\n",
      "(eva) title = Irradiation Study (7.75-8.05GHz)\n",
      "(eva) sub_folder = irradiation studies/\n",
      "(eva) loadData()\n",
      "(eva) values = [0.2, 0.4, 0.5, 0.6, 0.7]\n",
      "(eva) showAllAmplitudeStudies()\n",
      " 58%|█████▊    | 18/31 [00:01<00:00, 18.19it/s]/Users/oliver/Documents/p5control-bluefors-evaluation/utilities/plot_all.py:92: RuntimeWarning: More than 20 figures have been opened. Figures created through the pyplot interface (`matplotlib.pyplot.figure`) are retained until explicitly closed and may consume too much memory. (To control this warning, see the rcParam `figure.max_open_warning`). Consider using `matplotlib.pyplot.close()`.\n",
      "  fig, axs = plt.subplots(\n",
      "100%|██████████| 31/31 [00:01<00:00, 19.20it/s]\n",
      "(eva) saveAllAmplitudeStudies() to figures/Irradiation Study (7.75-8.05GHz)/amplitude studies\n",
      "100%|██████████| 31/31 [00:26<00:00,  1.19it/s]\n"
     ]
    }
   ],
   "source": [
    "# Save Amplitude Studies\n",
    "%matplotlib qt\n",
    "eva = IrradiationPlotting('eva')\n",
    "eva.title = 'Irradiation Study (7.75-8.05GHz)'\n",
    "eva.sub_folder = 'irradiation studies/'\n",
    "eva.loadData()\n",
    "\n",
    "eva.values = [0.2, 0.4, .5, .6, .7]\n",
    "\n",
    "eva.showAllAmplitudeStudies()\n",
    "eva.saveAllAmplitudeStudies()"
   ]
  },
  {
   "cell_type": "code",
   "execution_count": null,
   "metadata": {},
   "outputs": [
    {
     "name": "stderr",
     "output_type": "stream",
     "text": [
      "(eva) ... BaseClass initialized.\n",
      "(eva) ... BaseEvaluation initialized.\n",
      "(eva) ... BasePlotting initialized.\n",
      "(eva) ... IrradiationPlotting initialized.\n",
      "(eva) title = Irradiation Study (7.75-8.05GHz)\n",
      "(eva) sub_folder = irradiation studies/\n",
      "(eva) loadData()\n",
      "(eva) frame_rate = 5\n",
      "(eva) createAmplitudeStudiesVideo()\n"
     ]
    }
   ],
   "source": [
    "# Create Amplitude Studies Video\n",
    "%matplotlib qt\n",
    "eva = IrradiationPlotting('eva')\n",
    "eva.title = 'Irradiation Study (7.75-8.05GHz)'\n",
    "eva.sub_folder = 'irradiation studies/'\n",
    "eva.loadData()\n",
    "eva.frame_rate = 5\n",
    "eva.createAmplitudeStudiesVideo()"
   ]
  },
  {
   "cell_type": "code",
   "execution_count": null,
   "metadata": {},
   "outputs": [
    {
     "name": "stderr",
     "output_type": "stream",
     "text": [
      "(eva) ... BaseClass initialized.\n",
      "(eva) ... BaseEvaluation initialized.\n",
      "(eva) ... BasePlotting initialized.\n",
      "(eva) ... IrradiationPlotting initialized.\n",
      "(eva) title = Irradiation Study (7.75-8.05GHz)\n",
      "(eva) sub_folder = irradiation studies/\n",
      "(eva) loadData()\n",
      "(eva) values = [7.8, 7.85, 7.9, 7.95, 8]\n",
      "(eva) showAllFrequencyStudies()\n",
      " 22%|██▏       | 18/81 [00:02<00:13,  4.59it/s]/Users/oliver/Documents/p5control-bluefors-evaluation/utilities/plot_all.py:92: RuntimeWarning: More than 20 figures have been opened. Figures created through the pyplot interface (`matplotlib.pyplot.figure`) are retained until explicitly closed and may consume too much memory. (To control this warning, see the rcParam `figure.max_open_warning`). Consider using `matplotlib.pyplot.close()`.\n",
      "  fig, axs = plt.subplots(\n",
      "100%|██████████| 81/81 [00:05<00:00, 14.83it/s]\n"
     ]
    }
   ],
   "source": [
    "# Show Frequency Studies\n",
    "%matplotlib qt\n",
    "eva = IrradiationPlotting('eva')\n",
    "eva.title = 'Irradiation Study (7.75-8.05GHz)'\n",
    "eva.sub_folder = 'irradiation studies/'\n",
    "eva.loadData()\n",
    "\n",
    "eva.values = [7.8, 7.85, 7.9, 7.95, 8]\n",
    "\n",
    "eva.showAllFrequencyStudies()\n",
    "plt.show()"
   ]
  },
  {
   "cell_type": "code",
   "execution_count": null,
   "metadata": {},
   "outputs": [
    {
     "name": "stderr",
     "output_type": "stream",
     "text": [
      "(eva) ... BaseClass initialized.\n",
      "(eva) ... BaseEvaluation initialized.\n",
      "(eva) ... BasePlotting initialized.\n",
      "(eva) ... IrradiationPlotting initialized.\n",
      "(eva) title = Irradiation Study (7.75-8.05GHz)\n",
      "(eva) sub_folder = irradiation studies/\n",
      "(eva) loadData()\n",
      "(eva) values = [7.8, 7.85, 7.9, 7.95, 8]\n",
      "(eva) showAllFrequencyStudies()\n",
      "100%|██████████| 81/81 [00:04<00:00, 17.95it/s]\n",
      "(eva) saveAllFrequencyStudies() to figures/Irradiation Study (7.75-8.05GHz)/frequency studies\n",
      "100%|██████████| 81/81 [01:06<00:00,  1.22it/s]\n"
     ]
    }
   ],
   "source": [
    "# Save Frequency Studies\n",
    "%matplotlib qt\n",
    "eva = IrradiationPlotting('eva')\n",
    "eva.title = 'Irradiation Study (7.75-8.05GHz)'\n",
    "eva.sub_folder = 'irradiation studies/'\n",
    "eva.loadData()\n",
    "\n",
    "eva.values = [7.8, 7.85, 7.9, 7.95, 8]\n",
    "\n",
    "eva.showAllFrequencyStudies()\n",
    "eva.saveAllFrequencyStudies()"
   ]
  },
  {
   "cell_type": "code",
   "execution_count": null,
   "metadata": {},
   "outputs": [
    {
     "name": "stderr",
     "output_type": "stream",
     "text": [
      "(eva) ... BaseClass initialized.\n",
      "(eva) ... BaseEvaluation initialized.\n",
      "(eva) ... BasePlotting initialized.\n",
      "(eva) ... IrradiationPlotting initialized.\n",
      "(eva) title = Irradiation Study (7.75-8.05GHz)\n",
      "(eva) sub_folder = irradiation studies/\n",
      "(eva) loadData()\n",
      "(eva) frame_rate = 15\n",
      "(eva) createFrequencyStudiesVideo()\n"
     ]
    }
   ],
   "source": [
    "# Create Frequency Studies Video\n",
    "%matplotlib inline\n",
    "eva = IrradiationPlotting('eva')\n",
    "eva.title = 'Irradiation Study (7.75-8.05GHz)'\n",
    "eva.sub_folder = 'irradiation studies/'\n",
    "eva.loadData()\n",
    "eva.frame_rate = 15\n",
    "eva.createFrequencyStudiesVideo()"
   ]
  },
  {
   "cell_type": "code",
   "execution_count": null,
   "metadata": {},
   "outputs": [
    {
     "name": "stderr",
     "output_type": "stream",
     "text": [
      "(eva) ... BaseClass initialized.\n",
      "(eva) ... BaseEvaluation initialized.\n",
      "(eva) ... BasePlotting initialized.\n",
      "(eva) ... IrradiationPlotting initialized.\n",
      "(eva) title = Irradiation Study (7.75-8.05GHz)\n",
      "(eva) sub_folder = irradiation studies/\n",
      "(eva) loadData()\n",
      "(eva) values = [7.8, 7.85, 7.9, 7.95, 8]\n",
      "(eva) showAllFrequencyStudies()\n",
      "100%|██████████| 901/901 [00:40<00:00, 22.01it/s]\n",
      "(eva) saveAllIrradiationStudies() to figures/Irradiation Study (7.75-8.05GHz)/irradiation studies\n",
      "100%|██████████| 901/901 [12:07<00:00,  1.24it/s]\n",
      "(eva) frame_rate = 50\n",
      "(eva) createIrradiationStudiesVideo()\n"
     ]
    }
   ],
   "source": [
    "# Plot Irradiation Studies over V_bias\n",
    "%matplotlib inline\n",
    "eva = IrradiationPlotting('eva')\n",
    "eva.title = 'Irradiation Study (7.75-8.05GHz)'\n",
    "eva.sub_folder = 'irradiation studies/'\n",
    "eva.loadData()\n",
    "\n",
    "eva.values = [7.8, 7.85, 7.9, 7.95, 8]\n",
    "eva.showAllIrradiationStudies()\n",
    "eva.saveAllIrradiationStudies()\n",
    "\n",
    "eva.frame_rate = 50\n",
    "eva.createIrradiationStudiesVideo()"
   ]
  },
  {
   "cell_type": "code",
   "execution_count": null,
   "metadata": {},
   "outputs": [],
   "source": []
  },
  {
   "cell_type": "code",
   "execution_count": null,
   "metadata": {},
   "outputs": [],
   "source": []
  },
  {
   "cell_type": "code",
   "execution_count": null,
   "metadata": {},
   "outputs": [],
   "source": []
  },
  {
   "cell_type": "code",
   "execution_count": null,
   "metadata": {},
   "outputs": [],
   "source": []
  }
 ],
 "metadata": {
  "kernelspec": {
   "display_name": ".venv",
   "language": "python",
   "name": "python3"
  },
  "language_info": {
   "codemirror_mode": {
    "name": "ipython",
    "version": 3
   },
   "file_extension": ".py",
   "mimetype": "text/x-python",
   "name": "python",
   "nbconvert_exporter": "python",
   "pygments_lexer": "ipython3",
   "version": "3.12.3"
  }
 },
 "nbformat": 4,
 "nbformat_minor": 2
}
