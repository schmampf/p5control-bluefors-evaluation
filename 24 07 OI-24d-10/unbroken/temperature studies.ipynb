{
 "cells": [
  {
   "cell_type": "code",
   "execution_count": 1,
   "metadata": {},
   "outputs": [],
   "source": [
    "# initialize stuff\n",
    "%load_ext autoreload\n",
    "%autoreload 2\n",
    "%matplotlib inline\n",
    "\n",
    "import sys\n",
    "import logging\n",
    "import importlib\n",
    "\n",
    "import numpy as np\n",
    "import matplotlib.pyplot as plt\n",
    "\n",
    "from importlib import reload\n",
    "\n",
    "sys.path.append(\"/Users/oliver/Documents/p5control-bluefors-evaluation\")\n",
    "sys.path.append(\"/home/oliver/Documents/p5control-bluefors-evaluation\")\n",
    "\n",
    "from utilities.corporate_design_colors_v4 import cmap\n",
    "from utilities.baseplotting import BasePlotting\n",
    "from utilities.plot_all import plot_all\n",
    "from utilities.key_database import PLOT_KEYS\n",
    "\n",
    "\n",
    "importlib.reload(sys.modules[\"utilities.baseplotting\"])\n",
    "importlib.reload(sys.modules[\"utilities.plot_all\"])\n",
    "\n",
    "plt.ioff()\n",
    "reload(logging)\n",
    "logger = logging.getLogger(__name__)\n",
    "logging.basicConfig(level=logging.INFO, format='%(message)s')"
   ]
  },
  {
   "cell_type": "markdown",
   "metadata": {},
   "source": [
    "# Temperature Study"
   ]
  },
  {
   "cell_type": "code",
   "execution_count": 7,
   "metadata": {},
   "outputs": [
    {
     "name": "stderr",
     "output_type": "stream",
     "text": [
      "(eva) ... BaseClass initialized.\n",
      "(eva) ... BaseEvaluation initialized.\n",
      "(eva) title = Temperature Study (incomplete, test)\n",
      "(eva) sub_folder = temperature studies/\n",
      "(eva) file_folder = 24 07 OI-24d-10/unbroken/24 08 13 temperature study/\n",
      "(eva) file_name = OI-24d-10 24-08-13 temperature study 4.hdf5\n",
      "(eva) setAmplifications(1000, 10000)\n",
      "(eva) showMeasurements()\n",
      "(eva) ['temperatures']\n",
      "(eva) setMeasurement('temperatures')\n",
      "(eva) showKeys()\n",
      "(eva) ['heater_000.0µW', 'heater_000.1µW', 'heater_984.4µW', 'no_power']\n",
      "(eva) setKeys([7, -2, 1e-06, 'no_power'])\n",
      "(eva) setV(-0.0013, 0.0013, 1300)\n",
      "(eva) getMaps()\n",
      "100%|██████████| 130/130 [00:03<00:00, 34.34it/s]\n",
      "(eva) setT(0, 1.5, 1500)\n",
      "(eva) getMapsT()\n",
      "(eva) saveData()\n"
     ]
    }
   ],
   "source": [
    "# Evaluate Temperature Study (incomplete, test)\n",
    "%matplotlib inline\n",
    "from utilities.baseevaluation import BaseEvaluation\n",
    "eva = BaseEvaluation('eva')\n",
    "eva.title = 'Temperature Study (incomplete, test)'\n",
    "eva.sub_folder = 'temperature studies/'\n",
    "eva.file_folder = '24 07 OI-24d-10/unbroken/24 08 13 temperature study/'\n",
    "eva.file_name = 'OI-24d-10 24-08-13 temperature study 4.hdf5'\n",
    "eva.setAmplifications(1000, 10000)\n",
    "eva.showMeasurements()\n",
    "eva.setMeasurement('temperatures')\n",
    "eva.showKeys()\n",
    "eva.setKeys([7, -2, 1e-6, 'no_power'])\n",
    "eva.setV(1.3e-3, voltage_bins=1300)\n",
    "eva.getMaps()\n",
    "eva.setT(0, 1.5, 1500)\n",
    "eva.getMapsT()\n",
    "eva.saveData()\n",
    "# eva.showFile()\n",
    "# eva.showData()"
   ]
  },
  {
   "cell_type": "code",
   "execution_count": 8,
   "metadata": {},
   "outputs": [
    {
     "name": "stderr",
     "output_type": "stream",
     "text": [
      "(eva) ... BaseClass initialized.\n",
      "(eva) ... BaseEvaluation initialized.\n",
      "(eva) title = Temperature Study (low res, warm up)\n",
      "(eva) sub_folder = temperature studies/\n",
      "(eva) file_folder = 24 07 OI-24d-10/unbroken/24 08 13 temperature study/\n",
      "(eva) file_name = OI-24d-10 24-08-14 temperature study 5.hdf5\n",
      "(eva) setAmplifications(1000, 10000)\n",
      "(eva) showMeasurements()\n",
      "(eva) ['temperatures_down', 'temperatures_up']\n",
      "(eva) setMeasurement('temperatures_up')\n",
      "(eva) showKeys()\n",
      "(eva) ['heater_00000.013µW', 'heater_00000.070µW', 'heater_03135.622µW', 'no_heater']\n",
      "(eva) setKeys([7, -2, 1e-06, 'no_heater'])\n",
      "(eva) setV(-0.0013, 0.0013, 1300)\n",
      "(eva) getMaps()\n",
      "100%|██████████| 150/150 [00:04<00:00, 34.19it/s]\n",
      "(eva) setT(0, 1.5, 1500)\n",
      "(eva) getMapsT()\n",
      "(eva) saveData()\n"
     ]
    }
   ],
   "source": [
    "# Evaluate Temperature Study (low res, warm up)\n",
    "%matplotlib inline\n",
    "from utilities.baseevaluation import BaseEvaluation\n",
    "eva = BaseEvaluation('eva')\n",
    "eva.title = 'Temperature Study (low res, warm up)'\n",
    "eva.sub_folder = 'temperature studies/'\n",
    "eva.file_folder = '24 07 OI-24d-10/unbroken/24 08 13 temperature study/'\n",
    "eva.file_name = 'OI-24d-10 24-08-14 temperature study 5.hdf5'\n",
    "eva.setAmplifications(1000, 10000)\n",
    "eva.showMeasurements()\n",
    "eva.setMeasurement('temperatures_up')\n",
    "eva.showKeys()\n",
    "eva.setKeys([7, -2, 1e-6, 'no_heater'])\n",
    "eva.setV(1.3e-3, voltage_bins=1300)\n",
    "eva.getMaps()\n",
    "eva.setT(0, 1.5, 1500)\n",
    "eva.getMapsT()\n",
    "eva.saveData()\n",
    "# eva.showFile()\n",
    "# eva.showData()"
   ]
  },
  {
   "cell_type": "code",
   "execution_count": 9,
   "metadata": {},
   "outputs": [
    {
     "name": "stderr",
     "output_type": "stream",
     "text": [
      "(eva) ... BaseClass initialized.\n",
      "(eva) ... BaseEvaluation initialized.\n",
      "(eva) title = Temperature Study (low res, cool down)\n",
      "(eva) sub_folder = temperature studies/\n",
      "(eva) file_folder = 24 07 OI-24d-10/unbroken/24 08 13 temperature study/\n",
      "(eva) file_name = OI-24d-10 24-08-14 temperature study 9.hdf5\n",
      "(eva) setAmplifications(1000, 10000)\n",
      "(eva) showMeasurements()\n",
      "(eva) ['temperatures']\n",
      "(eva) setMeasurement('temperatures')\n",
      "(eva) showKeys()\n",
      "(eva) ['heater_00000.013muW', 'heater_00000.070muW', 'heater_03135.622muW', 'no_heater']\n",
      "(eva) setKeys([7, -3, 1e-06, 'no_heater'])\n",
      "(eva) setV(-0.0013, 0.0013, 1300)\n",
      "(eva) getMaps()\n",
      "100%|██████████| 150/150 [00:04<00:00, 30.18it/s]\n",
      "(eva) setT(0, 1.5, 1500)\n",
      "(eva) getMapsT()\n",
      "(eva) saveData()\n"
     ]
    }
   ],
   "source": [
    "# Evaluate Temperature Study (low res, cool down)\n",
    "%matplotlib inline\n",
    "from utilities.baseevaluation import BaseEvaluation\n",
    "eva = BaseEvaluation('eva')\n",
    "eva.title = 'Temperature Study (low res, cool down)'\n",
    "eva.sub_folder = 'temperature studies/'\n",
    "eva.file_folder = '24 07 OI-24d-10/unbroken/24 08 13 temperature study/'\n",
    "eva.file_name = 'OI-24d-10 24-08-14 temperature study 9.hdf5'\n",
    "eva.setAmplifications(1000, 10000)\n",
    "eva.showMeasurements()\n",
    "eva.setMeasurement('temperatures')\n",
    "eva.showKeys()\n",
    "eva.setKeys()\n",
    "eva.setV(1.3e-3, voltage_bins=1300)\n",
    "eva.getMaps()\n",
    "eva.setT(0, 1.5, 1500)\n",
    "eva.getMapsT()\n",
    "eva.saveData()\n",
    "# eva.showFile()\n",
    "# eva.showData()"
   ]
  },
  {
   "cell_type": "code",
   "execution_count": 10,
   "metadata": {},
   "outputs": [
    {
     "name": "stderr",
     "output_type": "stream",
     "text": [
      "(eva) ... BaseClass initialized.\n",
      "(eva) ... BaseEvaluation initialized.\n",
      "(eva) title = Temperature Study (warm up)\n",
      "(eva) sub_folder = temperature studies/\n",
      "(eva) file_folder = 24 07 OI-24d-10/unbroken/24 08 13 temperature study/\n",
      "(eva) file_name = OI-24d-10 24-08-14 temperature study A.hdf5\n",
      "(eva) setAmplifications(1000, 10000)\n",
      "(eva) showMeasurements()\n",
      "(eva) ['temperatures_down', 'temperatures_up']\n",
      "(eva) setMeasurement('temperatures_up')\n"
     ]
    },
    {
     "name": "stderr",
     "output_type": "stream",
     "text": [
      "(eva) showKeys()\n",
      "(eva) ['heater_00000.013muW', 'heater_00000.070muW', 'heater_03135.622muW', 'no_heater']\n",
      "(eva) setKeys([7, -3, 1e-06, 'no_heater'])\n",
      "(eva) setV(-0.0014, 0.0014, 1400)\n",
      "(eva) getMaps()\n",
      "100%|██████████| 150/150 [00:13<00:00, 10.93it/s]\n",
      "(eva) setT(0, 1.5, 1500)\n",
      "(eva) getMapsT()\n",
      "(eva) saveData()\n"
     ]
    }
   ],
   "source": [
    "# Evaluate Temperature Study (warm up)\n",
    "%matplotlib inline\n",
    "from utilities.baseevaluation import BaseEvaluation\n",
    "eva = BaseEvaluation('eva')\n",
    "eva.title = 'Temperature Study (warm up)'\n",
    "eva.sub_folder = 'temperature studies/'\n",
    "eva.file_folder = '24 07 OI-24d-10/unbroken/24 08 13 temperature study/'\n",
    "eva.file_name = 'OI-24d-10 24-08-14 temperature study A.hdf5'\n",
    "eva.setAmplifications(1000, 10000)\n",
    "eva.showMeasurements()\n",
    "eva.setMeasurement('temperatures_up')\n",
    "eva.showKeys()\n",
    "eva.setKeys([7, -3, 1e-6, 'no_heater'])\n",
    "eva.setV(1.4e-3, voltage_bins=1400)\n",
    "eva.getMaps()\n",
    "eva.setT(0, 1.5, 1500)\n",
    "eva.getMapsT()\n",
    "eva.saveData()\n",
    "# eva.showFile()\n",
    "# eva.showData()"
   ]
  },
  {
   "cell_type": "code",
   "execution_count": 11,
   "metadata": {},
   "outputs": [
    {
     "name": "stderr",
     "output_type": "stream",
     "text": [
      "(eva) ... BaseClass initialized.\n",
      "(eva) ... BaseEvaluation initialized.\n",
      "(eva) title = Temperature Study (cool down)\n",
      "(eva) sub_folder = temperature studies/\n",
      "(eva) file_folder = 24 07 OI-24d-10/unbroken/24 08 13 temperature study/\n",
      "(eva) file_name = OI-24d-10 24-08-14 temperature study A.hdf5\n"
     ]
    },
    {
     "name": "stderr",
     "output_type": "stream",
     "text": [
      "(eva) setAmplifications(1000, 10000)\n",
      "(eva) showMeasurements()\n",
      "(eva) ['temperatures_down', 'temperatures_up']\n",
      "(eva) setMeasurement('temperatures_down')\n",
      "(eva) showKeys()\n",
      "(eva) ['heater_00000.013muW', 'heater_00000.070muW', 'heater_03135.622muW', 'no_heater']\n",
      "(eva) setKeys([7, -3, 1e-06, 'no_heater'])\n",
      "(eva) setV(-0.0014, 0.0014, 1400)\n",
      "(eva) getMaps()\n",
      "100%|██████████| 150/150 [00:15<00:00,  9.98it/s]\n",
      "(eva) setT(0, 1.5, 1500)\n",
      "(eva) getMapsT()\n",
      "(eva) saveData()\n"
     ]
    }
   ],
   "source": [
    "# Evaluate Temperature Study (cool down)\n",
    "%matplotlib inline\n",
    "from utilities.baseevaluation import BaseEvaluation\n",
    "eva = BaseEvaluation('eva')\n",
    "eva.title = 'Temperature Study (cool down)'\n",
    "eva.sub_folder = 'temperature studies/'\n",
    "eva.file_folder = '24 07 OI-24d-10/unbroken/24 08 13 temperature study/'\n",
    "eva.file_name = 'OI-24d-10 24-08-14 temperature study A.hdf5'\n",
    "eva.setAmplifications(1000, 10000)\n",
    "eva.showMeasurements()\n",
    "eva.setMeasurement('temperatures_down')\n",
    "eva.showKeys()\n",
    "eva.setKeys([7, -3, 1e-6, 'no_heater'])\n",
    "eva.setV(1.4e-3, voltage_bins=1400)\n",
    "eva.getMaps()\n",
    "eva.setT(0, 1.5, 1500)\n",
    "eva.getMapsT()\n",
    "eva.saveData()\n",
    "# eva.showFile()\n",
    "# eva.showData()"
   ]
  },
  {
   "cell_type": "markdown",
   "metadata": {},
   "source": [
    "# Plot"
   ]
  },
  {
   "cell_type": "code",
   "execution_count": 25,
   "metadata": {},
   "outputs": [
    {
     "name": "stderr",
     "output_type": "stream",
     "text": [
      "(eva) ... BaseClass initialized.\n",
      "(eva) ... BaseEvaluation initialized.\n",
      "(eva) ... BasePlotting initialized.\n"
     ]
    },
    {
     "name": "stderr",
     "output_type": "stream",
     "text": [
      "(eva) title = Temperature Study (incomplete, test)\n",
      "(eva) sub_folder = temperature studies/\n",
      "(eva) loadData()\n",
      "(eva) y_key = T_axis_up_K\n",
      "(eva) z_key = dIdV_up_T\n",
      "(eva) i_key = I_up_T_nA_abs\n",
      "(eva) didv_key = dIdV_up_T\n",
      "(eva) n_key = heater_power_mW_down\n",
      "(eva) y_lim = (0, 1.5)\n",
      "(eva) x_lim = (-1.3, 1.3)\n",
      "(eva) z_lim = (0, 0.2)\n",
      "(eva) v_lim = 0.6\n",
      "(eva) values = [0.1, 1, 1.2, 1.3]\n",
      "(eva) showAll()\n",
      "(eva) saveAll() to figures/Temperature Study (incomplete, test)\n",
      "(eva) saveData()\n"
     ]
    }
   ],
   "source": [
    "# Plot Temperature Study (incomplete, test)\n",
    "%matplotlib qt\n",
    "eva = BasePlotting('eva')\n",
    "eva.title = 'Temperature Study (incomplete, test)'\n",
    "eva.sub_folder = 'temperature studies/'\n",
    "\n",
    "eva.loadData()\n",
    "eva.y_key = \"T_axis_up_K\"\n",
    "eva.z_key = \"dIdV_up_T\"\n",
    "eva.i_key = \"I_up_T_nA_abs\"\n",
    "eva.didv_key = \"dIdV_up_T\"\n",
    "eva.n_key = \"heater_power_mW_down\"\n",
    "\n",
    "eva.y_lim = (0, 1.5)\n",
    "eva.x_lim = (-1.3, 1.3)\n",
    "eva.z_lim = (0, .2)\n",
    "eva.v_lim = 0.6\n",
    "\n",
    "eva.values = [.1, 1, 1.2, 1.3]\n",
    "\n",
    "eva.showAll()\n",
    "eva.saveAll()\n",
    "eva.saveData()\n",
    "# eva.showFile()"
   ]
  },
  {
   "cell_type": "code",
   "execution_count": 26,
   "metadata": {},
   "outputs": [
    {
     "name": "stderr",
     "output_type": "stream",
     "text": [
      "(eva) ... BaseClass initialized.\n",
      "(eva) ... BaseEvaluation initialized.\n",
      "(eva) ... BasePlotting initialized.\n",
      "(eva) title = Temperature Study (low res, warm up)\n",
      "(eva) sub_folder = temperature studies/\n",
      "(eva) loadData()\n",
      "(eva) y_key = T_axis_up_K\n",
      "(eva) z_key = dIdV_up_T\n",
      "(eva) i_key = I_up_T_nA_abs\n",
      "(eva) didv_key = dIdV_up_T\n",
      "(eva) n_key = heater_power_mW_down\n",
      "(eva) y_lim = (0, 1.5)\n",
      "(eva) x_lim = (-1.3, 1.3)\n",
      "(eva) z_lim = (0, 0.2)\n",
      "(eva) v_lim = 0.6\n",
      "(eva) values = [0.1, 1, 1.2, 1.3, 1.37]\n",
      "(eva) showAll()\n",
      "(eva) saveAll() to figures/Temperature Study (low res, warm up)\n",
      "(eva) saveData()\n"
     ]
    }
   ],
   "source": [
    "# Plot Temperature Study (low res, warm up)\n",
    "%matplotlib qt\n",
    "eva = BasePlotting('eva')\n",
    "eva.title = 'Temperature Study (low res, warm up)'\n",
    "eva.sub_folder = 'temperature studies/'\n",
    "\n",
    "eva.loadData()\n",
    "eva.y_key = \"T_axis_up_K\"\n",
    "eva.z_key = \"dIdV_up_T\"\n",
    "eva.i_key = \"I_up_T_nA_abs\"\n",
    "eva.didv_key = \"dIdV_up_T\"\n",
    "eva.n_key = \"heater_power_mW_down\"\n",
    "\n",
    "eva.y_lim = (0, 1.5)\n",
    "eva.x_lim = (-1.3, 1.3)\n",
    "eva.z_lim = (0, .2)\n",
    "eva.v_lim = 0.6\n",
    "\n",
    "eva.values = [.1, 1, 1.2, 1.3, 1.37]\n",
    "\n",
    "eva.showAll()\n",
    "eva.saveAll()\n",
    "eva.saveData()\n",
    "# eva.showFile()"
   ]
  },
  {
   "cell_type": "code",
   "execution_count": 27,
   "metadata": {},
   "outputs": [
    {
     "name": "stderr",
     "output_type": "stream",
     "text": [
      "(eva) ... BaseClass initialized.\n",
      "(eva) ... BaseEvaluation initialized.\n",
      "(eva) ... BasePlotting initialized.\n",
      "(eva) title = Temperature Study (low res, cool down)\n",
      "(eva) sub_folder = temperature studies/\n",
      "(eva) loadData()\n",
      "(eva) y_key = T_axis_up_K\n",
      "(eva) z_key = dIdV_up_T\n",
      "(eva) i_key = I_up_T_nA_abs\n",
      "(eva) didv_key = dIdV_up_T\n",
      "(eva) n_key = heater_power_mW_down\n",
      "(eva) y_lim = (0, 1.5)\n",
      "(eva) x_lim = (-1.3, 1.3)\n",
      "(eva) z_lim = (0, 0.2)\n",
      "(eva) v_lim = 0.6\n",
      "(eva) values = [0.1, 1, 1.2, 1.3, 1.37]\n",
      "(eva) showAll()\n",
      "(eva) saveAll() to figures/Temperature Study (low res, cool down)\n",
      "(eva) saveData()\n"
     ]
    }
   ],
   "source": [
    "# Plot Temperature Study (low res, cool down)\n",
    "%matplotlib qt\n",
    "eva = BasePlotting('eva')\n",
    "eva.title = 'Temperature Study (low res, cool down)'\n",
    "eva.sub_folder = 'temperature studies/'\n",
    "\n",
    "eva.loadData()\n",
    "eva.y_key = \"T_axis_up_K\"\n",
    "eva.z_key = \"dIdV_up_T\"\n",
    "eva.i_key = \"I_up_T_nA_abs\"\n",
    "eva.didv_key = \"dIdV_up_T\"\n",
    "eva.n_key = \"heater_power_mW_down\"\n",
    "\n",
    "eva.y_lim = (0, 1.5)\n",
    "eva.x_lim = (-1.3, 1.3)\n",
    "eva.z_lim = (0, .2)\n",
    "eva.v_lim = 0.6\n",
    "\n",
    "eva.values = [.1, 1, 1.2, 1.3, 1.37]\n",
    "\n",
    "eva.showAll()\n",
    "eva.saveAll()\n",
    "eva.saveData()\n",
    "# eva.showFile()"
   ]
  },
  {
   "cell_type": "code",
   "execution_count": 28,
   "metadata": {},
   "outputs": [
    {
     "name": "stderr",
     "output_type": "stream",
     "text": [
      "(eva) ... BaseClass initialized.\n",
      "(eva) ... BaseEvaluation initialized.\n",
      "(eva) ... BasePlotting initialized.\n",
      "(eva) title = Temperature Study (warm up)\n",
      "(eva) sub_folder = temperature studies/\n",
      "(eva) loadData()\n",
      "(eva) y_key = T_axis_up_K\n",
      "(eva) z_key = dIdV_up_T\n",
      "(eva) i_key = I_up_T_nA_abs\n",
      "(eva) didv_key = dIdV_up_T\n",
      "(eva) n_key = heater_power_mW_down\n",
      "(eva) y_lim = (0, 1.5)\n",
      "(eva) x_lim = (-1.3, 1.3)\n",
      "(eva) z_lim = (0, 0.2)\n",
      "(eva) v_lim = 0.6\n",
      "(eva) values = [0.1, 1, 1.2, 1.3, 1.37, 1.4]\n",
      "(eva) showAll()\n",
      "(eva) saveAll() to figures/Temperature Study (warm up)\n",
      "(eva) saveData()\n"
     ]
    }
   ],
   "source": [
    "# Plot Temperature Study (warm up)\n",
    "%matplotlib qt\n",
    "eva = BasePlotting('eva')\n",
    "eva.title = 'Temperature Study (warm up)'\n",
    "eva.sub_folder = 'temperature studies/'\n",
    "\n",
    "eva.loadData()\n",
    "eva.y_key = \"T_axis_up_K\"\n",
    "eva.z_key = \"dIdV_up_T\"\n",
    "eva.i_key = \"I_up_T_nA_abs\"\n",
    "eva.didv_key = \"dIdV_up_T\"\n",
    "eva.n_key = \"heater_power_mW_down\"\n",
    "\n",
    "eva.y_lim = (0, 1.5)\n",
    "eva.x_lim = (-1.3, 1.3)\n",
    "eva.z_lim = (0, .2)\n",
    "eva.v_lim = 0.6\n",
    "\n",
    "eva.values = [.1, 1, 1.2, 1.3, 1.37, 1.4]\n",
    "\n",
    "eva.showAll()\n",
    "eva.saveAll()\n",
    "eva.saveData()\n",
    "# eva.showFile()"
   ]
  },
  {
   "cell_type": "code",
   "execution_count": null,
   "metadata": {},
   "outputs": [
    {
     "name": "stderr",
     "output_type": "stream",
     "text": [
      "(eva) ... BaseClass initialized.\n"
     ]
    },
    {
     "name": "stderr",
     "output_type": "stream",
     "text": [
      "(eva) ... BaseEvaluation initialized.\n",
      "(eva) ... BasePlotting initialized.\n",
      "(eva) title = Temperature Study (cool down)\n",
      "(eva) sub_folder = temperature studies/\n",
      "(eva) loadData()\n",
      "(eva) y_key = T_axis_up_K\n",
      "(eva) z_key = dIdV_up_T\n",
      "(eva) i_key = I_up_T_nA_abs\n",
      "(eva) didv_key = dIdV_up_T\n",
      "(eva) n_key = heater_power_mW_down\n",
      "(eva) y_lim = (0, 1.5)\n",
      "(eva) x_lim = (-1.3, 1.3)\n",
      "(eva) z_lim = (0, 0.2)\n",
      "(eva) v_lim = 0.6\n",
      "(eva) values = [0.1, 1, 1.2, 1.3, 1.37, 1.4]\n",
      "(eva) showAll()\n",
      "(eva) saveAll() to figures/Temperature Study (cool down)\n",
      "(eva) saveData()\n"
     ]
    },
    {
     "ename": "",
     "evalue": "",
     "output_type": "error",
     "traceback": [
      "\u001b[1;31mThe Kernel crashed while executing code in the current cell or a previous cell. \n",
      "\u001b[1;31mPlease review the code in the cell(s) to identify a possible cause of the failure. \n",
      "\u001b[1;31mClick <a href='https://aka.ms/vscodeJupyterKernelCrash'>here</a> for more info. \n",
      "\u001b[1;31mView Jupyter <a href='command:jupyter.viewOutput'>log</a> for further details."
     ]
    }
   ],
   "source": [
    "# Plot Temperature Study (cool down)\n",
    "%matplotlib qt\n",
    "eva = BasePlotting('eva')\n",
    "eva.title = 'Temperature Study (cool down)'\n",
    "eva.sub_folder = 'temperature studies/'\n",
    "\n",
    "eva.loadData()\n",
    "eva.y_key = \"T_axis_up_K\"\n",
    "eva.z_key = \"dIdV_up_T\"\n",
    "eva.i_key = \"I_up_T_nA_abs\"\n",
    "eva.didv_key = \"dIdV_up_T\"\n",
    "eva.n_key = \"heater_power_mW_down\"\n",
    "\n",
    "eva.y_lim = (0, 1.5)\n",
    "eva.x_lim = (-1.3, 1.3)\n",
    "eva.z_lim = (0, .2)\n",
    "eva.v_lim = 0.6\n",
    "\n",
    "eva.values = [.1, 1, 1.2, 1.3, 1.37, 1.4]\n",
    "\n",
    "eva.showAll()\n",
    "eva.saveAll()\n",
    "eva.saveData()\n",
    "# eva.showFile()"
   ]
  },
  {
   "cell_type": "code",
   "execution_count": null,
   "metadata": {},
   "outputs": [],
   "source": []
  },
  {
   "cell_type": "code",
   "execution_count": null,
   "metadata": {},
   "outputs": [],
   "source": []
  },
  {
   "cell_type": "code",
   "execution_count": null,
   "metadata": {},
   "outputs": [],
   "source": []
  },
  {
   "cell_type": "code",
   "execution_count": null,
   "metadata": {},
   "outputs": [],
   "source": []
  }
 ],
 "metadata": {
  "kernelspec": {
   "display_name": ".venv",
   "language": "python",
   "name": "python3"
  },
  "language_info": {
   "codemirror_mode": {
    "name": "ipython",
    "version": 3
   },
   "file_extension": ".py",
   "mimetype": "text/x-python",
   "name": "python",
   "nbconvert_exporter": "python",
   "pygments_lexer": "ipython3",
   "version": "3.12.3"
  }
 },
 "nbformat": 4,
 "nbformat_minor": 2
}
