{
 "cells": [
  {
   "cell_type": "code",
   "execution_count": 1,
   "metadata": {},
   "outputs": [],
   "source": [
    "# initialize stuff\n",
    "%load_ext autoreload\n",
    "%autoreload 2\n",
    "%matplotlib inline\n",
    "\n",
    "import importlib\n",
    "import logging\n",
    "import sys\n",
    "from importlib import reload\n",
    "\n",
    "import matplotlib.pyplot as plt\n",
    "import numpy as np\n",
    "\n",
    "sys.path.append(\"/Users/oliver/Documents/p5control-bluefors-evaluation\")\n",
    "sys.path.append(\"/home/oliver/Documents/p5control-bluefors-evaluation\")\n",
    "\n",
    "from utilities.baseplotting import BasePlotting\n",
    "from utilities.corporate_design_colors_v4 import cmap\n",
    "from utilities.key_database import PLOT_KEYS\n",
    "from utilities.plot_all import plot_all\n",
    "\n",
    "importlib.reload(sys.modules[\"utilities.baseplotting\"])\n",
    "importlib.reload(sys.modules[\"utilities.plot_all\"])\n",
    "\n",
    "plt.ioff()\n",
    "reload(logging)\n",
    "logger = logging.getLogger(__name__)\n",
    "logging.basicConfig(level=logging.INFO, format='%(message)s')"
   ]
  },
  {
   "cell_type": "markdown",
   "metadata": {},
   "source": [
    "# Gate Studies"
   ]
  },
  {
   "cell_type": "code",
   "execution_count": 2,
   "metadata": {},
   "outputs": [
    {
     "name": "stderr",
     "output_type": "stream",
     "text": [
      "(eva) ... BaseClass initialized.\n",
      "(eva) ... BaseEvaluation initialized.\n",
      "(eva) title = Gate Study (-0.12 to 0.12V)\n",
      "(eva) sub_folder = gate studies\n",
      "(eva) file_folder = 24 07 OI-24d-10/unbroken/24 07 22 gate study/\n",
      "(eva) file_name = OI-24d-10 24-07-22 gate study A.hdf5\n",
      "(eva) setAmplifications(1000, 1000)\n",
      "(eva) showMeasurements()\n",
      "(eva) ['gate_voltages vna_nanGHz_nanV magnet_+0.00mT']\n",
      "(eva) setMeasurement('gate_voltages vna_nanGHz_nanV magnet_+0.00mT')\n",
      "(eva) showKeys()\n",
      "(eva) ['gate_+0.0mV', 'gate_+1.0mV', 'gate_-9e+01mV', 'no_gate']\n",
      "(eva) setKeys([5, -2, 0.001, 'no_gate'])\n",
      "(eva) setV(-0.0014, 0.0014, 1400)\n",
      "(eva) getMaps()\n",
      "100%|██████████| 205/205 [00:06<00:00, 33.42it/s]\n",
      "(eva) saveData()\n"
     ]
    }
   ],
   "source": [
    "# Evaluate Gate Study (-0.12 to 0.12V)\n",
    "%matplotlib inline\n",
    "from utilities.baseevaluation import BaseEvaluation\n",
    "\n",
    "eva = BaseEvaluation('eva')\n",
    "eva.title = 'Gate Study (-0.12 to 0.12V)'\n",
    "eva.sub_folder = 'gate studies'\n",
    "eva.file_folder = '24 07 OI-24d-10/unbroken/24 07 22 gate study/'\n",
    "eva.file_name = 'OI-24d-10 24-07-22 gate study A.hdf5'\n",
    "eva.setAmplifications(1000, 1000)\n",
    "eva.showMeasurements()\n",
    "eva.setMeasurement('gate_voltages vna_nanGHz_nanV magnet_+0.00mT')\n",
    "eva.showKeys()\n",
    "eva.setKeys([5, -2, 1e-3, 'no_gate'])\n",
    "eva.setV(1.4e-3, voltage_bins=1400)\n",
    "eva.getMaps()\n",
    "eva.saveData()\n",
    "# eva.showFile()\n",
    "# eva.showData()"
   ]
  },
  {
   "cell_type": "code",
   "execution_count": 3,
   "metadata": {},
   "outputs": [
    {
     "name": "stderr",
     "output_type": "stream",
     "text": [
      "(eva) ... BaseClass initialized.\n",
      "(eva) ... BaseEvaluation initialized.\n",
      "(eva) title = Gate Study (0.12 to 0.5V)\n",
      "(eva) sub_folder = gate studies\n",
      "(eva) file_folder = 24 07 OI-24d-10/unbroken/24 07 23 long gate study/\n",
      "(eva) file_name = OI-24d-10 24-07-23 long gate study 1.hdf5\n",
      "(eva) setAmplifications(1000, 1000)\n",
      "(eva) showMeasurements()\n",
      "(eva) ['gate_voltages vna_nanGHz_nanV magnet_+0.00mT']\n",
      "(eva) setMeasurement('gate_voltages vna_nanGHz_nanV magnet_+0.00mT')\n",
      "(eva) showKeys()\n",
      "(eva) ['gate_+1.2e+02mV', 'gate_+1.3e+02mV', 'gate_+5e+02mV', 'no_gate']\n",
      "(eva) setKeys([5, -2, 0.001, 'no_gate'])\n",
      "(eva) setV(-0.0014, 0.0014, 1400)\n",
      "(eva) getMaps()\n",
      "100%|██████████| 48/48 [00:12<00:00,  3.92it/s]\n",
      "(eva) saveData()\n"
     ]
    }
   ],
   "source": [
    "# Evaluate Gate Study (0.12 to 0.5V)\n",
    "%matplotlib inline\n",
    "from utilities.baseevaluation import BaseEvaluation\n",
    "eva = BaseEvaluation('eva')\n",
    "eva.title = 'Gate Study (0.12 to 0.5V)'\n",
    "eva.sub_folder = 'gate studies'\n",
    "eva.file_folder = '24 07 OI-24d-10/unbroken/24 07 23 long gate study/'\n",
    "eva.file_name = 'OI-24d-10 24-07-23 long gate study 1.hdf5'\n",
    "eva.setAmplifications(1000, 1000)\n",
    "eva.showMeasurements()\n",
    "eva.setMeasurement('gate_voltages vna_nanGHz_nanV magnet_+0.00mT')\n",
    "eva.showKeys()\n",
    "eva.setKeys([5, -2, 1e-3, 'no_gate'])\n",
    "eva.setV(1.4e-3, voltage_bins=1400)\n",
    "eva.getMaps()\n",
    "# eva.getMaps(bounds = [0, -1])\n",
    "eva.saveData()\n",
    "# eva.showFile()\n",
    "# eva.showData()"
   ]
  },
  {
   "cell_type": "code",
   "execution_count": 4,
   "metadata": {},
   "outputs": [
    {
     "name": "stderr",
     "output_type": "stream",
     "text": [
      "(eva) ... BaseClass initialized.\n",
      "(eva) ... BaseEvaluation initialized.\n",
      "(eva) title = Gate Study (0.6 to 1.0V)\n",
      "(eva) sub_folder = gate studies\n",
      "(eva) file_folder = 24 07 OI-24d-10/unbroken/24 07 23 long gate study/\n",
      "(eva) file_name = OI-24d-10 24-07-23 long gate study 4.hdf5\n",
      "(eva) setAmplifications(1000, 1000)\n",
      "(eva) showMeasurements()\n",
      "(eva) ['gate_voltages vna_nanGHz_nanV magnet_+0.00mT']\n",
      "(eva) setMeasurement('gate_voltages vna_nanGHz_nanV magnet_+0.00mT')\n",
      "(eva) showKeys()\n",
      "(eva) ['gate_+1.1e+03mV', 'gate_+1.2e+03mV', 'gate_+9e+02mV', 'no_gate']\n",
      "(eva) setKeys([5, -2, 0.001, 'no_gate'])\n",
      "(eva) setV(-0.0014, 0.0014, 1400)\n",
      "(eva) getMaps()\n",
      "100%|██████████| 52/52 [00:24<00:00,  2.08it/s]\n",
      "(eva) saveData()\n"
     ]
    }
   ],
   "source": [
    "# Evaluate Gate Study (0.6 to 1.0V)\n",
    "%matplotlib inline\n",
    "from utilities.baseevaluation import BaseEvaluation\n",
    "eva = BaseEvaluation('eva')\n",
    "eva.title = 'Gate Study (0.6 to 1.0V)'\n",
    "eva.sub_folder = 'gate studies'\n",
    "eva.file_folder = '24 07 OI-24d-10/unbroken/24 07 23 long gate study/'\n",
    "eva.file_name  = 'OI-24d-10 24-07-23 long gate study 4.hdf5'\n",
    "eva.setAmplifications(1000, 1000)\n",
    "eva.showMeasurements()\n",
    "eva.setMeasurement('gate_voltages vna_nanGHz_nanV magnet_+0.00mT')\n",
    "eva.showKeys()\n",
    "eva.setKeys([5, -2, 1e-3, 'no_gate'])\n",
    "eva.setV(1.4e-3, voltage_bins=1400)\n",
    "# eva.getMaps()\n",
    "eva.getMaps(bounds = [0, 41])\n",
    "# Keys over 1V sind mehrfach befüllt. Fehlerhaftes Messscript.\n",
    "eva.saveData()\n",
    "# eva.showFile()\n",
    "# eva.showData()"
   ]
  },
  {
   "cell_type": "code",
   "execution_count": 5,
   "metadata": {},
   "outputs": [
    {
     "name": "stderr",
     "output_type": "stream",
     "text": [
      "(eva) ... BaseClass initialized.\n",
      "(eva) ... BaseEvaluation initialized.\n",
      "(eva) title = Gate Study (0.5 to 1.0V)\n",
      "(eva) sub_folder = gate studies\n",
      "(eva) file_folder = 24 07 OI-24d-10/unbroken/24 07 25 gate study up to 2.5V/\n",
      "(eva) file_name = OI-24d-10 24-07-25 long gate study 0.hdf5\n",
      "(eva) setAmplifications(1000, 1000)\n",
      "(eva) showMeasurements()\n",
      "(eva) ['gate_voltages vna_nanGHz_nanV magnet_+0.00mT']\n",
      "(eva) setMeasurement('gate_voltages vna_nanGHz_nanV magnet_+0.00mT')\n",
      "(eva) showKeys()\n",
      "(eva) ['gate_+1.1e+03mV', 'gate_+1.2e+03mV', 'gate_+9e+02mV', 'no_gate']\n",
      "(eva) setKeys([5, -2, 0.001, 'no_gate'])\n",
      "(eva) setV(-0.0014, 0.0014, 1400)\n",
      "(eva) getMaps()\n",
      "100%|██████████| 66/66 [00:10<00:00,  6.35it/s]\n",
      "(eva) saveData()\n"
     ]
    }
   ],
   "source": [
    "# Evaluate Gate Study (0.5 to 1.0V)\n",
    "%matplotlib inline\n",
    "from utilities.baseevaluation import BaseEvaluation\n",
    "eva = BaseEvaluation('eva')\n",
    "eva.title = 'Gate Study (0.5 to 1.0V)'\n",
    "eva.sub_folder = 'gate studies'\n",
    "eva.file_folder = '24 07 OI-24d-10/unbroken/24 07 25 gate study up to 2.5V/'\n",
    "eva.file_name = 'OI-24d-10 24-07-25 long gate study 0.hdf5'\n",
    "eva.setAmplifications(1000, 1000)\n",
    "eva.showMeasurements()\n",
    "eva.setMeasurement('gate_voltages vna_nanGHz_nanV magnet_+0.00mT')\n",
    "eva.showKeys()\n",
    "eva.setKeys([5, -2, 1e-3, 'no_gate'])\n",
    "eva.setV(1.4e-3, voltage_bins=1400)\n",
    "# eva.getMaps()\n",
    "eva.getMaps(bounds = [0, -16])\n",
    "# Keys over 1V sind mehrfach befüllt. Fehlerhaftes Messscript.\n",
    "eva.saveData()\n",
    "# eva.showFile()\n",
    "# eva.showData()"
   ]
  },
  {
   "cell_type": "code",
   "execution_count": 6,
   "metadata": {},
   "outputs": [
    {
     "name": "stderr",
     "output_type": "stream",
     "text": [
      "(eva) ... BaseClass initialized.\n",
      "(eva) ... BaseEvaluation initialized.\n",
      "(eva) title = Gate Study (fine, 0 to 10mV)\n",
      "(eva) sub_folder = gate studies\n",
      "(eva) file_folder = 24 07 OI-24d-10/unbroken/24 07 23 fine gate study/\n",
      "(eva) file_name = OI-24d-10 24-07-23 fine gate study 0.hdf5\n",
      "(eva) setAmplifications(1000, 1000)\n",
      "(eva) showMeasurements()\n",
      "(eva) ['gate_voltages vna_nanGHz_nanV magnet_+0.00mT']\n",
      "(eva) setMeasurement('gate_voltages vna_nanGHz_nanV magnet_+0.00mT')\n",
      "(eva) showKeys()\n",
      "(eva) ['gate_+0.0mV', 'gate_+0.1mV', 'gate_+9.9mV', 'no_gate']\n",
      "(eva) setKeys([5, -2, 0.001, 'no_gate'])\n",
      "(eva) setV(-0.0014, 0.0014, 1400)\n",
      "(eva) getMaps()\n",
      "100%|██████████| 101/101 [00:01<00:00, 51.11it/s]\n",
      "(eva) saveData()\n"
     ]
    }
   ],
   "source": [
    "# Evaluate Gate Study (fine, 0 to 10mV)\n",
    "%matplotlib inline\n",
    "from utilities.baseevaluation import BaseEvaluation\n",
    "eva = BaseEvaluation('eva')\n",
    "eva.title = 'Gate Study (fine, 0 to 10mV)'\n",
    "eva.sub_folder = 'gate studies'\n",
    "eva.file_folder = '24 07 OI-24d-10/unbroken/24 07 23 fine gate study/'\n",
    "eva.file_name  = 'OI-24d-10 24-07-23 fine gate study 0.hdf5'\n",
    "eva.setAmplifications(1000, 1000)\n",
    "eva.showMeasurements()\n",
    "eva.setMeasurement('gate_voltages vna_nanGHz_nanV magnet_+0.00mT')\n",
    "eva.showKeys()\n",
    "eva.setKeys([5, -2, 1e-3, 'no_gate'])\n",
    "eva.setV(1.4e-3, voltage_bins=1400)\n",
    "eva.getMaps()\n",
    "eva.saveData()\n",
    "# eva.showFile()\n",
    "# eva.showData()"
   ]
  },
  {
   "cell_type": "code",
   "execution_count": 3,
   "metadata": {},
   "outputs": [
    {
     "name": "stderr",
     "output_type": "stream",
     "text": [
      "(eva) ... BaseClass initialized.\n",
      "(eva) ... BaseEvaluation initialized.\n",
      "(eva) title = Gate Study (-2.5 to 2.5V)\n",
      "(eva) sub_folder = gate studies\n",
      "(eva) file_folder = 24 07 OI-24d-10/unbroken/24 07 25 high gate study -2.5 to 2.5V/\n",
      "(eva) file_name = OI-24d-10 24-07-26 high gate study 1.hdf5\n",
      "(eva) setAmplifications(1000, 1000)\n",
      "(eva) showMeasurements()\n",
      "(eva) ['gate_voltages']\n",
      "(eva) setMeasurement('gate_voltages')\n",
      "(eva) showKeys()\n",
      "(eva) ['gate_+0.0000mV', 'gate_+10.0000mV', 'gate_-995.0000mV', 'no_gate']\n",
      "(eva) setKeys([5, -2, 0.001, 'no_gate'])\n",
      "(eva) setV(-0.0014, 0.0014, 1400)\n",
      "(eva) getMaps()\n",
      "100%|██████████| 1001/1001 [00:33<00:00, 30.26it/s]\n",
      "/Users/oliver/Documents/p5control-bluefors-evaluation/utilities/baseevaluation.py:613: RuntimeWarning: Mean of empty slice\n",
      "  self.mapped[\"temperature_mean_down\"] = np.nanmean(\n",
      "(eva) saveData()\n"
     ]
    }
   ],
   "source": [
    "# Evaluate Gate Study (-2.5 to 2.5V)\n",
    "%matplotlib inline\n",
    "from utilities.baseevaluation import BaseEvaluation\n",
    "eva = BaseEvaluation('eva')\n",
    "eva.title = 'Gate Study (-2.5 to 2.5V)'\n",
    "eva.sub_folder = 'gate studies'\n",
    "eva.file_folder = '24 07 OI-24d-10/unbroken/24 07 25 high gate study -2.5 to 2.5V/'\n",
    "eva.file_name  = 'OI-24d-10 24-07-26 high gate study 1.hdf5'\n",
    "eva.setAmplifications(1000, 1000)\n",
    "eva.showMeasurements()\n",
    "eva.setMeasurement('gate_voltages')\n",
    "eva.showKeys()\n",
    "eva.setKeys()\n",
    "eva.setV(1.4e-3, voltage_bins=1400)\n",
    "eva.getMaps()\n",
    "eva.saveData()\n",
    "# eva.showFile()\n",
    "# eva.showData()"
   ]
  },
  {
   "cell_type": "markdown",
   "metadata": {},
   "source": [
    "### Chase down breaking point (inconsistent)"
   ]
  },
  {
   "cell_type": "code",
   "execution_count": 8,
   "metadata": {},
   "outputs": [
    {
     "name": "stderr",
     "output_type": "stream",
     "text": [
      "(eva) ... BaseClass initialized.\n",
      "(eva) ... BaseEvaluation initialized.\n",
      "(eva) title = Gate Study (The Chase 1 of 4)\n",
      "(eva) sub_folder = gate studies\n",
      "(eva) file_folder = 24 07 OI-24d-10/unbroken/24 07 29 gate study 1.15 to 1.05V/\n",
      "(eva) file_name = OI-24d-10 24-07-26 transistion gate study 0.hdf5\n",
      "(eva) setAmplifications(1000, 1000)\n",
      "(eva) showMeasurements()\n",
      "(eva) ['gate_voltages']\n",
      "(eva) setMeasurement('gate_voltages')\n",
      "(eva) showKeys()\n",
      "(eva) ['gate_+1050.0000mV', 'gate_+1050.2000mV', 'gate_+1150.0000mV', 'no_gate']\n",
      "(eva) setKeys([5, -2, 0.001, 'no_gate'])\n",
      "(eva) setV(-0.0014, 0.0014, 1400)\n",
      "(eva) getMaps()\n",
      "100%|██████████| 501/501 [00:20<00:00, 24.71it/s]\n",
      "(eva) saveData()\n"
     ]
    }
   ],
   "source": [
    "# Evaluate Gate Study (The Chase 1/4)\n",
    "%matplotlib inline\n",
    "from utilities.baseevaluation import BaseEvaluation\n",
    "eva = BaseEvaluation('eva')\n",
    "eva.title = 'Gate Study (The Chase 1 of 4)'\n",
    "eva.sub_folder = 'gate studies'\n",
    "eva.file_folder = '24 07 OI-24d-10/unbroken/24 07 29 gate study 1.15 to 1.05V/'\n",
    "eva.file_name = 'OI-24d-10 24-07-26 transistion gate study 0.hdf5'\n",
    "eva.setAmplifications(1000, 1000)\n",
    "eva.showMeasurements()\n",
    "eva.setMeasurement('gate_voltages')\n",
    "eva.showKeys()\n",
    "eva.setKeys()\n",
    "eva.setV(1.4e-3, voltage_bins=1400)\n",
    "eva.getMaps()\n",
    "eva.saveData()\n",
    "# eva.showFile()\n",
    "# eva.showData()"
   ]
  },
  {
   "cell_type": "code",
   "execution_count": 9,
   "metadata": {},
   "outputs": [
    {
     "name": "stderr",
     "output_type": "stream",
     "text": [
      "(eva) ... BaseClass initialized.\n",
      "(eva) ... BaseEvaluation initialized.\n",
      "(eva) title = Gate Study (The Chase 2 of 4)\n",
      "(eva) sub_folder = gate studies\n",
      "(eva) file_folder = 24 07 OI-24d-10/unbroken/24 07 29 transistion gate study 2/\n",
      "(eva) file_name = OI-24d-10 24-07-29 transistion gate study 1.hdf5\n",
      "(eva) setAmplifications(1000, 1000)\n",
      "(eva) showMeasurements()\n",
      "(eva) ['gate_voltages']\n",
      "(eva) setMeasurement('gate_voltages')\n",
      "(eva) showKeys()\n",
      "(eva) ['gate_+0.0000mV', 'gate_+10.0000mV', 'gate_+990.0000mV', 'no_gate']\n",
      "(eva) setKeys([5, -2, 0.001, 'no_gate'])\n",
      "(eva) setV(-0.0014, 0.0014, 1400)\n",
      "(eva) getMaps()\n",
      "100%|██████████| 161/161 [00:01<00:00, 90.58it/s]\n",
      "(eva) saveData()\n"
     ]
    }
   ],
   "source": [
    "# Evaluate Gate Study (The Chase 2/4)\n",
    "%matplotlib inline\n",
    "from utilities.baseevaluation import BaseEvaluation\n",
    "eva = BaseEvaluation('eva')\n",
    "eva.title = 'Gate Study (The Chase 2 of 4)'\n",
    "eva.sub_folder = 'gate studies'\n",
    "eva.file_folder = '24 07 OI-24d-10/unbroken/24 07 29 transistion gate study 2/'\n",
    "eva.file_name = 'OI-24d-10 24-07-29 transistion gate study 1.hdf5'\n",
    "eva.setAmplifications(1000, 1000)\n",
    "eva.showMeasurements()\n",
    "eva.setMeasurement('gate_voltages')\n",
    "eva.showKeys()\n",
    "eva.setKeys()\n",
    "eva.setV(1.4e-3, voltage_bins=1400)\n",
    "eva.getMaps()\n",
    "eva.saveData()\n",
    "# eva.showFile()\n",
    "# eva.showData()"
   ]
  },
  {
   "cell_type": "code",
   "execution_count": 10,
   "metadata": {},
   "outputs": [
    {
     "name": "stderr",
     "output_type": "stream",
     "text": [
      "(eva) ... BaseClass initialized.\n",
      "(eva) ... BaseEvaluation initialized.\n",
      "(eva) title = Gate Study (The Chase 3 of 4)\n",
      "(eva) sub_folder = gate studies\n",
      "(eva) file_folder = 24 07 OI-24d-10/unbroken/24 07 29 transistion gate study 3/\n",
      "(eva) file_name = OI-24d-10 24-07-29 transistion gate study 2.hdf5\n",
      "(eva) setAmplifications(1000, 1000)\n",
      "(eva) showMeasurements()\n",
      "(eva) ['gate_voltages']\n",
      "(eva) setMeasurement('gate_voltages')\n",
      "(eva) showKeys()\n",
      "(eva) ['gate_+1300.0000mV', 'gate_+1302.0000mV', 'gate_+1362.0000mV', 'no_gate']\n",
      "(eva) setKeys([5, -2, 0.001, 'no_gate'])\n",
      "(eva) setV(-0.0014, 0.0014, 1400)\n",
      "(eva) getMaps()\n",
      "  0%|          | 0/32 [00:00<?, ?it/s]"
     ]
    },
    {
     "name": "stderr",
     "output_type": "stream",
     "text": [
      "100%|██████████| 32/32 [00:00<00:00, 90.16it/s]\n",
      "(eva) saveData()\n"
     ]
    }
   ],
   "source": [
    "# Evaluate Gate Study (The Chase 3/4)\n",
    "%matplotlib inline\n",
    "from utilities.baseevaluation import BaseEvaluation\n",
    "eva = BaseEvaluation('eva')\n",
    "eva.title = 'Gate Study (The Chase 3 of 4)'\n",
    "eva.sub_folder = 'gate studies'\n",
    "eva.file_folder = '24 07 OI-24d-10/unbroken/24 07 29 transistion gate study 3/'\n",
    "eva.file_name = 'OI-24d-10 24-07-29 transistion gate study 2.hdf5'\n",
    "eva.setAmplifications(1000, 1000)\n",
    "eva.showMeasurements()\n",
    "eva.setMeasurement('gate_voltages')\n",
    "eva.showKeys()\n",
    "eva.setKeys()\n",
    "eva.setV(1.4e-3, voltage_bins=1400)\n",
    "# eva.trigger_down = None\n",
    "eva.getMaps()\n",
    "eva.saveData()\n",
    "# eva.showFile()\n",
    "# eva.showData()"
   ]
  },
  {
   "cell_type": "code",
   "execution_count": 11,
   "metadata": {},
   "outputs": [
    {
     "name": "stderr",
     "output_type": "stream",
     "text": [
      "(eva) ... BaseClass initialized.\n",
      "(eva) ... BaseEvaluation initialized.\n",
      "(eva) title = Gate Study (The Chase 4 of 4)\n",
      "(eva) sub_folder = gate studies\n",
      "(eva) file_folder = 24 07 OI-24d-10/unbroken/24 07 29 transistion gate study 3/\n",
      "(eva) file_name = OI-24d-10 24-07-29 transistion gate study 3.hdf5\n",
      "(eva) setAmplifications(1000, 1000)\n",
      "(eva) showMeasurements()\n",
      "(eva) ['gate_voltages']\n",
      "(eva) setMeasurement('gate_voltages')\n",
      "(eva) showKeys()\n",
      "(eva) ['gate_+1350.0000mV', 'gate_+1351.0000mV', 'gate_+1367.0000mV', 'no_gate']\n",
      "(eva) setKeys([5, -2, 0.001, 'no_gate'])\n",
      "(eva) setV(-0.0014, 0.0014, 1400)\n",
      "(eva) index_trigger_down = None\n",
      "(eva) specific_keys = ['gate_+1350.0000mV', 'gate_+1351.0000mV', 'gate_+1352.0000mV', 'gate_+1353.0000mV', 'gate_+1354.0000mV', 'gate_+1355.0000mV', 'gate_+1356.0000mV', 'gate_+1357.0000mV', 'gate_+1358.0000mV', 'gate_+1359.0000mV', 'gate_+1360.0000mV', 'gate_+1361.0000mV', 'gate_+1362.0000mV', 'gate_+1363.0000mV', 'gate_+1364.0000mV', 'gate_+1365.0000mV', 'gate_+1366.0000mV']\n",
      "(eva) getMaps()\n",
      "100%|██████████| 17/17 [00:00<00:00, 87.89it/s]\n",
      "/Users/oliver/Documents/p5control-bluefors-evaluation/utilities/baseevaluation.py:596: RuntimeWarning: Mean of empty slice\n",
      "  self.mapped[\"temperature_mean_up\"] = np.nanmean(\n",
      "(eva) saveData()\n"
     ]
    }
   ],
   "source": [
    "# Evaluate Gate Study (The Chase 4/4)\n",
    "%matplotlib inline\n",
    "from utilities.baseevaluation import BaseEvaluation\n",
    "eva = BaseEvaluation('eva')\n",
    "eva.title = 'Gate Study (The Chase 4 of 4)'\n",
    "eva.sub_folder = 'gate studies'\n",
    "eva.file_folder = '24 07 OI-24d-10/unbroken/24 07 29 transistion gate study 3/'\n",
    "eva.file_name = 'OI-24d-10 24-07-29 transistion gate study 3.hdf5'\n",
    "eva.setAmplifications(1000, 1000)\n",
    "eva.showMeasurements()\n",
    "eva.setMeasurement('gate_voltages')\n",
    "eva.showKeys()\n",
    "eva.setKeys()\n",
    "eva.setV(1.4e-3, voltage_bins=1400)\n",
    "eva.index_trigger_down = None\n",
    "eva.specific_keys = eva.specific_keys[:-1]\n",
    "eva.getMaps()\n",
    "eva.saveData()\n",
    "# eva.showFile()\n",
    "# eva.showData()"
   ]
  },
  {
   "cell_type": "markdown",
   "metadata": {},
   "source": [
    "# Plot"
   ]
  },
  {
   "cell_type": "code",
   "execution_count": 12,
   "metadata": {},
   "outputs": [
    {
     "name": "stderr",
     "output_type": "stream",
     "text": [
      "(eva) ... BaseClass initialized.\n",
      "(eva) ... BaseEvaluation initialized.\n",
      "(eva) ... BasePlotting initialized.\n",
      "(eva) title = Gate Study (-0.12 to 0.12V)\n",
      "(eva) sub_folder = gate studies\n",
      "(eva) loadData()\n",
      "(eva) y_key = V_gate_up_V\n",
      "(eva) y_lim = (None, None)\n",
      "(eva) x_lim = (-0.75, 0.75)\n",
      "(eva) z_lim = (0, 0.2)\n",
      "(eva) v_lim = 0.6\n",
      "(eva) n_show = False\n",
      "(eva) window_length = 40\n",
      "(eva) values = [0, -0.03, -0.06, -0.09, -0.12]\n",
      "(eva) showAll()\n",
      "(eva) saveAll() to figures/Gate Study (-0.12 to 0.12V)\n",
      "(eva) saveData()\n"
     ]
    }
   ],
   "source": [
    "# Plot Gate Study (-0.12 to 0.12V)\n",
    "%matplotlib qt\n",
    "eva = BasePlotting('eva')\n",
    "eva.title = 'Gate Study (-0.12 to 0.12V)'\n",
    "eva.sub_folder = 'gate studies'\n",
    "\n",
    "eva.loadData()\n",
    "eva.y_key = 'V_gate_up_V'\n",
    "\n",
    "eva.y_lim = (None, None)\n",
    "eva.x_lim = (-.75, .75)\n",
    "eva.z_lim = (0, .2)\n",
    "eva.v_lim = 0.6\n",
    "\n",
    "eva.n_show = False\n",
    "\n",
    "eva.window_length = 40\n",
    "\n",
    "eva.values = [0, -.03, -.06, -.09, -.12]\n",
    "\n",
    "eva.showAll()\n",
    "eva.saveAll()\n",
    "eva.saveData()\n",
    "# eva.showFile()"
   ]
  },
  {
   "cell_type": "code",
   "execution_count": 13,
   "metadata": {},
   "outputs": [
    {
     "name": "stderr",
     "output_type": "stream",
     "text": [
      "(eva) ... BaseClass initialized.\n",
      "(eva) ... BaseEvaluation initialized.\n",
      "(eva) ... BasePlotting initialized.\n",
      "(eva) title = Gate Study (0.12 to 0.5V)\n",
      "(eva) sub_folder = gate studies\n",
      "(eva) loadData()\n",
      "(eva) y_key = V_gate_up_V\n",
      "(eva) y_lim = (None, None)\n",
      "(eva) x_lim = (-0.75, 0.75)\n",
      "(eva) z_lim = (0, 0.2)\n",
      "(eva) v_lim = 0.6\n",
      "(eva) n_show = False\n",
      "(eva) window_length = 40\n",
      "(eva) values = [0.12, 0.24, 0.36, 0.5]\n",
      "(eva) showAll()\n",
      "(eva) saveAll() to figures/Gate Study (0.12 to 0.5V)\n",
      "(eva) saveData()\n"
     ]
    }
   ],
   "source": [
    "# Plot Gate Study (0.12 to 0.5V)\n",
    "%matplotlib qt\n",
    "eva = BasePlotting('eva')\n",
    "eva.title = 'Gate Study (0.12 to 0.5V)'\n",
    "eva.sub_folder = 'gate studies'\n",
    "\n",
    "eva.loadData()\n",
    "eva.y_key = 'V_gate_up_V'\n",
    "\n",
    "eva.y_lim = (None, None)\n",
    "eva.x_lim = (-.75, .75)\n",
    "eva.z_lim = (0, .2)\n",
    "eva.v_lim = 0.6\n",
    "\n",
    "eva.n_show = False\n",
    "\n",
    "eva.window_length = 40\n",
    "\n",
    "eva.values = [.12, .24, .36, .5]\n",
    "\n",
    "eva.showAll()\n",
    "eva.saveAll()\n",
    "eva.saveData()\n",
    "# eva.showFile()"
   ]
  },
  {
   "cell_type": "code",
   "execution_count": 14,
   "metadata": {},
   "outputs": [
    {
     "name": "stderr",
     "output_type": "stream",
     "text": [
      "(eva) ... BaseClass initialized.\n",
      "(eva) ... BaseEvaluation initialized.\n",
      "(eva) ... BasePlotting initialized.\n",
      "(eva) title = Gate Study (0.6 to 1.0V)\n",
      "(eva) sub_folder = gate studies\n",
      "(eva) loadData()\n",
      "(eva) y_key = V_gate_up_V\n",
      "(eva) y_lim = (None, None)\n",
      "(eva) x_lim = (-0.75, 0.75)\n",
      "(eva) z_lim = (0, 0.2)\n",
      "(eva) v_lim = 0.6\n",
      "(eva) n_show = False\n",
      "(eva) window_length = 40\n",
      "(eva) values = [0.6, 0.7, 0.8, 0.9, 1]\n",
      "(eva) showAll()\n",
      "(eva) saveAll() to figures/Gate Study (0.6 to 1.0V)\n",
      "(eva) saveData()\n"
     ]
    }
   ],
   "source": [
    "# Plot Gate Study (0.6 to 1.0V)\n",
    "%matplotlib qt\n",
    "eva = BasePlotting('eva')\n",
    "eva.title = 'Gate Study (0.6 to 1.0V)'\n",
    "eva.sub_folder = 'gate studies'\n",
    "\n",
    "eva.loadData()\n",
    "eva.y_key = 'V_gate_up_V'\n",
    "\n",
    "eva.y_lim = (None, None)\n",
    "eva.x_lim = (-.75, .75)\n",
    "eva.z_lim = (0, .2)\n",
    "eva.v_lim = 0.6\n",
    "\n",
    "eva.n_show = False\n",
    "\n",
    "eva.window_length = 40\n",
    "\n",
    "eva.values = [.6, .7, .8, .9, 1]\n",
    "\n",
    "eva.showAll()\n",
    "eva.saveAll()\n",
    "eva.saveData()\n",
    "# eva.showFile()"
   ]
  },
  {
   "cell_type": "code",
   "execution_count": 15,
   "metadata": {},
   "outputs": [
    {
     "name": "stderr",
     "output_type": "stream",
     "text": [
      "(eva) ... BaseClass initialized.\n",
      "(eva) ... BaseEvaluation initialized.\n",
      "(eva) ... BasePlotting initialized.\n",
      "(eva) title = Gate Study (0.5 to 1.0V)\n",
      "(eva) sub_folder = gate studies\n",
      "(eva) loadData()\n",
      "(eva) y_key = V_gate_up_V\n",
      "(eva) y_lim = (None, None)\n",
      "(eva) x_lim = (-0.75, 0.75)\n",
      "(eva) z_lim = (0, 0.2)\n",
      "(eva) v_lim = 0.6\n",
      "(eva) n_show = False\n",
      "(eva) window_length = 40\n",
      "(eva) values = [0.6, 0.7, 0.8, 0.9, 1]\n",
      "(eva) showAll()\n",
      "(eva) saveAll() to figures/Gate Study (0.5 to 1.0V)\n",
      "(eva) saveData()\n"
     ]
    }
   ],
   "source": [
    "# Plot Gate Study (0.5 to 1.0V)\n",
    "%matplotlib qt\n",
    "eva = BasePlotting('eva')\n",
    "eva.title = 'Gate Study (0.5 to 1.0V)'\n",
    "eva.sub_folder = 'gate studies'\n",
    "\n",
    "eva.loadData()\n",
    "eva.y_key = 'V_gate_up_V'\n",
    "\n",
    "eva.y_lim = (None, None)\n",
    "eva.x_lim = (-.75, .75)\n",
    "eva.z_lim = (0, .2)\n",
    "eva.v_lim = 0.6\n",
    "\n",
    "eva.n_show = False\n",
    "\n",
    "eva.window_length = 40\n",
    "\n",
    "eva.values = [.6, .7, .8, .9, 1]\n",
    "\n",
    "eva.showAll()\n",
    "eva.saveAll()\n",
    "eva.saveData()\n",
    "# eva.showFile()"
   ]
  },
  {
   "cell_type": "code",
   "execution_count": 16,
   "metadata": {},
   "outputs": [
    {
     "name": "stderr",
     "output_type": "stream",
     "text": [
      "(eva) ... BaseClass initialized.\n",
      "(eva) ... BaseEvaluation initialized.\n",
      "(eva) ... BasePlotting initialized.\n",
      "(eva) title = Gate Study (fine, 0 to 10mV)\n",
      "(eva) sub_folder = gate studies\n",
      "(eva) loadData()\n",
      "(eva) y_key = V_gate_up_mV\n",
      "(eva) y_lim = (None, None)\n",
      "(eva) x_lim = (-0.75, 0.75)\n",
      "(eva) z_lim = (0, 0.2)\n",
      "(eva) v_lim = 0.6\n",
      "(eva) n_show = False\n",
      "(eva) window_length = 40\n",
      "(eva) values = [0, 2.5, 5, 7.5, 10]\n",
      "(eva) showAll()\n",
      "(eva) saveAll() to figures/Gate Study (fine, 0 to 10mV)\n",
      "(eva) saveData()\n"
     ]
    }
   ],
   "source": [
    "# Plot Gate Study (fine, 0 to 10mV)\n",
    "%matplotlib qt\n",
    "eva = BasePlotting('eva')\n",
    "eva.title = 'Gate Study (fine, 0 to 10mV)'\n",
    "eva.sub_folder = 'gate studies'\n",
    "\n",
    "eva.loadData()\n",
    "eva.y_key = 'V_gate_up_mV'\n",
    "\n",
    "eva.y_lim = (None, None)\n",
    "eva.x_lim = (-.75, .75)\n",
    "eva.z_lim = (0, .2)\n",
    "eva.v_lim = 0.6\n",
    "\n",
    "eva.n_show = False\n",
    "\n",
    "eva.window_length = 40\n",
    "\n",
    "eva.values = [0, 2.5, 5, 7.5, 10]\n",
    "\n",
    "eva.showAll()\n",
    "eva.saveAll()\n",
    "eva.saveData()\n",
    "# eva.showFile()"
   ]
  },
  {
   "cell_type": "code",
   "execution_count": 17,
   "metadata": {},
   "outputs": [
    {
     "name": "stderr",
     "output_type": "stream",
     "text": [
      "(eva) ... BaseClass initialized.\n",
      "(eva) ... BaseEvaluation initialized.\n",
      "(eva) ... BasePlotting initialized.\n",
      "(eva) title = Gate Study (-2.5 to 2.5V)\n",
      "(eva) sub_folder = gate studies\n",
      "(eva) loadData()\n",
      "(eva) y_key = V_gate_up_V\n",
      "(eva) y_lim = (-1.5, 1.5)\n",
      "(eva) x_lim = (-0.6, 0.6)\n",
      "(eva) z_lim = (0, 0.2)\n",
      "(eva) v_lim = 0.6\n",
      "(eva) n_labelsize = 9\n",
      "(eva) window_length = 40\n",
      "(eva) values = [0, -1, -1.2, -1.29, -1.335]\n",
      "(eva) showAll()\n",
      "(eva) saveAll() to figures/Gate Study (-2.5 to 2.5V)\n",
      "(eva) saveData()\n"
     ]
    }
   ],
   "source": [
    "# Plot Gate Study (-2.5 to 2.5V)\n",
    "%matplotlib qt\n",
    "\n",
    "importlib.reload(sys.modules[\"utilities.baseplotting\"])\n",
    "importlib.reload(sys.modules[\"utilities.plot_all\"])\n",
    "eva = BasePlotting('eva')\n",
    "eva.title = 'Gate Study (-2.5 to 2.5V)'\n",
    "eva.sub_folder = 'gate studies'\n",
    "\n",
    "eva.loadData()\n",
    "eva.y_key = 'V_gate_up_V'\n",
    "\n",
    "eva.y_lim = (-1.5, 1.5)\n",
    "eva.x_lim = (-.6, .6)\n",
    "eva.z_lim = (0, .2)\n",
    "eva.v_lim = 0.6\n",
    "\n",
    "eva.n_labelsize = 9\n",
    "\n",
    "eva.window_length = 40\n",
    "\n",
    "eva.values = [0, -1, -1.2, -1.29, -1.335]\n",
    "\n",
    "eva.showAll()\n",
    "eva.saveAll()\n",
    "eva.saveData()\n",
    "# eva.showFile()\n"
   ]
  },
  {
   "cell_type": "markdown",
   "metadata": {},
   "source": [
    "### Chase down breaking point (inconsistent)"
   ]
  },
  {
   "cell_type": "code",
   "execution_count": 18,
   "metadata": {},
   "outputs": [
    {
     "name": "stderr",
     "output_type": "stream",
     "text": [
      "(eva) ... BaseClass initialized.\n",
      "(eva) ... BaseEvaluation initialized.\n",
      "(eva) ... BasePlotting initialized.\n",
      "(eva) title = Gate Study (The Chase 1 of 4)\n",
      "(eva) sub_folder = gate studies\n",
      "(eva) loadData()\n",
      "(eva) y_key = V_gate_up_V\n",
      "(eva) y_lim = (None, None)\n",
      "(eva) x_lim = (-0.6, 0.6)\n",
      "(eva) z_lim = (0, 0.2)\n",
      "(eva) v_lim = 0.6\n",
      "(eva) window_length = 40\n",
      "(eva) values = [1.1]\n",
      "(eva) showAll()\n",
      "(eva) saveAll() to figures/Gate Study (The Chase 1 of 4)\n",
      "(eva) saveData()\n"
     ]
    }
   ],
   "source": [
    "# Plot Gate Study (The Chase 1/4)\n",
    "%matplotlib qt\n",
    "eva = BasePlotting('eva')\n",
    "eva.title = 'Gate Study (The Chase 1 of 4)'\n",
    "eva.sub_folder = 'gate studies'\n",
    "\n",
    "eva.loadData()\n",
    "eva.y_key = 'V_gate_up_V'\n",
    "\n",
    "eva.y_lim = (None, None)\n",
    "eva.x_lim = (-.6, .6)\n",
    "eva.z_lim = (0, .2)\n",
    "eva.v_lim = 0.6\n",
    "\n",
    "eva.window_length = 40\n",
    "\n",
    "eva.values = [1.1]\n",
    "\n",
    "eva.showAll()\n",
    "eva.saveAll()\n",
    "eva.saveData()\n",
    "# eva.showFile()\n"
   ]
  },
  {
   "cell_type": "code",
   "execution_count": 19,
   "metadata": {},
   "outputs": [
    {
     "name": "stderr",
     "output_type": "stream",
     "text": [
      "(eva) ... BaseClass initialized.\n",
      "(eva) ... BaseEvaluation initialized.\n",
      "(eva) ... BasePlotting initialized.\n",
      "(eva) title = Gate Study (The Chase 2 of 4)\n",
      "(eva) sub_folder = gate studies\n",
      "(eva) loadData()\n",
      "(eva) y_key = V_gate_up_V\n",
      "(eva) y_lim = (None, None)\n",
      "(eva) x_lim = (-0.6, 0.6)\n",
      "(eva) z_lim = (0, 0.2)\n",
      "(eva) v_lim = 0.6\n",
      "(eva) window_length = 40\n",
      "(eva) values = [1.1]\n",
      "(eva) showAll()\n",
      "(eva) saveAll() to figures/Gate Study (The Chase 2 of 4)\n",
      "(eva) saveData()\n"
     ]
    }
   ],
   "source": [
    "# Plot Gate Study (The Chase 2/4)\n",
    "%matplotlib qt\n",
    "eva = BasePlotting('eva')\n",
    "eva.title = 'Gate Study (The Chase 2 of 4)'\n",
    "eva.sub_folder = 'gate studies'\n",
    "\n",
    "eva.loadData()\n",
    "eva.y_key = 'V_gate_up_V'\n",
    "\n",
    "eva.y_lim = (None, None)\n",
    "eva.x_lim = (-.6, .6)\n",
    "eva.z_lim = (0, .2)\n",
    "eva.v_lim = 0.6\n",
    "\n",
    "eva.window_length = 40\n",
    "\n",
    "eva.values = [1.1]\n",
    "\n",
    "eva.showAll()\n",
    "eva.saveAll()\n",
    "eva.saveData()\n",
    "# eva.showFile()"
   ]
  },
  {
   "cell_type": "code",
   "execution_count": 20,
   "metadata": {},
   "outputs": [
    {
     "name": "stderr",
     "output_type": "stream",
     "text": [
      "(eva) ... BaseClass initialized.\n",
      "(eva) ... BaseEvaluation initialized.\n",
      "(eva) ... BasePlotting initialized.\n",
      "(eva) title = Gate Study (The Chase 3 of 4)\n",
      "(eva) sub_folder = gate studies\n",
      "(eva) loadData()\n",
      "(eva) y_key = V_gate_up_V\n",
      "(eva) y_lim = (None, None)\n",
      "(eva) x_lim = (-0.6, 0.6)\n",
      "(eva) z_lim = (0, 0.2)\n",
      "(eva) v_lim = 0.6\n",
      "(eva) window_length = 40\n",
      "(eva) values = [1.1, 1.356]\n",
      "(eva) showAll()\n",
      "(eva) saveAll() to figures/Gate Study (The Chase 3 of 4)\n",
      "(eva) saveData()\n"
     ]
    }
   ],
   "source": [
    "# Plot Gate Study (The Chase 3/4)\n",
    "%matplotlib qt\n",
    "eva = BasePlotting('eva')\n",
    "eva.title = 'Gate Study (The Chase 3 of 4)'\n",
    "eva.sub_folder = 'gate studies'\n",
    "\n",
    "eva.loadData()\n",
    "eva.y_key = 'V_gate_up_V'\n",
    "\n",
    "eva.y_lim = (None, None)\n",
    "eva.x_lim = (-.6, .6)\n",
    "eva.z_lim = (0, .2)\n",
    "eva.v_lim = 0.6\n",
    "\n",
    "eva.window_length = 40\n",
    "\n",
    "eva.values = [1.1, 1.356]\n",
    "\n",
    "eva.showAll()\n",
    "eva.saveAll()\n",
    "eva.saveData()\n",
    "# eva.showFile()"
   ]
  },
  {
   "cell_type": "code",
   "execution_count": 21,
   "metadata": {},
   "outputs": [
    {
     "name": "stderr",
     "output_type": "stream",
     "text": [
      "(eva) ... BaseClass initialized.\n",
      "(eva) ... BaseEvaluation initialized.\n",
      "(eva) ... BasePlotting initialized.\n",
      "(eva) title = Gate Study (The Chase 4 of 4)\n",
      "(eva) sub_folder = gate studies\n",
      "(eva) loadData()\n",
      "(eva) y_key = V_gate_up_V\n",
      "(eva) y_lim = (None, None)\n",
      "(eva) x_lim = (-0.6, 0.6)\n",
      "(eva) z_lim = (0, 0.2)\n",
      "(eva) v_lim = 0.6\n",
      "(eva) window_length = 40\n",
      "(eva) values = [1.353, 1.354]\n",
      "(eva) showAll()\n",
      "(eva) saveAll() to figures/Gate Study (The Chase 4 of 4)\n",
      "(eva) saveData()\n"
     ]
    }
   ],
   "source": [
    "# Plot Gate Study (The Chase 4/4)\n",
    "%matplotlib qt\n",
    "eva = BasePlotting('eva')\n",
    "eva.title = 'Gate Study (The Chase 4 of 4)'\n",
    "eva.sub_folder = 'gate studies'\n",
    "\n",
    "eva.loadData()\n",
    "eva.y_key = 'V_gate_up_V'\n",
    "\n",
    "eva.y_lim = (None, None)\n",
    "eva.x_lim = (-.6, .6)\n",
    "eva.z_lim = (0, .2)\n",
    "eva.v_lim = 0.6\n",
    "\n",
    "eva.window_length = 40\n",
    "\n",
    "eva.values = [1.353, 1.354]\n",
    "\n",
    "eva.showAll()\n",
    "eva.saveAll()\n",
    "eva.saveData()\n",
    "# eva.showFile()"
   ]
  },
  {
   "cell_type": "code",
   "execution_count": null,
   "metadata": {},
   "outputs": [],
   "source": []
  },
  {
   "cell_type": "markdown",
   "metadata": {},
   "source": [
    "# Extra Evaluation on Gate Studies"
   ]
  },
  {
   "cell_type": "code",
   "execution_count": null,
   "metadata": {},
   "outputs": [
    {
     "name": "stdout",
     "output_type": "stream",
     "text": [
      "gate_voltages\n"
     ]
    },
    {
     "name": "stderr",
     "output_type": "stream",
     "text": [
      "/var/folders/kc/8fnzl3f94vxgl8w4wm3wfvk80000gn/T/ipykernel_62550/4204803667.py:30: RuntimeWarning: Mean of empty slice\n",
      "  compliance.append(np.nanmean(file[\"measurement\"][mkey][key]['sweep']['gate']['current']))\n"
     ]
    }
   ],
   "source": [
    "# Compliance of Gate Study (-2.5 to 2.5V)\n",
    "import h5py, os\n",
    "from utilities import get_keys, IV_mapping, T_mapping\n",
    "from utilities import save_figure, IV_plotting, IV_T_plotting\n",
    "from utilities import cmap\n",
    "\n",
    "path = os.getcwd()\n",
    "file = h5py.File('/Volumes/speedyboy/measurement data/24 07 OI-24d-10/unbroken/24 07 25 high gate study -2.5 to 2.5V/OI-24d-10 24-07-26 high gate study 1.hdf5', 'r')\n",
    "liste = list(file['measurement'].keys())\n",
    "for l in liste:\n",
    "    print(f'{l}')\n",
    "    \n",
    "V1_AMP = 1e3\n",
    "V2_AMP = 1e3\n",
    "R_REF = 51.689e3\n",
    "G_0 = 7.7481e-5\n",
    "\n",
    "mkey=f\"gate_voltages\"\n",
    "\n",
    "y, skeys = get_keys(\n",
    "file=file, \n",
    "mkey=mkey, \n",
    "to_pop='no_gate',\n",
    "i1=5, \n",
    "i2=-2, \n",
    ")\n",
    "\n",
    "compliance = []\n",
    "for key in skeys:\n",
    "    compliance.append(np.nanmean(file[\"measurement\"][mkey][key]['sweep']['gate']['current']))\n",
    "compliance = np.array(compliance)\n",
    "gate_voltage = y*1e-3\n",
    "\n",
    "\n",
    "plt.plot(gate_voltage, (compliance)*1e3, '.', label='data')\n",
    "plt.xlabel('gate voltage (V)')\n",
    "plt.ylabel('current to ground (mA)')\n",
    "\n",
    "x = compliance[~np.isnan(compliance)]\n",
    "yy = gate_voltage[~np.isnan(compliance)]\n",
    "a, b = np.polyfit(x, yy, 1)\n",
    "\n",
    "plt.plot(gate_voltage,((gate_voltage-b)/a)*1e3, '-', label='fit with 1.475 kOhm')\n",
    "plt.legend()\n",
    "a,b\n",
    "\n",
    "plt.savefig('figures/gate studies/Gate Study (-2.5 to 2.5V, Compliance).png', bbox_inches='tight')"
   ]
  },
  {
   "cell_type": "code",
   "execution_count": null,
   "metadata": {},
   "outputs": [],
   "source": []
  },
  {
   "cell_type": "code",
   "execution_count": null,
   "metadata": {},
   "outputs": [],
   "source": []
  }
 ],
 "metadata": {
  "kernelspec": {
   "display_name": ".venv",
   "language": "python",
   "name": "python3"
  },
  "language_info": {
   "codemirror_mode": {
    "name": "ipython",
    "version": 3
   },
   "file_extension": ".py",
   "mimetype": "text/x-python",
   "name": "python",
   "nbconvert_exporter": "python",
   "pygments_lexer": "ipython3",
   "version": "3.12.3"
  }
 },
 "nbformat": 4,
 "nbformat_minor": 2
}
