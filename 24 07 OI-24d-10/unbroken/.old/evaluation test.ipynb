{
 "cells": [
  {
   "cell_type": "code",
   "execution_count": 2,
   "metadata": {},
   "outputs": [],
   "source": [
    "%load_ext autoreload\n",
    "%autoreload 2\n",
    "\n",
    "import numpy as np\n",
    "import matplotlib.pyplot as plt\n",
    "\n",
    "import sys\n",
    "sys.path.append(\"/Users/oliver/Documents/evaluation\")\n",
    "sys.path.append(\"/home/oliver/Documents/p5control-bluefors-evaluation\")\n",
    "\n",
    "from utilities.corporate_design_colors_v4 import cmap\n",
    "from utilities import EvaluationScript_v2\n",
    "\n",
    "import logging\n",
    "from importlib import reload\n",
    "logger = logging.getLogger(__name__)\n",
    "reload(logging)\n",
    "logging.basicConfig(level=logging.INFO, format='%(message)s')"
   ]
  },
  {
   "cell_type": "markdown",
   "metadata": {},
   "source": [
    "# Test new Evaluation Class"
   ]
  },
  {
   "cell_type": "code",
   "execution_count": 1,
   "metadata": {},
   "outputs": [
    {
     "ename": "NameError",
     "evalue": "name 'EvaluationScript_v2' is not defined",
     "output_type": "error",
     "traceback": [
      "\u001b[0;31m---------------------------------------------------------------------------\u001b[0m",
      "\u001b[0;31mNameError\u001b[0m                                 Traceback (most recent call last)",
      "Cell \u001b[0;32mIn[1], line 3\u001b[0m\n\u001b[1;32m      1\u001b[0m get_ipython()\u001b[38;5;241m.\u001b[39mrun_line_magic(\u001b[38;5;124m'\u001b[39m\u001b[38;5;124mmatplotlib\u001b[39m\u001b[38;5;124m'\u001b[39m, \u001b[38;5;124m'\u001b[39m\u001b[38;5;124minline\u001b[39m\u001b[38;5;124m'\u001b[39m)\n\u001b[0;32m----> 3\u001b[0m eva \u001b[38;5;241m=\u001b[39m \u001b[43mEvaluationScript_v2\u001b[49m()\n\u001b[1;32m      4\u001b[0m eva\u001b[38;5;241m.\u001b[39mfile_folder \u001b[38;5;241m=\u001b[39m \u001b[38;5;124m'\u001b[39m\u001b[38;5;124m24 07 OI-24d-10/unbroken/24 08 13 temperature study/\u001b[39m\u001b[38;5;124m'\u001b[39m\n\u001b[1;32m      5\u001b[0m eva\u001b[38;5;241m.\u001b[39mfile_name  \u001b[38;5;241m=\u001b[39m \u001b[38;5;124m'\u001b[39m\u001b[38;5;124mOI-24d-10 24-08-13 temperature study 4.hdf5\u001b[39m\u001b[38;5;124m'\u001b[39m\n",
      "\u001b[0;31mNameError\u001b[0m: name 'EvaluationScript_v2' is not defined"
     ]
    }
   ],
   "source": [
    "%matplotlib inline\n",
    "\n",
    "eva = EvaluationScript_v2()\n",
    "eva.file_folder = '24 07 OI-24d-10/unbroken/24 08 13 temperature study/'\n",
    "eva.file_name  = 'OI-24d-10 24-08-13 temperature study 4.hdf5'\n",
    "eva.title = 'Temperature Study (incomplete, test)'\n",
    "eva.sub_folder = 'test'\n",
    "eva.showAmplifications()\n",
    "eva.setAmplifications(1000, 10000)\n",
    "eva.showMeasurements()\n",
    "eva.setMeasurement('temperatures')\n",
    "eva.showKeys()\n",
    "eva.setKeys([7, -2, 1e-6, 'no_power'])\n",
    "eva.setV(1.4e-3, voltage_bins=700)\n",
    "eva.getMaps()\n",
    "eva.setT(0, 2, 200)\n",
    "eva.getMapsT()\n",
    "eva.saveData()\n",
    "eva.showMap(\n",
    "    x_key = 'V_bias_up_mV',\n",
    "    y_key = 'T_axis_up_K',\n",
    "    z_key = 'dIdV_up_T',\n",
    "    x_lim = [-1.3, 1.3],\n",
    "    y_lim = [0.06, 1.4],\n",
    "    z_lim = [0, .2],\n",
    "    smoothing = True,\n",
    ")\n",
    "eva.saveFigure()"
   ]
  },
  {
   "cell_type": "code",
   "execution_count": 105,
   "metadata": {},
   "outputs": [
    {
     "name": "stderr",
     "output_type": "stream",
     "text": [
      "(eva2) ... initialized.\n",
      "(eva2) loadData()\n"
     ]
    }
   ],
   "source": [
    "%matplotlib qt\n",
    "eva2 = EvaluationScript_v2('eva2')\n",
    "eva2.file_folder = '24 07 OI-24d-10/unbroken/24 08 13 temperature study/'\n",
    "eva2.file_name  = 'OI-24d-10 24-08-13 temperature study 4.hdf5'\n",
    "eva2.title = 'Temperature Study (incomplete, test)'\n",
    "eva2.sub_folder = 'test'\n",
    "eva2.loadData()"
   ]
  },
  {
   "cell_type": "code",
   "execution_count": 108,
   "metadata": {},
   "outputs": [
    {
     "data": {
      "text/plain": [
       "array([0.0000e+00, 1.0000e-04, 2.0000e-04, 4.0000e-04, 7.0000e-04,\n",
       "       1.1000e-03, 1.6000e-03, 2.2000e-03, 2.9000e-03, 3.8000e-03,\n",
       "       4.8000e-03, 6.0000e-03, 7.3000e-03, 8.8000e-03, 1.0400e-02,\n",
       "       1.2200e-02, 1.4200e-02, 1.6400e-02, 1.8700e-02, 2.1200e-02,\n",
       "       2.4000e-02, 2.6900e-02, 3.0000e-02, 3.3400e-02, 3.6900e-02,\n",
       "       4.0700e-02, 4.4700e-02, 4.8900e-02, 5.3300e-02, 5.8000e-02,\n",
       "       6.2900e-02, 6.8100e-02, 7.3500e-02, 7.9100e-02, 8.5000e-02,\n",
       "       9.1200e-02, 9.7600e-02, 1.0430e-01, 1.1120e-01, 1.1840e-01,\n",
       "       1.2590e-01, 1.3360e-01, 1.4160e-01, 1.4990e-01, 1.5850e-01,\n",
       "       1.6740e-01, 1.7660e-01, 1.8600e-01, 1.9580e-01, 2.0580e-01,\n",
       "       2.1620e-01, 2.2690e-01, 2.3780e-01, 2.4910e-01, 2.6070e-01,\n",
       "       2.7260e-01, 2.8480e-01, 2.9740e-01, 3.1030e-01, 3.2350e-01,\n",
       "       3.3700e-01, 3.5090e-01, 3.6510e-01, 3.7960e-01, 3.9450e-01,\n",
       "       4.0970e-01, 4.2520e-01, 4.4110e-01, 4.5740e-01, 4.7400e-01,\n",
       "       4.9100e-01, 5.0830e-01, 5.2600e-01, 5.4400e-01, 5.6240e-01,\n",
       "       5.8120e-01, 6.0030e-01, 6.1990e-01, 6.3980e-01, 6.6000e-01,\n",
       "       6.8070e-01, 7.0170e-01, 7.2310e-01, 7.4490e-01, 7.6700e-01,\n",
       "       7.8960e-01, 8.1260e-01, 8.3590e-01, 8.5970e-01, 8.8380e-01,\n",
       "       9.0840e-01, 9.3330e-01, 9.5870e-01, 9.8440e-01, 1.0106e+00,\n",
       "       1.0372e+00, 1.0641e+00, 1.0915e+00, 1.1194e+00, 1.1476e+00,\n",
       "       1.1763e+00, 1.2054e+00, 1.2349e+00, 1.2648e+00, 1.2952e+00,\n",
       "       1.3259e+00, 1.3572e+00, 1.3888e+00, 1.4209e+00, 1.4535e+00,\n",
       "       1.4864e+00, 1.5199e+00, 1.5537e+00, 1.5880e+00, 1.6228e+00,\n",
       "       1.6580e+00, 1.6937e+00, 1.7298e+00, 1.7663e+00, 1.8034e+00,\n",
       "       1.8409e+00, 1.8788e+00, 1.9172e+00, 1.9561e+00, 1.9954e+00,\n",
       "       2.0352e+00, 2.0755e+00, 2.1163e+00, 2.1575e+00, 2.1992e+00])"
      ]
     },
     "execution_count": 108,
     "metadata": {},
     "output_type": "execute_result"
    }
   ],
   "source": [
    "from utilities.evaluation_helper_v2 import *\n",
    "%matplotlib qt\n",
    "x = eva2.V_axis*1e3\n",
    "y = eva2.T_axis\n",
    "z = eva2.dIdV_up_T\n",
    "n = eva2.y_axis_up_T*1e3\n",
    "x_lim = [-1e3, 1e3]\n",
    "y_lim = [0, 1.5]\n",
    "z_lim = [0, .2]\n",
    "n_lim = [-10, 10]\n",
    "x_label = 'V_bias'\n",
    "y_label = '$P_\\mathrm{Heater}$ (mW)'\n",
    "z_label = 'dIdV'\n",
    "n_label = r'$T$ (K)'\n",
    "_ = plot_map_and_vector_2(x, y, z, n, x_lim, y_lim, z_lim, n_lim, x_label, y_label, z_label, n_label)"
   ]
  },
  {
   "cell_type": "code",
   "execution_count": 114,
   "metadata": {},
   "outputs": [],
   "source": [
    "from utilities.evaluation_helper_v2 import *\n",
    "%matplotlib qt\n",
    "x = eva2.V_axis*1e3\n",
    "y = eva2.y_axis*1e3\n",
    "z = eva2.dIdV_up\n",
    "n = eva2.T_mean_up\n",
    "x_lim = [-1e3, 1e3]\n",
    "y_lim = [-1000, 1000]\n",
    "z_lim = [0, .2]\n",
    "n_lim = [-10, 10]\n",
    "x_label = 'V_bias'\n",
    "y_label = '$P_\\mathrm{Heater}$ (mW)'\n",
    "z_label = 'dIdV'\n",
    "n_label = r'$T$ (K)'\n",
    "_ = plot_map_and_vector_2(x, y, z, n, x_lim, y_lim, z_lim, n_lim, x_label, y_label, z_label, n_label)"
   ]
  }
 ],
 "metadata": {
  "kernelspec": {
   "display_name": "Python 3",
   "language": "python",
   "name": "python3"
  },
  "language_info": {
   "codemirror_mode": {
    "name": "ipython",
    "version": 3
   },
   "file_extension": ".py",
   "mimetype": "text/x-python",
   "name": "python",
   "nbconvert_exporter": "python",
   "pygments_lexer": "ipython3",
   "version": "3.12.3"
  }
 },
 "nbformat": 4,
 "nbformat_minor": 2
}
