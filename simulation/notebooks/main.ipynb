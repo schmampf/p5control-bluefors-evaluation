{
 "cells": [
  {
   "cell_type": "code",
   "execution_count": null,
   "id": "41258742",
   "metadata": {},
   "outputs": [],
   "source": [
    "using DrWatson\n",
    "@quickactivate \"Simulation\"\n",
    "include(srcdir(\"Simulation.jl\"))\n",
    "\n",
    "import .Simulation as Sim\n",
    "using ProgressMeter\n",
    "\n",
    "Threads.nthreads()"
   ]
  },
  {
   "cell_type": "code",
   "execution_count": null,
   "id": "4170ffc2",
   "metadata": {},
   "outputs": [],
   "source": [
    "params = Sim.VarPar(\n",
    "    max_ar=520,\n",
    "    error=1e-7,\n",
    "    t_coeff=0.55,\n",
    "    temp=1e-7,\n",
    "    voltage=range(0.05, 3.50, step=0.025),\n",
    "    w=(-15.0, 15.0)\n",
    ")\n",
    "currents::Vector{Real} = zeros(length(params.voltage))\n",
    "\n",
    "# check max_MAR\n",
    "Sim.num_MAR(first(params.voltage), params)"
   ]
  },
  {
   "cell_type": "code",
   "execution_count": null,
   "id": "615bfcd4",
   "metadata": {},
   "outputs": [],
   "source": [
    "function simpsons_rule(f, a, b, n)\n",
    "    h = (b - a) / n\n",
    "    k = 0.0\n",
    "    x = a + h\n",
    "    for i in range(1,n/2+1)\n",
    "        k += 2*f(x)\n",
    "        x += 2*h\n",
    "    end\n",
    "    x = a+ 2*h\n",
    "    for i in range(1,n/2)\n",
    "        k += 2*f(x)\n",
    "        x += 2*h\n",
    "    end\n",
    "    return (h/3)*(f(a) + f(b) + k)\n",
    "end\n",
    "f(x) = Sim.integrand(params, x, 0.05, 47, 520)\n",
    "\n",
    "# Usage\n",
    "a, b, n = -15, 15.0, 1000  # n must be even\n",
    "println(\"Simpson's Rule Result = \", simpsons_rule(f, a, b, n))\n",
    "\n",
    "# x = Sim.integrand(params, 2, 0.05, 47, 520)"
   ]
  },
  {
   "cell_type": "code",
   "execution_count": null,
   "id": "1f456b1a",
   "metadata": {},
   "outputs": [],
   "source": [
    "\n",
    "for v in params.voltage\n",
    "    x = Sim.∫(params, v, Sim.num_MAR(v, params), 520)\n",
    "    println(\"Voltage: \", v, \" Current: \", x)\n",
    "end"
   ]
  },
  {
   "cell_type": "code",
   "execution_count": null,
   "id": "c72ff9d2",
   "metadata": {},
   "outputs": [],
   "source": [
    "progress = Progress(length(params.voltage), 1, \"Processing ...\")\n",
    "Threads.@threads for i in 1:length(params.voltage)\n",
    "    curr_v::Real = params.voltage[i]\n",
    "    req_MAR::Int = Sim.num_MAR(curr_v, params)\n",
    "    currents[i] = Real(Sim.∫(params, curr_v, req_MAR, 520))\n",
    "    next!(progress)\n",
    "end"
   ]
  },
  {
   "cell_type": "code",
   "execution_count": null,
   "id": "42a66277",
   "metadata": {},
   "outputs": [],
   "source": [
    "# norm_currents = currents ./ (Sim.G_0*params.t_coeff);\n",
    "norm_currents = currents;"
   ]
  },
  {
   "cell_type": "code",
   "execution_count": null,
   "id": "41c9e52d",
   "metadata": {},
   "outputs": [],
   "source": [
    "open(datadir(\"D-T$(params.t_coeff).dat\"), \"w\") do io\n",
    "    for i in 1:length(params.voltage)\n",
    "        println(io, params.voltage[i], \"\\t\", currents[i])\n",
    "    end\n",
    "end\n",
    "println(\"Data saved to $(datadir(\"D-T$(params.t_coeff).dat\"))\")"
   ]
  },
  {
   "cell_type": "code",
   "execution_count": null,
   "id": "af22a6fa",
   "metadata": {},
   "outputs": [],
   "source": [
    "function plot_file(s)\n",
    "    ax = []\n",
    "    curve = []\n",
    "    open(datadir(s),\"r\") do file\n",
    "        for (i, line) in enumerate(eachline(file))\n",
    "            line = strip(line)\n",
    "            line = replace(line, \"\\t\"=>\" \")\n",
    "            line = split(line, \" \")\n",
    "            filter!(x -> x != \"\", line)\n",
    "            if length(line) < 2\n",
    "                continue\n",
    "            end\n",
    "            x, y = line\n",
    "            if y == \"nan\"\n",
    "                continue\n",
    "            end\n",
    "            x = parse(Float64, x)\n",
    "            y = parse(Float64, y)\n",
    "            push!(ax, x)\n",
    "            push!(curve, y)\n",
    "        end\n",
    "    end\n",
    "    plot!(\n",
    "        ax,\n",
    "        curve\n",
    "    )\n",
    "    # xlims!(0,3.5)\n",
    "    # ylims!(0, 6)\n",
    "    return plot!()\n",
    "end"
   ]
  },
  {
   "cell_type": "code",
   "execution_count": null,
   "id": "ab0e1e76",
   "metadata": {},
   "outputs": [],
   "source": [
    "using Plots\n",
    "# files = [\n",
    "#     \"0.125\",\n",
    "#     \"0.55\",\n",
    "#     \"0.75\",\n",
    "#     \"0.95\",\n",
    "#     \"0.99\"\n",
    "# ]\n",
    "\n",
    "# for file in files\n",
    "#     plot_file(\"D-T$(file).dat\")\n",
    "# end\n",
    "\n",
    "plot_file(\"D-T$(params.t_coeff).dat\")"
   ]
  }
 ],
 "metadata": {
  "kernelspec": {
   "display_name": "Julia 1.11.5",
   "language": "julia",
   "name": "julia-1.11"
  },
  "language_info": {
   "file_extension": ".jl",
   "mimetype": "application/julia",
   "name": "julia",
   "version": "1.11.5"
  }
 },
 "nbformat": 4,
 "nbformat_minor": 5
}
