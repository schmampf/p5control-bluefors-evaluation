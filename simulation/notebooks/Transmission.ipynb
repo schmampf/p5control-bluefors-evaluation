{
 "cells": [
  {
   "cell_type": "code",
   "execution_count": null,
   "id": "aebc0b1c",
   "metadata": {},
   "outputs": [],
   "source": [
    "#-configuration---------\n",
    "transmissions = [0.005:0.005:1.0]\n",
    "temp = 1e-7\n",
    "integration = (-15.0, 15.0)\n",
    "voltage = (0.005, 0.005, 6.00)\n",
    "#-----------------------\n",
    "num_workers = 10\n",
    ";"
   ]
  },
  {
   "cell_type": "code",
   "execution_count": 2,
   "id": "33ff61d8",
   "metadata": {},
   "outputs": [],
   "source": [
    "#-checks----------------\n",
    "if temp <= 0\n",
    "    println(\"Temperature is 0.\\n Assuming default value of 1e-7\")\n",
    "    temp = 1e-7\n",
    "end\n",
    "\n",
    "@assert voltage[1] >= 0.005 \"Voltage must be greater or equal to 0.005\"\n",
    "#----------------------"
   ]
  },
  {
   "cell_type": "code",
   "execution_count": 3,
   "id": "0887076b",
   "metadata": {},
   "outputs": [],
   "source": [
    "#-dependencies----------\n",
    "using ProgressMeter\n",
    "using Plots\n",
    "using JLD2\n",
    "using Distributed\n",
    "#----------------------"
   ]
  },
  {
   "cell_type": "code",
   "execution_count": 4,
   "id": "f6c47e20",
   "metadata": {},
   "outputs": [],
   "source": [
    "#-Constants------------\n",
    "const G₀ = 7.748091729e-5\n",
    "const e = 1.602176634e-19\n",
    "const h = 6.62607015e-34\n",
    "#----------------------\n",
    ";"
   ]
  },
  {
   "cell_type": "code",
   "execution_count": 5,
   "id": "bde77487",
   "metadata": {},
   "outputs": [],
   "source": [
    "# convert input parameters\n",
    "transmissions = vcat([collect(t) for t in transmissions]...)\n",
    "voltages = collect(voltage)\n",
    "\n",
    "# find working dirs\n",
    "start_dir = @__DIR__\n",
    "temp_dir = joinpath(@__DIR__, \"..\", \"temp\")\n",
    "bin_dir = joinpath(@__DIR__, \"..\", \"bin\")\n",
    "plots_dir = joinpath(@__DIR__, \"..\", \"plots\")\n",
    "data_dir = joinpath(@__DIR__, \"..\", \"data\")\n",
    ";"
   ]
  },
  {
   "cell_type": "code",
   "execution_count": 6,
   "id": "45b1af1a",
   "metadata": {},
   "outputs": [],
   "source": [
    "cd(temp_dir)\n",
    "for i in 1:num_workers\n",
    "   run(`mkdir -p thread_$i`)\n",
    "   run(`cp $bin_dir/iv $temp_dir/thread_$i`)\n",
    "   open(joinpath(temp_dir,\"thread_$i\", \"do.sh\"), \"w\") do file\n",
    "      write(file, \"cat temp_config.txt | ./iv\")\n",
    "   end\n",
    "   run(`chmod +x $temp_dir/thread_$i/do.sh`)\n",
    "end"
   ]
  },
  {
   "cell_type": "code",
   "execution_count": 7,
   "id": "71d59a9a",
   "metadata": {},
   "outputs": [],
   "source": [
    "addprocs(num_workers);"
   ]
  },
  {
   "cell_type": "code",
   "execution_count": 8,
   "id": "9c1197b9",
   "metadata": {},
   "outputs": [],
   "source": [
    "@everywhere using ProgressMeter\n",
    "@everywhere begin\n",
    "    using Serialization  # For sending complex data types\n",
    "\n",
    "    function run_simulation(i, t, temp, integration, voltage, temp_dir)\n",
    "        thread_dir = joinpath(temp_dir, \"thread_$(myid()-1)\")\n",
    "\n",
    "        run(`rm -f $(joinpath(thread_dir, \"iv.dat\"))`)\n",
    "        run(`rm -f $(joinpath(thread_dir, \"temp_config.txt\"))`)\n",
    "\n",
    "        open(joinpath(thread_dir, \"temp_config.txt\"), \"w\") do file\n",
    "            write(file, \"  $t  $temp\\n\")\n",
    "            write(file, \"$(integration[1])  $(integration[2])\\n\")\n",
    "            write(file, \"  $(voltage[1])  $(voltage[3])  $(voltage[2])\\n\")\n",
    "        end\n",
    "\n",
    "        run(`bash -c \"cd $(thread_dir) && ./do.sh\"`)\n",
    "\n",
    "        x, y = Float64[], Float64[]\n",
    "\n",
    "        try\n",
    "            open(joinpath(thread_dir, \"iv.dat\"), \"r\") do file\n",
    "                for line in eachline(file)\n",
    "                    parts = split(strip(line))\n",
    "                    if length(parts) >= 2\n",
    "                        push!(x, parse(Float64, parts[1]))\n",
    "                        push!(y, parse(Float64, parts[2]))\n",
    "                    end\n",
    "                end\n",
    "            end\n",
    "        catch e\n",
    "            println(\"Error processing file for t=$t: $e\")\n",
    "        end\n",
    "\n",
    "        return (t, (x, y))\n",
    "    end\n",
    "end"
   ]
  },
  {
   "cell_type": "code",
   "execution_count": null,
   "id": "f64f704e",
   "metadata": {},
   "outputs": [],
   "source": [
    "curves = Dict{Float64, Tuple{Vector{Float64}, Vector{Float64}}}()\n",
    "args_list = [(i, transmissions[i], temp, integration, voltage, temp_dir) for i in 1:length(transmissions)]\n",
    "results = @showprogress 1 \"Working...\" pmap(x -> run_simulation(x...), args_list)\n",
    "\n",
    "for (t, data) in results\n",
    "    curves[t] = data\n",
    "end\n",
    "\n",
    "const raw = copy(curves);"
   ]
  },
  {
   "cell_type": "code",
   "execution_count": null,
   "id": "bd3ca592",
   "metadata": {},
   "outputs": [],
   "source": [
    "curve_processed = Dict{Float64,Tuple{Vector{Float64},Vector{Float64}}}()\n",
    "for (τ, curve) in curves\n",
    "    x, y = curve\n",
    "    x = copy(x)\n",
    "    y = copy(y)\n",
    "    G = G₀ * τ\n",
    "    y .*= (2*e^2 / h)\n",
    "    y ./= G\n",
    "    curve_processed[τ] = (x, y)\n",
    "end\n",
    "const normalized = copy(curve_processed);"
   ]
  },
  {
   "cell_type": "code",
   "execution_count": null,
   "id": "750aefe6",
   "metadata": {},
   "outputs": [],
   "source": [
    "curve_derived = Dict{Float64,Tuple{Vector{Float64},Vector{Float64}}}()\n",
    "for (τ, curve) in curve_processed\n",
    "    x, y = curve\n",
    "    y = diff(y) ./ diff(x)\n",
    "    x = x[1:end-1]\n",
    "    curve_derived[τ] = (x, y)\n",
    "end\n",
    "const derived = copy(curve_derived);"
   ]
  },
  {
   "cell_type": "code",
   "execution_count": null,
   "id": "928cc169",
   "metadata": {},
   "outputs": [],
   "source": [
    "curve_d2 = Dict{Float64, Tuple{Vector{Float64}, Vector{Float64}}}()\n",
    "for (τ, curve) in derived\n",
    "    x, y = curve\n",
    "    y = diff(y) ./ diff(x)\n",
    "    x = x[1:end-1]\n",
    "    curve_d2[τ] = (x, y)\n",
    "end"
   ]
  },
  {
   "cell_type": "code",
   "execution_count": null,
   "id": "2262a61f",
   "metadata": {},
   "outputs": [],
   "source": [
    "jldopen(joinpath(data_dir, \"iv.jld2\"), \"w\") do file\n",
    "    file[\"raw\"] = raw\n",
    "    file[\"normalized\"] = normalized\n",
    "    file[\"derived\"] = derived\n",
    "end;"
   ]
  },
  {
   "cell_type": "code",
   "execution_count": null,
   "id": "33228db6",
   "metadata": {},
   "outputs": [],
   "source": [
    "using CairoMakie\n",
    "using ColorSchemes\n",
    "\n",
    "t_values = sort(collect(keys(normalized)))\n",
    "\n",
    "max_clip = 1.0  \n",
    "min_clip = 0.35\n",
    "\n",
    "clip_normalize(t, min_val, max_val) = t_rel = min_val + t * (max_val - min_val)\n",
    "\n",
    "see = get(ColorSchemes.Blues, range(min_clip, max_clip, length=256))\n",
    "\n",
    "fig = Figure()\n",
    "ax = Axis(fig[1, 1])\n",
    "\n",
    "for (i, t) in enumerate(t_values)\n",
    "    x, y = normalized[t]\n",
    "    color_idx = clip_normalize(t, min_clip, max_clip)\n",
    "    lines!(ax, x, y, color=cgrad(:Blues)[color_idx], linewidth=2)\n",
    "end\n",
    "ax.xlabel = \"eV₀ (Δ)\"\n",
    "ax.ylabel = \"Normalized Current (GΔ/e)\"\n",
    "ax.limits = (0, 2.5), (0, 5)\n",
    "\n",
    "Colorbar(fig[1, 2], colormap=see, ticks=0:0.2:1, label=\"Transmission (τ)\")\n",
    "\n",
    "display(fig)\n",
    "save(joinpath(plots_dir, \"iv.svg\"), fig)"
   ]
  },
  {
   "cell_type": "code",
   "execution_count": null,
   "id": "fb05c94c",
   "metadata": {},
   "outputs": [],
   "source": [
    "fig = Figure()\n",
    "ax = Axis(fig[1, 1])\n",
    "\n",
    "for (τ, curve) in sort(collect(derived), by = x -> x[1])\n",
    "    x, y = curve\n",
    "    color_idx = clip_normalize(τ, min_clip, max_clip)\n",
    "    lines!(ax, x, y, color=cgrad(:Blues)[color_idx], linewidth=2)\n",
    "end\n",
    "ax.xlabel = \"eV₀ (Δ)\"\n",
    "ax.ylabel = \"dI/dV₀ (G)\"\n",
    "ax.limits = (0, 2.5), (0, 40)\n",
    "\n",
    "Colorbar(fig[1, 2], colormap=see, ticks=0:0.2:1, label=\"Transmission (τ)\")\n",
    "display(fig)\n",
    "save(joinpath(plots_dir, \"didv.svg\"), fig)"
   ]
  }
 ],
 "metadata": {
  "kernelspec": {
   "display_name": "Julia (10 threads) 1.11.5",
   "language": "julia",
   "name": "julia-_10-threads_-1.11"
  },
  "language_info": {
   "file_extension": ".jl",
   "mimetype": "application/julia",
   "name": "julia",
   "version": "1.11.5"
  }
 },
 "nbformat": 4,
 "nbformat_minor": 5
}
