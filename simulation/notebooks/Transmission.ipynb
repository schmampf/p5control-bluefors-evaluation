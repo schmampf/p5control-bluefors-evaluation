{
 "cells": [
  {
   "cell_type": "code",
   "execution_count": null,
   "id": "aebc0b1c",
   "metadata": {},
   "outputs": [],
   "source": [
    "#-configuration---------\n",
    "transmissions = 0.01:0.01:0.99\n",
    "temp = 1e-7\n",
    "integration = (-15.0, 15.0)\n",
    "voltage = (0.05, 0.01, 5.50)\n",
    "#-----------------------\n",
    ";"
   ]
  },
  {
   "cell_type": "code",
   "execution_count": null,
   "id": "33ff61d8",
   "metadata": {},
   "outputs": [],
   "source": [
    "#-checks----------------\n",
    "if temp <= 0\n",
    "    println(\"Temperature is 0.\\n Assuming default value of 1e-7\")\n",
    "    temp = 1e-7\n",
    "end\n",
    "\n",
    "@assert voltage[1] >= 0.005 \"Voltage must be greater or equal to 0.005\"\n",
    "#----------------------"
   ]
  },
  {
   "cell_type": "code",
   "execution_count": null,
   "id": "0887076b",
   "metadata": {},
   "outputs": [],
   "source": [
    "#-dependencies----------\n",
    "using ProgressMeter\n",
    "using Plots\n",
    "using JLD2\n",
    "#----------------------"
   ]
  },
  {
   "cell_type": "code",
   "execution_count": null,
   "id": "f6c47e20",
   "metadata": {},
   "outputs": [],
   "source": [
    "#-Constants------------\n",
    "const G₀ = 7.748091729e-5\n",
    "const e = 1.602176634e-19\n",
    "const h = 6.62607015e-34\n",
    "#----------------------\n",
    ";"
   ]
  },
  {
   "cell_type": "code",
   "execution_count": null,
   "id": "bde77487",
   "metadata": {},
   "outputs": [],
   "source": [
    "# convert input parameters\n",
    "transmissions = collect(transmissions)\n",
    "voltages = collect(voltage)\n",
    "\n",
    "# find working dirs\n",
    "start_dir = @__DIR__\n",
    "temp_dir = joinpath(@__DIR__, \"..\", \"temp\")\n",
    "bin_dir = joinpath(@__DIR__, \"..\", \"bin\")\n",
    "plots_dir = joinpath(@__DIR__, \"..\", \"plots\")\n",
    "data_dir = joinpath(@__DIR__, \"..\", \"data\")\n",
    "\n",
    "# copy the binary to the temp directory\n",
    "run(`cp $bin_dir/iv $temp_dir`)\n",
    "\n",
    "# create the running script\n",
    "open(joinpath(temp_dir, \"do.sh\"), \"w\") do file\n",
    "    write(file, \"cat temp_config.txt | ./iv\")\n",
    "end\n",
    "\n",
    "cd(temp_dir)"
   ]
  },
  {
   "cell_type": "code",
   "execution_count": null,
   "id": "465ecfb7",
   "metadata": {},
   "outputs": [],
   "source": [
    "# curve dictionary [τ] = (x, y)\n",
    "curves = Dict{Float64,Tuple{Vector{Float64},Vector{Float64}}}()\n",
    "\n",
    "progress = Progress(length(transmissions), 1, \"Running simulations\")\n",
    "for t in transmissions\n",
    "    next!(progress)\n",
    "\n",
    "    open(joinpath(temp_dir, \"temp_config.txt\"), \"w\") do file\n",
    "        write(file, \"  $t  $temp\\n\")\n",
    "        write(file, \"$(integration[1])  $(integration[2])\\n\")\n",
    "        write(file, \"  $(voltage[1])  $(voltage[3])  $(voltage[2])\\n\")\n",
    "    end\n",
    "\n",
    "    run(`bash do.sh`)\n",
    "\n",
    "    open(joinpath(temp_dir, \"iv.dat\"), \"r\") do file\n",
    "        x = []\n",
    "        y = []\n",
    "        data = read(file, String)\n",
    "        lines = split(data, \"\\n\")\n",
    "        for line in lines\n",
    "            line = strip(line)\n",
    "            parts = split(line)\n",
    "            filter!(x -> x != \"\", parts)\n",
    "            if length(parts) < 2\n",
    "                continue\n",
    "            end\n",
    "            push!(x, parse(Float64, parts[1]))\n",
    "            push!(y, parse(Float64, parts[2]))\n",
    "        end\n",
    "        curves[t] = (x, y)\n",
    "    end\n",
    "end\n",
    "const raw = copy(curves);"
   ]
  },
  {
   "cell_type": "code",
   "execution_count": null,
   "id": "bd3ca592",
   "metadata": {},
   "outputs": [],
   "source": [
    "curve_processed = Dict{Float64,Tuple{Vector{Float64},Vector{Float64}}}()\n",
    "for (τ, curve) in curves\n",
    "    x, y = curve\n",
    "    x = copy(x)\n",
    "    y = copy(y)\n",
    "    G = G₀ * τ\n",
    "    y .*= (2*e^2 / h)\n",
    "    y ./= G\n",
    "    curve_processed[τ] = (x, y)\n",
    "end\n",
    "const normalized = copy(curve_processed);"
   ]
  },
  {
   "cell_type": "code",
   "execution_count": null,
   "id": "750aefe6",
   "metadata": {},
   "outputs": [],
   "source": [
    "curve_derived = Dict{Float64,Tuple{Vector{Float64},Vector{Float64}}}()\n",
    "for (τ, curve) in curve_processed\n",
    "    x, y = curve\n",
    "    y = diff(y) ./ diff(x)\n",
    "    x = x[1:end-1]\n",
    "    curve_derived[τ] = (x, y)\n",
    "end\n",
    "const derived = copy(curve_derived);"
   ]
  },
  {
   "cell_type": "code",
   "execution_count": null,
   "id": "2262a61f",
   "metadata": {},
   "outputs": [],
   "source": [
    "jldopen(joinpath(data_dir, \"iv.jld2\"), \"w\") do file\n",
    "    file[\"raw\"] = raw\n",
    "    file[\"normalized\"] = normalized\n",
    "    file[\"derived\"] = derived\n",
    "end;"
   ]
  },
  {
   "cell_type": "code",
   "execution_count": null,
   "id": "33228db6",
   "metadata": {},
   "outputs": [],
   "source": [
    "using CairoMakie\n",
    "using ColorSchemes\n",
    "\n",
    "t_values = sort(collect(keys(normalized)))\n",
    "\n",
    "max_clip = 1.0  \n",
    "min_clip = 0.35\n",
    "\n",
    "clip_normalize(t, min_val, max_val) = t_rel = min_val + t * (max_val - min_val)\n",
    "\n",
    "see = get(ColorSchemes.Blues, range(min_clip, max_clip, length=256))\n",
    "\n",
    "fig = Figure()\n",
    "ax = Axis(fig[1, 1])\n",
    "\n",
    "for (i, t) in enumerate(t_values)\n",
    "    x, y = normalized[t]\n",
    "    color_idx = clip_normalize(t, min_clip, max_clip)\n",
    "    lines!(ax, x, y, color=cgrad(:Blues)[color_idx], linewidth=2)\n",
    "end\n",
    "ax.xlabel = \"eV (Δ)\"\n",
    "ax.ylabel = \"Normalized Current (GΔ/e)\"\n",
    "ax.limits = (0, 2.5), (0, 5)\n",
    "\n",
    "Colorbar(fig[1, 2], colormap=see, ticks=0:0.2:1)\n",
    "\n",
    "display(fig)\n",
    "save(joinpath(plots_dir, \"iv2.svg\"), fig)"
   ]
  },
  {
   "cell_type": "code",
   "execution_count": null,
   "id": "fb05c94c",
   "metadata": {},
   "outputs": [],
   "source": [
    "fig = Figure()\n",
    "ax = Axis(fig[1, 1])\n",
    "\n",
    "for (i, t) in enumerate(t_values)\n",
    "    x, y = derived[t]\n",
    "    color_idx = clip_normalize(t, min_clip, max_clip)\n",
    "    lines!(ax, x, y, color=cgrad(:Blues)[color_idx], linewidth=2)\n",
    "end\n",
    "ax.xlabel = \"eV (Δ)\"\n",
    "ax.ylabel = \"dI/dV (G)\"\n",
    "ax.limits = (0, 2.5), (0, 15.5)\n",
    "\n",
    "Colorbar(fig[1, 2], colormap=see, ticks=0:0.2:1)\n",
    "display(fig)\n",
    "save(joinpath(plots_dir, \"didv.svg\"), fig)"
   ]
  }
 ],
 "metadata": {
  "kernelspec": {
   "display_name": "Julia 1.11.5",
   "language": "julia",
   "name": "julia-1.11"
  },
  "language_info": {
   "file_extension": ".jl",
   "mimetype": "application/julia",
   "name": "julia",
   "version": "1.11.5"
  }
 },
 "nbformat": 4,
 "nbformat_minor": 5
}
