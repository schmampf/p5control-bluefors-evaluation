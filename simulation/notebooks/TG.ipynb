{
 "cells": [
  {
   "cell_type": "code",
   "execution_count": null,
   "id": "71112d40",
   "metadata": {},
   "outputs": [],
   "source": [
    "import numpy as np\n",
    "import scipy as sp\n",
    "import matplotlib.pyplot as plt"
   ]
  },
  {
   "cell_type": "code",
   "execution_count": null,
   "id": "a8e56090",
   "metadata": {},
   "outputs": [],
   "source": [
    "e = 1.602176634e-19\n",
    "hbar = 1.0545718e-34"
   ]
  },
  {
   "cell_type": "code",
   "execution_count": null,
   "id": "4eeb28f7",
   "metadata": {},
   "outputs": [],
   "source": [
    "nu = 15E9\n",
    "n = 20\n",
    "gamma = 0.0146\n",
    "\n",
    "file = \"../data/iv_0.05.dat\"\n",
    "V0,I0 = np.loadtxt(file, unpack=True)"
   ]
  },
  {
   "cell_type": "code",
   "execution_count": null,
   "id": "98ec346b",
   "metadata": {},
   "outputs": [],
   "source": [
    "def findVal(x: np.ndarray, y:np.ndarray, val):\n",
    "    for i,valx in enumerate(x):\n",
    "        if valx == val:\n",
    "            return y[i]\n",
    "        elif valx < val:\n",
    "            continue\n",
    "        elif valx > val:\n",
    "            x_c, y_c = x[i], y[i]\n",
    "            if i <= 0:\n",
    "                return y[0]\n",
    "            x_p, y_p = x[i-1], y[i-1]\n",
    "            x_d = x_c - x_p\n",
    "            y_d = y_c - y_p\n",
    "\n",
    "            return y_p + y_d/x_d * (val - x_p)\n",
    "    return y[-1]\n",
    "\n",
    "def IV(v0,vw):\n",
    "    w = 2*np.pi*nu\n",
    "    vw = vw * gamma\n",
    "    b_arg = (e*vw)/(hbar*w)\n",
    "    out = 0.0\n",
    "    for ni in range(-n,n+1):\n",
    "        bessel = (sp.special.jv(ni,b_arg))**2\n",
    "        v_shift = v0 - (ni*hbar*w)/(e)\n",
    "        v_shift = np.abs(v_shift)\n",
    "        I = findVal(V0,I0,v_shift)\n",
    "        out += I * bessel\n",
    "    return out"
   ]
  },
  {
   "cell_type": "code",
   "execution_count": null,
   "id": "5015bb41",
   "metadata": {},
   "outputs": [],
   "source": [
    "x = V0\n",
    "y = np.arange(0.0, 4.0, 0.1)\n",
    "y *= 1e-3\n",
    "\n",
    "z = np.zeros((len(x), len(y)), dtype=np.float64)\n",
    "\n",
    "for yi, yval in enumerate(y):\n",
    "    print(\"\\r\"+\" \"* 80, end=\"\")\n",
    "    print(\"\\rCalculating IV curve: %d/%d\" % (yi+1, len(y)), end=\"\")\n",
    "    for xi, xval in enumerate(x):\n",
    "        z[xi][yi] = IV(xval,yval)\n",
    "print()\n",
    "\n",
    "dz = np.zeros((len(x)-1, len(y)))\n",
    "for yi in range(len(y)):\n",
    "    dz[:,yi] = np.diff(z[:,yi])/np.diff(x)"
   ]
  },
  {
   "cell_type": "code",
   "execution_count": null,
   "id": "9dea28e2",
   "metadata": {},
   "outputs": [],
   "source": [
    "# show z[1]\n",
    "plt.plot(x, z[:,5], label=\"new\")\n",
    "plt.plot(V0, I0, label=\"old\")\n",
    "plt.legend()\n",
    "plt.show()\n",
    "\n",
    "# show dz[1]\n",
    "plt.plot(x[:-1], dz[:,5], label=\"new\")\n",
    "plt.plot(V0[:-1], np.diff(I0)/np.diff(V0), label=\"old\")\n",
    "plt.legend()\n",
    "plt.show()"
   ]
  },
  {
   "cell_type": "code",
   "execution_count": null,
   "id": "a728c36c",
   "metadata": {},
   "outputs": [],
   "source": [
    "dz_t = np.transpose(dz)\n",
    "dz_t = np.flipud(dz_t)\n",
    "plt.imshow(\n",
    "    dz_t, \n",
    "    aspect=\"auto\",\n",
    "    extent=(x[0], x[-1], y[0], y[-1]),\n",
    "    )\n",
    "plt.colorbar()\n",
    "plt.show()"
   ]
  }
 ],
 "metadata": {
  "kernelspec": {
   "display_name": ".venv",
   "language": "python",
   "name": "python3"
  },
  "language_info": {
   "codemirror_mode": {
    "name": "ipython",
    "version": 3
   },
   "file_extension": ".py",
   "mimetype": "text/x-python",
   "name": "python",
   "nbconvert_exporter": "python",
   "pygments_lexer": "ipython3",
   "version": "3.13.3"
  }
 },
 "nbformat": 4,
 "nbformat_minor": 5
}
