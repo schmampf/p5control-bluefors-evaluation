{
 "cells": [
  {
   "cell_type": "code",
   "execution_count": null,
   "id": "ce695541",
   "metadata": {},
   "outputs": [],
   "source": [
    "using DrWatson\n",
    "@quickactivate \"Simulation\"\n",
    "include(srcdir(\"TienGordon.jl\"))\n",
    "\n",
    "import .TienGordon as TG\n",
    "using CairoMakie\n",
    "using ProgressMeter\n",
    "using ColorSchemes\n",
    "using Statistics\n",
    "\n",
    "Threads.nthreads()"
   ]
  },
  {
   "cell_type": "code",
   "execution_count": null,
   "id": "1f91a848",
   "metadata": {},
   "outputs": [],
   "source": [
    "TG.ν = 15E9\n",
    "TG.Δ = 189e-6\n",
    "τ = TG.set_τ(0.51)\n",
    "TG.n = 40\n",
    "TG.m = 1\n",
    "\n",
    "V₀ = TG.V0;\n",
    "Vω = collect(0:0.01:25);"
   ]
  },
  {
   "cell_type": "code",
   "execution_count": null,
   "id": "da0c0596",
   "metadata": {},
   "outputs": [],
   "source": [
    "z = Matrix{Float64}(undef, length(V₀), length(Vω))\n",
    "progress = Progress(length(Vω), 1, \"Working...\")\n",
    "Threads.@threads for i in 1:lastindex(Vω)\n",
    "    next!(progress)\n",
    "    z[:, i] = TG.IV₀.(V₀, Vω[i])\n",
    "end\n",
    "\n",
    "dz = Matrix{Float64}(undef, length(V₀) - 1, length(Vω))\n",
    "for i in 1:lastindex(Vω)\n",
    "    dz[:, i] = diff(z[:, i]) ./ diff(V₀)\n",
    "end"
   ]
  },
  {
   "cell_type": "code",
   "execution_count": null,
   "id": "76f50e67",
   "metadata": {},
   "outputs": [],
   "source": [
    "clim = (mean(filter(!isnan, dz)) - std(filter(!isnan, dz)), \n",
    "        mean(filter(!isnan, dz)) + std(filter(!isnan, dz)));\n",
    "see = get(ColorSchemes.ice, range(0.0, 1.0, length=512))"
   ]
  },
  {
   "cell_type": "code",
   "execution_count": null,
   "id": "ca1bf5bd",
   "metadata": {},
   "outputs": [],
   "source": [
    "fig = Figure()\n",
    "ax = Axis(fig[1, 1], aspect=1)\n",
    "\n",
    "plt = heatmap!(ax, V₀[1:end-1], Vω, dz, colorrange=clim,colormap=see)\n",
    "Colorbar(fig[1, 2], plt, label=\"dI/dV (G₀)\")\n",
    "ax.xlabel = \"eV₀ (Δ)\"\n",
    "ax.ylabel = \"eVω (eV)\"\n",
    "ax.limits = (V₀[1], V₀[end]), (Vω[1], Vω[end])\n",
    "\n",
    "display(fig)"
   ]
  },
  {
   "cell_type": "code",
   "execution_count": null,
   "id": "836a1755",
   "metadata": {},
   "outputs": [],
   "source": [
    "ref_V0, ref_I0 = TG.V0, TG.I0\n",
    "\n",
    "evolution = 50\n",
    "\n",
    "fig = Figure(size = (1000, 400))\n",
    "\n",
    "ax = Axis(fig[1, 1])\n",
    "\n",
    "lines!(ax, V₀[1:end], z[:, evolution], color = :Blue, label = \"Modified\")\n",
    "lines!(ax, ref_V0, ref_I0, color = :Red, label = \"Reference\")\n",
    "axislegend(ax, position=:lt)\n",
    "ax.ylabel = \"I (GΔ/e)\"\n",
    "\n",
    "ax = Axis(fig[1, 2])\n",
    "lines!(ax, V₀[1:end-1], dz[:, evolution], color = :Blue, label = \"Modified\")\n",
    "lines!(ax, ref_V0[1:end-1], diff(ref_I0) ./ diff(ref_V0), color = :Red, label = \"Reference\")\n",
    "axislegend(ax)\n",
    "ax.ylabel = \"dI/dV (G)\"\n",
    "\n",
    "Label(fig[0, 1:2], \"PAT @ $(Vω[evolution]) (eV)\", fontsize=20)\n",
    "Label(fig[0, 1:2], \"τ = $(τ)\", fontsize=15, padding = (-950, 0, 0, 0))\n",
    "Label(fig[2, 1:2], \"eV₀ (eV)\", padding = (0, 0, 0, -20))\n",
    "\n",
    "display(fig)"
   ]
  }
 ],
 "metadata": {
  "kernelspec": {
   "display_name": "Julia (10 threads) 1.11.5",
   "language": "julia",
   "name": "julia-_10-threads_-1.11"
  },
  "language_info": {
   "file_extension": ".jl",
   "mimetype": "application/julia",
   "name": "julia",
   "version": "1.11.5"
  }
 },
 "nbformat": 4,
 "nbformat_minor": 5
}
