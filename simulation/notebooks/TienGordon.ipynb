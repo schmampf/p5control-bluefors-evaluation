{
 "cells": [
  {
   "cell_type": "code",
   "execution_count": null,
   "id": "ce695541",
   "metadata": {},
   "outputs": [],
   "source": [
    "using DrWatson\n",
    "@quickactivate \"Simulation\"\n",
    "include(srcdir(\"TienGordon.jl\"))\n",
    "\n",
    "import .TienGordon as TG\n",
    "using CairoMakie\n",
    "using ProgressMeter\n",
    "using ColorSchemes\n",
    "using Statistics\n",
    "using JLD2\n",
    "\n",
    "Threads.nthreads()"
   ]
  },
  {
   "cell_type": "code",
   "execution_count": null,
   "id": "d25daa30",
   "metadata": {},
   "outputs": [],
   "source": [
    "# 0.80\n",
    "# 0.63\n",
    "# 0.33\n",
    "# 0.25\n",
    "# 0.01\n",
    "# 0.00\n",
    "# 0.50\n",
    "# 0.35\n",
    "# 0.28\n",
    "# 0.25"
   ]
  },
  {
   "cell_type": "code",
   "execution_count": null,
   "id": "1f91a848",
   "metadata": {},
   "outputs": [],
   "source": [
    "TG.ν = 15E9\n",
    "TG.Δ = 189e-6\n",
    "TG.τ = 0.8\n",
    "TG.n = 200\n",
    "TG.m = collect(1:20)\n",
    "TG.load_reference(\n",
    "    # TG.ReferenceDesc(joinpath(datadir(),\"HighRes\",\"iv-T0.0K.jld2\"), \"filtered\")\n",
    "    TG.ReferenceDesc(joinpath(datadir(),\"Reference\",\"Individuals.hdf5\"), \"\")\n",
    "    ;type=TG.multiple\n",
    ")\n",
    "\n",
    "V₀ = TG.reference.V0[1:4:end]\n",
    "Vω = collect(0:0.1:25);"
   ]
  },
  {
   "cell_type": "code",
   "execution_count": null,
   "id": "6bd52ec9",
   "metadata": {},
   "outputs": [],
   "source": [
    "# fig = Figure(size=(800, 600))\n",
    "# ax = Axis(fig[1, 1])\n",
    "# x = TG.reference.V0\n",
    "# y = TG.reference.Im[15][1]\n",
    "# lines!(ax, y)\n",
    "# display(fig)"
   ]
  },
  {
   "cell_type": "code",
   "execution_count": null,
   "id": "da0c0596",
   "metadata": {},
   "outputs": [],
   "source": [
    "z = Matrix{Float64}(undef, length(V₀), length(Vω))\n",
    "progress = Progress(length(Vω), 1, \"Working...\")\n",
    "Threads.@threads for i in 1:lastindex(Vω)\n",
    "    next!(progress)\n",
    "    z[:, i] = TG.IV₀.(V₀, Vω[i])\n",
    "end\n",
    "\n",
    "dz = Matrix{Float64}(undef, length(V₀) - 1, length(Vω))\n",
    "for i in 1:lastindex(Vω)\n",
    "    dz[:, i] = diff(z[:, i]) ./ diff(V₀)\n",
    "end"
   ]
  },
  {
   "cell_type": "code",
   "execution_count": null,
   "id": "feff7cb9",
   "metadata": {},
   "outputs": [],
   "source": [
    "# jldopen(joinpath(datadir(), \"TG-IV.jld2\"), \"w\") do file\n",
    "#     dir = JLD2.Group(file, \"τ=$(TG.τ)\")\n",
    "#     dir[\"params\"] = Dict(\n",
    "#         \"ν\" => TG.ν,\n",
    "#         \"Δ\" => TG.Δ,\n",
    "#         \"τ\" => TG.τ,\n",
    "#         \"n\" => TG.n,\n",
    "#         \"m\" => TG.m,\n",
    "#         \"V0\" => (minimum(V₀), V₀[2]-V₀[1], maximum(V₀)),\n",
    "#         \"Vω\" => (minimum(Vω), Vω[2]-Vω[1], maximum(Vω)),\n",
    "#     )\n",
    "#     dir[\"Axes\"] = Dict(\n",
    "#         \"x\" => (\"V0\", V₀),\n",
    "#         \"y\" => (\"Vω\", Vω),\n",
    "#     )\n",
    "#     dir[\"IV\"] = z\n",
    "#     dir[\"dIdV\"] = dz\n",
    "# end;"
   ]
  },
  {
   "cell_type": "code",
   "execution_count": null,
   "id": "76f50e67",
   "metadata": {},
   "outputs": [],
   "source": [
    "clim = (mean(filter(!isnan, dz)) - std(filter(!isnan, dz)), \n",
    "        mean(filter(!isnan, dz)) + std(filter(!isnan, dz)));\n",
    "see = get(ColorSchemes.ice, range(0.0, 1.0, length=512));"
   ]
  },
  {
   "cell_type": "code",
   "execution_count": null,
   "id": "ca1bf5bd",
   "metadata": {},
   "outputs": [],
   "source": [
    "fig = Figure(size=(800, 600))\n",
    "ax = Axis(fig[1, 1], aspect=1)\n",
    "\n",
    "plt = heatmap!(ax, V₀[1:end-1], Vω*0.04, dz, colormap=see)\n",
    "Colorbar(fig[1, 2], plt, label=\"dI/dV (G₀)\")\n",
    "ax.xlabel = \"eV₀ (Δ)\"\n",
    "ax.ylabel = \"eVω (eV)\"\n",
    "ax.limits = (V₀[1], V₀[end]), (0.0, 1.0)\n",
    "ax.yticks = 0:0.2:1.0\n",
    "\n",
    "display(fig)"
   ]
  },
  {
   "cell_type": "code",
   "execution_count": null,
   "id": "62c5f806",
   "metadata": {},
   "outputs": [],
   "source": [
    "save(plotsdir(\"TG_IV-M$(maximum(TG.m))-$(TG.τ)τ.png\"), fig)"
   ]
  },
  {
   "cell_type": "code",
   "execution_count": null,
   "id": "836a1755",
   "metadata": {},
   "outputs": [],
   "source": [
    "# ref_V0, ref_I0 = TG.reference.V0, TG.reference.I0\n",
    "# # ref_I0 = fixer(ref_I0)\n",
    "\n",
    "# evolution = 200\n",
    "# fact = 3\n",
    "\n",
    "# fig = Figure()\n",
    "\n",
    "# ax = Axis(fig[1, 1])\n",
    "\n",
    "# lines!(ax, ref_V0, ref_I0*fact, color = :Blue, label = \"Reference\")\n",
    "# lines!(ax, V₀[1:end], z[:, evolution]*fact, color = :Orange, label = \"Irradiated\")\n",
    "# axislegend(ax, position=:lt)\n",
    "# ax.ylabel = \"I (2eΔ/h)\"\n",
    "# ax.xlabel = \"eV₀ (Δ)\"\n",
    "# xlims!(ax, (-6, 6))\n",
    "# # ylims!(ax,(-15, 15))\n",
    "# ax.xgridvisible = false\n",
    "# ax.ygridvisible = false\n",
    "\n",
    "# display(fig)\n",
    "\n",
    "# fig = Figure()\n",
    "\n",
    "# ax = Axis(fig[1, 1])\n",
    "# dy = diff(ref_I0) ./ diff(ref_V0)\n",
    "# lines!(ax, ref_V0[1:end-1], dy, color = :Blue, label = \"Reference\")\n",
    "# lines!(ax, V₀[1:end-1], dz[:, evolution], color = :Orange, label = \"Irradiated\")\n",
    "# axislegend(ax, position=:lt)\n",
    "# ax.ylabel = \"dI/dV (G₀)\"\n",
    "# ax.xlabel = \"eV₀ (Δ)\"\n",
    "# xlims!(ax, (-6, 6))\n",
    "# ax.xgridvisible = false\n",
    "# ax.ygridvisible = false\n",
    "\n",
    "# # Label(fig[0, 1:2], \"PAT @ $(Vω[evolution]) (eV)\", fontsize=20)\n",
    "# # Label(fig[0, 1:2], \"τ = $(τ)\", fontsize=15, padding = (-950, 0, 0, 0))\n",
    "\n",
    "# # ax = Axis(fig[1, 3])\n",
    "# # dy = diff(ref_I0)\n",
    "# # dy2 = abs.(diff(dy))\n",
    "# # lines!(ax, ref_V0[1:end-2], dy2, color = :Red, label = \"Reference\")\n",
    "# # # lines!(ax, V₀[1:end-2], diff(dz[:, evolution]) ./ diff(V₀[1:end-1]), color = :Blue, label = \"Irradiated\")\n",
    "# # xlims!(ax, (-6, 6))\n",
    "\n",
    "# display(fig)"
   ]
  }
 ],
 "metadata": {
  "kernelspec": {
   "display_name": "Julia (10 threads) 1.11.5",
   "language": "julia",
   "name": "julia-_10-threads_-1.11"
  },
  "language_info": {
   "file_extension": ".jl",
   "mimetype": "application/julia",
   "name": "julia",
   "version": "1.11.5"
  }
 },
 "nbformat": 4,
 "nbformat_minor": 5
}
