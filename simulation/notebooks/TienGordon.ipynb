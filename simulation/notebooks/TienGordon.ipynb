{
 "cells": [
  {
   "cell_type": "code",
   "execution_count": null,
   "id": "ce695541",
   "metadata": {},
   "outputs": [],
   "source": [
    "using DrWatson\n",
    "@quickactivate \"Simulation\"\n",
    "include(srcdir(\"TienGordon.jl\"))\n",
    "\n",
    "import .TienGordon as TG\n",
    "using CairoMakie\n",
    "using ProgressMeter"
   ]
  },
  {
   "cell_type": "code",
   "execution_count": null,
   "id": "1f91a848",
   "metadata": {},
   "outputs": [],
   "source": [
    "TG.ν = 15E9\n",
    "# TG.extend = true\n",
    "τ = TG.set_τ(0.05)\n",
    "TG.n = 200\n",
    "\n",
    "x = TG.V0;\n",
    "y = collect(0:0.001:4) .* 0.0001;"
   ]
  },
  {
   "cell_type": "code",
   "execution_count": null,
   "id": "da0c0596",
   "metadata": {},
   "outputs": [],
   "source": [
    "z = Matrix{Float64}(undef, length(x), length(y))\n",
    "progress = Progress(length(y), 1, \"Working...\")\n",
    "for yi in 1:lastindex(y)\n",
    "    next!(progress)\n",
    "    for xi in 1:lastindex(x)\n",
    "        z[xi, yi] = TG.IV₀(x[xi], y[yi])\n",
    "    end\n",
    "end\n",
    "\n",
    "dz = Matrix{Float64}(undef, length(x) - 1, length(y))\n",
    "for i in 1:lastindex(y)\n",
    "    dz[:, i] = diff(z[:, i]) ./ diff(x)\n",
    "end"
   ]
  },
  {
   "cell_type": "code",
   "execution_count": null,
   "id": "878001b1",
   "metadata": {},
   "outputs": [],
   "source": [
    "fig = Figure()\n",
    "ax = Axis(fig[1, 1])\n",
    "\n",
    "lines!(ax, x[1:end-1], dz[:, 5])\n",
    "# plt = heatmap!(ax, x[1:end-1], y, dz)\n",
    "# Colorbar(fig[1, 2], plt)\n",
    "\n",
    "display(fig)"
   ]
  },
  {
   "cell_type": "code",
   "execution_count": null,
   "id": "ca1bf5bd",
   "metadata": {},
   "outputs": [],
   "source": [
    "fig = Figure()\n",
    "ax = Axis(fig[1, 1])\n",
    "\n",
    "# lines!(ax, x[1:end-1], dz[:, 1])\n",
    "plt = heatmap!(ax, x[1:end-1], y, dz)\n",
    "Colorbar(fig[1, 2], plt)\n",
    "\n",
    "display(fig)"
   ]
  },
  {
   "cell_type": "code",
   "execution_count": null,
   "id": "836a1755",
   "metadata": {},
   "outputs": [],
   "source": [
    "using JLD2\n",
    "data_dir = joinpath(@__DIR__, \"..\", \"data\")\n",
    "data = jldopen(data_dir * \"/iv.jld2\", \"r\")\n",
    "ref_V0, ref_I0 = data[\"normalized\"][τ]\n",
    "\n",
    "fig = Figure()\n",
    "ax = Axis(fig[1, 1])\n",
    "\n",
    "lines!(ax, x[1:end], z[:, 10], color = :Blue, label = \"Simulation\")\n",
    "lines!(ax, ref_V0, ref_I0, color = :Red, label = \"Reference\")\n",
    "\n",
    "ax = Axis(fig[1, 2])\n",
    "lines!(ax, x[1:end-1], dz[:, 10], color = :Blue, label = \"Simulation\")\n",
    "lines!(ax, ref_V0[1:end-1], diff(ref_I0) ./ diff(ref_V0), color = :Red, label = \"Reference\")\n",
    "\n",
    "display(fig)"
   ]
  }
 ],
 "metadata": {
  "kernelspec": {
   "display_name": "Julia 1.11.5",
   "language": "julia",
   "name": "julia-1.11"
  },
  "language_info": {
   "file_extension": ".jl",
   "mimetype": "application/julia",
   "name": "julia",
   "version": "1.11.5"
  }
 },
 "nbformat": 4,
 "nbformat_minor": 5
}
