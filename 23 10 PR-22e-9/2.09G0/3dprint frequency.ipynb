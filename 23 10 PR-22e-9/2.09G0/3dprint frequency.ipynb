{
 "cells": [
  {
   "cell_type": "markdown",
   "id": "1fdebfe1",
   "metadata": {},
   "source": [
    "# PR-22e-09 - Frequency Study print 3d\n",
    "### $G  = 2.09\\,G_0$\n",
    "### $\\tau_i = \\{0.80, 0.63, 0.33, 0.25, 0.01, 0.00\\}$"
   ]
  },
  {
   "cell_type": "code",
   "execution_count": 1,
   "id": "fba21485",
   "metadata": {},
   "outputs": [],
   "source": [
    "# initialize stuff\n",
    "%reload_ext autoreload\n",
    "%autoreload 2\n",
    "%matplotlib inline\n",
    "\n",
    "import sys\n",
    "import importlib\n",
    "import logging\n",
    "\n",
    "import numpy as np\n",
    "import matplotlib.pyplot as plt\n",
    "\n",
    "sys.path.append(\"/Users/oliver/Documents/p5control-bluefors-evaluation\")\n",
    "sys.path.append(\"/home/oliver/Documents/p5control-bluefors-evaluation\")\n",
    "\n",
    "from utilities.baseclass import BaseClass\n",
    "from utilities.baseevaluation import BaseEvaluation\n",
    "from utilities.baseplot import BasePlot\n",
    "from utilities.ivevaluation import IVEvaluation\n",
    "\n",
    "importlib.reload(sys.modules[\"utilities.baseclass\"])\n",
    "importlib.reload(sys.modules[\"utilities.baseevaluation\"])\n",
    "importlib.reload(sys.modules[\"utilities.baseplot\"])\n",
    "importlib.reload(sys.modules[\"utilities.ivevaluation\"])\n",
    "\n",
    "import utilities.basefunctions\n",
    "importlib.reload(sys.modules[\"utilities.basefunctions\"])\n",
    "\n",
    "from utilities.corporate_design_colors_v4 import cmap\n",
    "importlib.reload(sys.modules[\"utilities.corporate_design_colors_v4\"])\n",
    "\n",
    "importlib.reload(logging)\n",
    "logger = logging.getLogger(__name__)\n",
    "logging.basicConfig(level=logging.INFO, format=\"%(message)s\")\n",
    "# pip install numpy matplotlib scipy tqdm torch hdf5view h5py PySide6"
   ]
  },
  {
   "cell_type": "code",
   "execution_count": null,
   "id": "000bb65b",
   "metadata": {},
   "outputs": [],
   "source": []
  },
  {
   "cell_type": "code",
   "execution_count": 2,
   "id": "aeb49da9",
   "metadata": {},
   "outputs": [
    {
     "name": "stderr",
     "output_type": "stream",
     "text": [
      "(base) ... BaseClass initialized.\n",
      "(base eva) ... BaseEvaluation initialized.\n",
      "(iv eva) ... IVEvaluation initialized.\n",
      "(base eva) Available measurements:\n",
      "critical field\n",
      "frequency_at_-20dBm\n",
      "frequency_at_-25dBm\n",
      "frequency_at_15GHz\n",
      "frequency_at_19.3GHz\n",
      "frequency_at_7.8GHz\n",
      "Frequency Study (0.1V)\n",
      "(base eva) Measurement keys preview: ['nu=0.000GHz', 'nu=0.100GHz', 'nu=9.800GHz', 'nu=9.900GHz']\n"
     ]
    },
    {
     "name": "stdout",
     "output_type": "stream",
     "text": [
      "Frequency Study (0.1V)\n"
     ]
    },
    {
     "name": "stderr",
     "output_type": "stream",
     "text": [
      "100%|██████████| 201/201 [00:05<00:00, 37.40it/s]\n",
      "/Users/oliver/Documents/p5control-bluefors-evaluation/utilities/ivevaluation.py:832: RuntimeWarning: Mean of empty slice\n",
      "  dictionary[\"temperature\"] = np.nanmean(\n",
      "/Users/oliver/Documents/p5control-bluefors-evaluation/utilities/ivevaluation.py:843: RuntimeWarning: Mean of empty slice\n",
      "  dictionary[\"temperature\"] = np.nanmean(\n",
      "(base) saveData()\n"
     ]
    }
   ],
   "source": [
    "# Evaluation for unbroken\n",
    "from utilities.ivevaluation import IVEvaluation\n",
    "importlib.reload(sys.modules[\"utilities.ivevaluation\"])\n",
    "\n",
    "eva = IVEvaluation()\n",
    "eva.file_directory = '/Volumes/speedyboy/measurement data 2/'\n",
    "eva.file_folder = '2023-11-03_1_G0/'\n",
    "eva.file_name = '2023-11-03_G0_stripline.hdf5'\n",
    "eva.setAmplifications(10000, 1000)\n",
    "eva.setV(.7e-3, voltage_bins=400)\n",
    "eva.setI(100e-9, current_bins=1000)\n",
    "eva.showMeasurements()\n",
    "\n",
    "eva.downsample_frequency = 43\n",
    "\n",
    "\n",
    "# Frequency Study (0.1V)\n",
    "eva.title = \"Frequency Study (0.1V)\"\n",
    "print(eva.title)\n",
    "eva.sub_folder = \"frequency study\"\n",
    "eva.setMeasurement(\"frequency_at_-20dBm\")\n",
    "eva.showKeys()\n",
    "eva.setKeys(index_0=3, index_1=-3, norm=1e9)\n",
    "eva.eva_temperature = False\n",
    "eva.up_sweep, = eva.getMaps([1])\n",
    "eva.saveData()"
   ]
  },
  {
   "cell_type": "code",
   "execution_count": 3,
   "id": "b3a63048",
   "metadata": {},
   "outputs": [
    {
     "name": "stderr",
     "output_type": "stream",
     "text": [
      "(base) ... BaseClass initialized.\n",
      "(base eva) ... BaseEvaluation initialized.\n",
      "(iv eva) ... IVEvaluation initialized.\n",
      "(base) ... BaseClass initialized.\n",
      "(base plot) ... BasePlot initialized.\n",
      "(iv plot) ... IVPlot initialized.\n",
      "Frequency Study (0.1V)\n",
      "(base) loadData()\n",
      "(iv plot) smoothing = True\n",
      "(iv plot) window_length = 5\n",
      "(base plot) saveFigure()\n",
      "(base plot) saveFigure()\n"
     ]
    }
   ],
   "source": [
    "# Execute All IVPlotting\n",
    "%matplotlib qt\n",
    "from utilities.ivplot import IVPlot\n",
    "importlib.reload(sys.modules[\"utilities.ivplot\"])\n",
    "\n",
    "i = 0\n",
    "eva = IVPlot()\n",
    "eva.title = \"Frequency Study (0.1V)\"\n",
    "eva.sub_folder = \"frequency study\"\n",
    "eva.loadData()\n",
    "eva.to_plot = eva.up_sweep\n",
    "eva.title_of_plot = \"Up Sweep\"\n",
    "eva.y_characters = [r\"$\\nu_\\mathrm{AC}$\", \"Hz\"]\n",
    "eva.smoothing = True\n",
    "eva.window_length = 5\n",
    "eva.plot_T = False\n",
    "eva.plot_all()"
   ]
  },
  {
   "cell_type": "code",
   "execution_count": 6,
   "id": "bb20329c",
   "metadata": {},
   "outputs": [
    {
     "data": {
      "text/plain": [
       "151"
      ]
     },
     "execution_count": 6,
     "metadata": {},
     "output_type": "execute_result"
    }
   ],
   "source": [
    "y_lim = (50, None)\n",
    "\n",
    "Z, x, y = eva.up_sweep[\"differential_conductance\"], eva.mapped[\"voltage_axis\"], eva.mapped[\"y_axis\"]\n",
    "\n",
    "Z = Z[y_lim[0]:y_lim[1], :]\n",
    "y= y[y_lim[0]:y_lim[1]]\n",
    "x = x[:]\n",
    "X, Y = np.meshgrid(x, y)\n",
    "Z_base = np.ones(np.shape(Z))*-.05\n",
    "factor = 1\n",
    "\n",
    "Z -= np.nanmin(Z)\n",
    "X /= np.nanmax(X) * len(x) / len(y) * factor\n",
    "Y /= np.nanmax(Y) * factor\n",
    "Z_base /= np.nanmax(Z) * factor\n",
    "Z /= np.nanmax(Z) * factor\n",
    "\n",
    "len(y)"
   ]
  },
  {
   "cell_type": "code",
   "execution_count": 7,
   "id": "48922ab4",
   "metadata": {},
   "outputs": [],
   "source": [
    "\n",
    "from matplotlib import cbook, cm\n",
    "from matplotlib.colors import LightSource\n",
    "\n",
    "# Set up plot\n",
    "fig, ax = plt.subplots(subplot_kw=dict(projection='3d'))\n",
    "\n",
    "ls = LightSource(270, 45)\n",
    "rgb = ls.shade(Z, cmap=cmap(), vert_exag=0.1, blend_mode='soft')\n",
    "\n",
    "surf = ax.plot_surface(X, Y, Z, rstride=1, cstride=1,facecolors=rgb,\n",
    "                       linewidth=0, antialiased=False, shade=False)\n",
    "ax.invert_yaxis()\n",
    "\n",
    "# ax.contourf(X, Y, Z, zdir='z', offset=-.1, cmap='viridis')\n",
    "\n",
    "# ax.set_zlim(None, None)\n",
    "# ax.contourf(X, Y, Z, zdir='x', offset=x[0], cmap=cmap())\n",
    "# ax.contourf(X, Y, Z, zdir='y', offset=y[-1], cmap=cmap())\n",
    "\n",
    "plt.show()"
   ]
  },
  {
   "cell_type": "code",
   "execution_count": 8,
   "id": "c691739c",
   "metadata": {},
   "outputs": [],
   "source": [
    "# Create triangular mesh for STL\n",
    " \n",
    "# Original surface\n",
    "vertices_top = np.column_stack((X.ravel(), Y.ravel(), Z.ravel()))\n",
    "\n",
    "# Base surface (same X/Y, Z=0)\n",
    "vertices_bottom = np.column_stack((X.ravel(), Y.ravel(), Z_base.ravel()))\n",
    "\n",
    "# Combine both\n",
    "vertices = np.vstack((vertices_top, vertices_bottom))\n",
    "n = X.shape[0] * X.shape[1]  # number of vertices in each layer\n",
    "\n",
    "ncols = len(x)\n",
    "nrows = len(y)\n",
    "\n",
    "faces = []\n",
    "\n",
    "def idx(layer, i, j):\n",
    "    return layer * n + i * ncols + j\n",
    "\n",
    "for i in range(nrows - 1):\n",
    "    for j in range(ncols - 1):\n",
    "        # top surface\n",
    "        faces.append([idx(0, i, j), idx(0, i+1, j), idx(0, i, j+1)])\n",
    "        faces.append([idx(0, i+1, j), idx(0, i+1, j+1), idx(0, i, j+1)])\n",
    "        \n",
    "        # bottom surface (inverted winding order)\n",
    "        faces.append([idx(1, i, j), idx(1, i, j+1), idx(1, i+1, j)])\n",
    "        faces.append([idx(1, i+1, j), idx(1, i, j+1), idx(1, i+1, j+1)])\n",
    "        \n",
    "        # sides (walls)\n",
    "        faces.append([idx(0, i, j), idx(0, i+1, j), idx(1, i+1, j)])\n",
    "        faces.append([idx(0, i, j), idx(1, i+1, j), idx(1, i, j)])\n",
    "        \n",
    "        faces.append([idx(0, i+1, j), idx(0, i+1, j+1), idx(1, i+1, j+1)])\n",
    "        faces.append([idx(0, i+1, j), idx(1, i+1, j+1), idx(1, i+1, j)])\n",
    "        \n",
    "        faces.append([idx(0, i+1, j+1), idx(0, i, j+1), idx(1, i, j+1)])\n",
    "        faces.append([idx(0, i+1, j+1), idx(1, i, j+1), idx(1, i+1, j+1)])\n",
    "        \n",
    "        faces.append([idx(0, i, j+1), idx(0, i, j), idx(1, i, j)])\n",
    "        faces.append([idx(0, i, j+1), idx(1, i, j), idx(1, i, j+1)])\n",
    "\n",
    "import numpy\n",
    "from stl import mesh\n",
    "faces = np.array(faces)\n",
    "\n",
    "m = mesh.Mesh(np.zeros(faces.shape[0], dtype=mesh.Mesh.dtype))\n",
    "for i, f in enumerate(faces):\n",
    "    for j in range(3):\n",
    "        m.vectors[i][j] = vertices[f[j], :]\n",
    "\n",
    "# Save STL file\n",
    "m.save(eva.title+\".stl\")"
   ]
  },
  {
   "cell_type": "code",
   "execution_count": 9,
   "id": "899cc3da",
   "metadata": {},
   "outputs": [
    {
     "name": "stderr",
     "output_type": "stream",
     "text": [
      "(base) ... BaseClass initialized.\n",
      "(base eva) ... BaseEvaluation initialized.\n",
      "(iv eva) ... IVEvaluation initialized.\n"
     ]
    },
    {
     "ename": "FileNotFoundError",
     "evalue": "[Errno 2] Unable to synchronously open file (unable to open file: name = '/Users/oliver/Documents/measurement data23 10 PR-22e-09/2023-11-03_G0_antenna.hdf5', errno = 2, error message = 'No such file or directory', flags = 0, o_flags = 0)",
     "output_type": "error",
     "traceback": [
      "\u001b[31m---------------------------------------------------------------------------\u001b[39m",
      "\u001b[31mFileNotFoundError\u001b[39m                         Traceback (most recent call last)",
      "\u001b[36mCell\u001b[39m\u001b[36m \u001b[39m\u001b[32mIn[9]\u001b[39m\u001b[32m, line 12\u001b[39m\n\u001b[32m     10\u001b[39m eva.setV(\u001b[32m.7e-3\u001b[39m, voltage_bins=\u001b[32m350\u001b[39m)\n\u001b[32m     11\u001b[39m eva.setI(\u001b[32m100e-9\u001b[39m, current_bins=\u001b[32m1000\u001b[39m)\n\u001b[32m---> \u001b[39m\u001b[32m12\u001b[39m \u001b[43meva\u001b[49m\u001b[43m.\u001b[49m\u001b[43mshowMeasurements\u001b[49m\u001b[43m(\u001b[49m\u001b[43m)\u001b[49m\n\u001b[32m     14\u001b[39m eva.downsample_frequency = \u001b[32m43\u001b[39m\n\u001b[32m     17\u001b[39m \u001b[38;5;66;03m# Amplitude Study (19.3GHz)\u001b[39;00m\n",
      "\u001b[36mFile \u001b[39m\u001b[32m~/Documents/p5control-bluefors-evaluation/utilities/baseevaluation.py:162\u001b[39m, in \u001b[36mBaseEvaluation.showMeasurements\u001b[39m\u001b[34m(self)\u001b[39m\n\u001b[32m    159\u001b[39m logger.debug(\u001b[33m\"\u001b[39m\u001b[33m(\u001b[39m\u001b[38;5;132;01m%s\u001b[39;00m\u001b[33m) showMeasurements()\u001b[39m\u001b[33m\"\u001b[39m, \u001b[38;5;28mself\u001b[39m._base_eva_name)\n\u001b[32m    161\u001b[39m file_name = \u001b[38;5;28mself\u001b[39m.file_directory + \u001b[38;5;28mself\u001b[39m.file_folder + \u001b[38;5;28mself\u001b[39m.file_name\n\u001b[32m--> \u001b[39m\u001b[32m162\u001b[39m \u001b[38;5;28;01mwith\u001b[39;00m \u001b[43mFile\u001b[49m\u001b[43m(\u001b[49m\u001b[43mfile_name\u001b[49m\u001b[43m,\u001b[49m\u001b[43m \u001b[49m\u001b[33;43m\"\u001b[39;49m\u001b[33;43mr\u001b[39;49m\u001b[33;43m\"\u001b[39;49m\u001b[43m)\u001b[49m \u001b[38;5;28;01mas\u001b[39;00m data_file:\n\u001b[32m    163\u001b[39m     measurements = \u001b[38;5;28mlist\u001b[39m(data_file[\u001b[33m\"\u001b[39m\u001b[33mmeasurement\u001b[39m\u001b[33m\"\u001b[39m].keys())  \u001b[38;5;66;03m# type: ignore\u001b[39;00m\n\u001b[32m    164\u001b[39m     logger.info(\u001b[33m\"\u001b[39m\u001b[33m(\u001b[39m\u001b[38;5;132;01m%s\u001b[39;00m\u001b[33m) Available measurements:\u001b[39m\u001b[33m\"\u001b[39m, \u001b[38;5;28mself\u001b[39m._base_eva_name)\n",
      "\u001b[36mFile \u001b[39m\u001b[32m~/Documents/p5control-bluefors-evaluation/.venv/lib/python3.13/site-packages/h5py/_hl/files.py:564\u001b[39m, in \u001b[36mFile.__init__\u001b[39m\u001b[34m(self, name, mode, driver, libver, userblock_size, swmr, rdcc_nslots, rdcc_nbytes, rdcc_w0, track_order, fs_strategy, fs_persist, fs_threshold, fs_page_size, page_buf_size, min_meta_keep, min_raw_keep, locking, alignment_threshold, alignment_interval, meta_block_size, **kwds)\u001b[39m\n\u001b[32m    555\u001b[39m     fapl = make_fapl(driver, libver, rdcc_nslots, rdcc_nbytes, rdcc_w0,\n\u001b[32m    556\u001b[39m                      locking, page_buf_size, min_meta_keep, min_raw_keep,\n\u001b[32m    557\u001b[39m                      alignment_threshold=alignment_threshold,\n\u001b[32m    558\u001b[39m                      alignment_interval=alignment_interval,\n\u001b[32m    559\u001b[39m                      meta_block_size=meta_block_size,\n\u001b[32m    560\u001b[39m                      **kwds)\n\u001b[32m    561\u001b[39m     fcpl = make_fcpl(track_order=track_order, fs_strategy=fs_strategy,\n\u001b[32m    562\u001b[39m                      fs_persist=fs_persist, fs_threshold=fs_threshold,\n\u001b[32m    563\u001b[39m                      fs_page_size=fs_page_size)\n\u001b[32m--> \u001b[39m\u001b[32m564\u001b[39m     fid = \u001b[43mmake_fid\u001b[49m\u001b[43m(\u001b[49m\u001b[43mname\u001b[49m\u001b[43m,\u001b[49m\u001b[43m \u001b[49m\u001b[43mmode\u001b[49m\u001b[43m,\u001b[49m\u001b[43m \u001b[49m\u001b[43muserblock_size\u001b[49m\u001b[43m,\u001b[49m\u001b[43m \u001b[49m\u001b[43mfapl\u001b[49m\u001b[43m,\u001b[49m\u001b[43m \u001b[49m\u001b[43mfcpl\u001b[49m\u001b[43m,\u001b[49m\u001b[43m \u001b[49m\u001b[43mswmr\u001b[49m\u001b[43m=\u001b[49m\u001b[43mswmr\u001b[49m\u001b[43m)\u001b[49m\n\u001b[32m    566\u001b[39m \u001b[38;5;28;01mif\u001b[39;00m \u001b[38;5;28misinstance\u001b[39m(libver, \u001b[38;5;28mtuple\u001b[39m):\n\u001b[32m    567\u001b[39m     \u001b[38;5;28mself\u001b[39m._libver = libver\n",
      "\u001b[36mFile \u001b[39m\u001b[32m~/Documents/p5control-bluefors-evaluation/.venv/lib/python3.13/site-packages/h5py/_hl/files.py:238\u001b[39m, in \u001b[36mmake_fid\u001b[39m\u001b[34m(name, mode, userblock_size, fapl, fcpl, swmr)\u001b[39m\n\u001b[32m    236\u001b[39m     \u001b[38;5;28;01mif\u001b[39;00m swmr \u001b[38;5;129;01mand\u001b[39;00m swmr_support:\n\u001b[32m    237\u001b[39m         flags |= h5f.ACC_SWMR_READ\n\u001b[32m--> \u001b[39m\u001b[32m238\u001b[39m     fid = \u001b[43mh5f\u001b[49m\u001b[43m.\u001b[49m\u001b[43mopen\u001b[49m\u001b[43m(\u001b[49m\u001b[43mname\u001b[49m\u001b[43m,\u001b[49m\u001b[43m \u001b[49m\u001b[43mflags\u001b[49m\u001b[43m,\u001b[49m\u001b[43m \u001b[49m\u001b[43mfapl\u001b[49m\u001b[43m=\u001b[49m\u001b[43mfapl\u001b[49m\u001b[43m)\u001b[49m\n\u001b[32m    239\u001b[39m \u001b[38;5;28;01melif\u001b[39;00m mode == \u001b[33m'\u001b[39m\u001b[33mr+\u001b[39m\u001b[33m'\u001b[39m:\n\u001b[32m    240\u001b[39m     fid = h5f.open(name, h5f.ACC_RDWR, fapl=fapl)\n",
      "\u001b[36mFile \u001b[39m\u001b[32mh5py/_objects.pyx:54\u001b[39m, in \u001b[36mh5py._objects.with_phil.wrapper\u001b[39m\u001b[34m()\u001b[39m\n",
      "\u001b[36mFile \u001b[39m\u001b[32mh5py/_objects.pyx:55\u001b[39m, in \u001b[36mh5py._objects.with_phil.wrapper\u001b[39m\u001b[34m()\u001b[39m\n",
      "\u001b[36mFile \u001b[39m\u001b[32mh5py/h5f.pyx:102\u001b[39m, in \u001b[36mh5py.h5f.open\u001b[39m\u001b[34m()\u001b[39m\n",
      "\u001b[31mFileNotFoundError\u001b[39m: [Errno 2] Unable to synchronously open file (unable to open file: name = '/Users/oliver/Documents/measurement data23 10 PR-22e-09/2023-11-03_G0_antenna.hdf5', errno = 2, error message = 'No such file or directory', flags = 0, o_flags = 0)"
     ]
    }
   ],
   "source": [
    "# Evaluation for unbroken\n",
    "from utilities.ivevaluation import IVEvaluation\n",
    "importlib.reload(sys.modules[\"utilities.ivevaluation\"])\n",
    "\n",
    "eva = IVEvaluation()\n",
    "eva.file_directory = '/Users/oliver/Documents/measurement data'\n",
    "eva.file_folder = '23 10 PR-22e-09/'\n",
    "eva.file_name = '2023-11-03_G0_antenna.hdf5'\n",
    "eva.setAmplifications(10000, 1000)\n",
    "eva.setV(.7e-3, voltage_bins=350)\n",
    "eva.setI(100e-9, current_bins=1000)\n",
    "eva.showMeasurements()\n",
    "\n",
    "eva.downsample_frequency = 43\n",
    "\n",
    "\n",
    "# Amplitude Study (19.3GHz)\n",
    "eva.title = \"Amplitude Study (19.3GHz)\"\n",
    "print(eva.title)\n",
    "eva.sub_folder = \"amplitude study\"\n",
    "eva.setMeasurement(\"frequency_at_19.3GHz\")\n",
    "eva.showKeys()\n",
    "eva.setKeys(index_0=3, index_1=-3, norm=1)\n",
    "eva.eva_temperature = False\n",
    "eva.up_sweep, = eva.getMaps([1])\n",
    "eva.up_sweep, = eva.getMapsAmplitude([eva.up_sweep])\n",
    "eva.y_axis = eva.amplitude_axis\n",
    "eva.saveData()\n",
    "\n"
   ]
  },
  {
   "cell_type": "code",
   "execution_count": 21,
   "id": "197e6268",
   "metadata": {},
   "outputs": [
    {
     "name": "stderr",
     "output_type": "stream",
     "text": [
      "(base) ... BaseClass initialized.\n",
      "(base eva) ... BaseEvaluation initialized.\n",
      "(iv eva) ... IVEvaluation initialized.\n",
      "(base) ... BaseClass initialized.\n",
      "(base plot) ... BasePlot initialized.\n",
      "(iv plot) ... IVPlot initialized.\n",
      "Amplitude Study (19.3GHz)\n",
      "(base) loadData()\n",
      "(iv plot) smoothing = True\n",
      "(iv plot) window_length = 5\n",
      "(base plot) saveFigure()\n",
      "(base plot) saveFigure()\n"
     ]
    }
   ],
   "source": [
    "# Execute All IVPlotting\n",
    "%matplotlib qt\n",
    "from utilities.ivplot import IVPlot\n",
    "importlib.reload(sys.modules[\"utilities.ivplot\"])\n",
    "\n",
    "eva = IVPlot()\n",
    "eva.title = \"Amplitude Study (19.3GHz)\"\n",
    "eva.sub_folder = \"amplitude study\"\n",
    "eva.loadData()\n",
    "eva.to_plot = eva.up_sweep\n",
    "eva.title_of_plot = \"Up Sweep\"\n",
    "eva.y_characters = [r\"$\\nu_\\mathrm{AC}$\", \"Hz\"]\n",
    "eva.smoothing = True\n",
    "eva.window_length = 5\n",
    "eva.plot_T = False\n",
    "eva.plot_all()"
   ]
  },
  {
   "cell_type": "code",
   "execution_count": null,
   "id": "08720e50",
   "metadata": {},
   "outputs": [],
   "source": []
  }
 ],
 "metadata": {
  "kernelspec": {
   "display_name": ".venv",
   "language": "python",
   "name": "python3"
  },
  "language_info": {
   "codemirror_mode": {
    "name": "ipython",
    "version": 3
   },
   "file_extension": ".py",
   "mimetype": "text/x-python",
   "name": "python",
   "nbconvert_exporter": "python",
   "pygments_lexer": "ipython3",
   "version": "3.13.3"
  }
 },
 "nbformat": 4,
 "nbformat_minor": 5
}
