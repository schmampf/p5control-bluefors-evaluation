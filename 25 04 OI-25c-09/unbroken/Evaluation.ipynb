{
 "cells": [
  {
   "cell_type": "code",
   "execution_count": null,
   "metadata": {},
   "outputs": [
    {
     "ename": "",
     "evalue": "",
     "output_type": "error",
     "traceback": [
      "\u001b[1;31mRunning cells with 'Python 3.13.3' requires the ipykernel package.\n",
      "\u001b[1;31mInstall 'ipykernel' into the Python environment. \n",
      "\u001b[1;31mCommand: '/opt/homebrew/bin/python3 -m pip install ipykernel -U --user --force-reinstall'"
     ]
    }
   ],
   "source": [
    "# initialize stuff\n",
    "%reload_ext autoreload\n",
    "%autoreload 2\n",
    "%matplotlib inline\n",
    "\n",
    "import sys\n",
    "import importlib\n",
    "import logging\n",
    "import hdf5view\n",
    "\n",
    "import numpy as np\n",
    "import matplotlib.pyplot as plt\n",
    "\n",
    "sys.path.append(\"/Users/oliver/Documents/p5control-bluefors-evaluation\")\n",
    "sys.path.append(\"/home/oliver/Documents/p5control-bluefors-evaluation\")\n",
    "\n",
    "from utilities.baseclass import BaseClass\n",
    "from utilities.baseevaluation import BaseEvaluation\n",
    "from utilities.baseplot import BasePlot\n",
    "from utilities.ivevaluation import IVEvaluation\n",
    "\n",
    "importlib.reload(sys.modules[\"utilities.baseclass\"])\n",
    "importlib.reload(sys.modules[\"utilities.baseevaluation\"])\n",
    "importlib.reload(sys.modules[\"utilities.baseplot\"])\n",
    "importlib.reload(sys.modules[\"utilities.ivevaluation\"])\n",
    "\n",
    "import utilities.basefunctions\n",
    "importlib.reload(sys.modules[\"utilities.basefunctions\"])\n",
    "\n",
    "from utilities.corporate_design_colors_v4 import cmap\n",
    "importlib.reload(sys.modules[\"utilities.corporate_design_colors_v4\"])\n",
    "\n",
    "importlib.reload(logging)\n",
    "logger = logging.getLogger(__name__)\n",
    "logging.basicConfig(level=logging.INFO, format=\"%(message)s\")"
   ]
  },
  {
   "cell_type": "code",
   "execution_count": 2,
   "metadata": {},
   "outputs": [
    {
     "name": "stderr",
     "output_type": "stream",
     "text": [
      "(base) ... BaseClass initialized.\n",
      "(base) showData()\n"
     ]
    },
    {
     "data": {
      "text/plain": [
       "{'base': {'title': 'Amplitude Study (7.8GHz)',\n",
       "  'sub_folder': 'amplitude study',\n",
       "  'data_folder': 'data/',\n",
       "  'figure_folder': 'figures/',\n",
       "  'ignore_while_saving': ['_base_name', '_base_plot_name'],\n",
       "  'file_directory': '/Users/oliver/Documents/measurement data/',\n",
       "  'file_folder': '23 10 PR22e9/2023-11-02-high_Tau_2_G0/',\n",
       "  'file_name': '2023-11-02_high_tau_2_G0_stripline.hdf5'}}"
      ]
     },
     "execution_count": 2,
     "metadata": {},
     "output_type": "execute_result"
    }
   ],
   "source": [
    "# Test BaseClass\n",
    "from utilities.baseclass import BaseClass\n",
    "importlib.reload(sys.modules[\"utilities.baseclass\"])\n",
    "\n",
    "eva = BaseClass()\n",
    "eva.title = \"Amplitude Study (7.8GHz)\"\n",
    "eva.sub_folder = \"amplitude study\"\n",
    "eva.file_directory = \"/Users/oliver/Documents/measurement data/\"\n",
    "eva.file_folder = \"23 10 PR22e9/2023-11-02-high_Tau_2_G0/\"\n",
    "eva.file_name = \"2023-11-02_high_tau_2_G0_stripline.hdf5\"\n",
    "eva.showData()"
   ]
  },
  {
   "cell_type": "code",
   "execution_count": 3,
   "metadata": {},
   "outputs": [
    {
     "name": "stderr",
     "output_type": "stream",
     "text": [
      "(base) ... BaseClass initialized.\n",
      "(base eva) ... BaseEvaluation initialized.\n",
      "(base) showData()\n",
      "(base eva) setKeys(3, -3, 1000000000.0, nu=0.000GHz)\n",
      "(base) showData()\n"
     ]
    },
    {
     "data": {
      "text/plain": [
       "{'base': {'title': 'Amplitude Study (7.8GHz)',\n",
       "  'sub_folder': 'amplitude study',\n",
       "  'data_folder': 'data/',\n",
       "  'figure_folder': 'figures/',\n",
       "  'ignore_while_saving': ['_base_name', '_base_plot_name'],\n",
       "  'file_directory': '/Users/oliver/Documents/measurement data/',\n",
       "  'file_folder': '23 10 PR22e9/2023-11-02-high_Tau_2_G0/',\n",
       "  'file_name': '2023-11-02_high_tau_2_G0_stripline.hdf5'},\n",
       " '_base_eva_name': 'base eva',\n",
       " 'possible_measurement_keys': {'magnetic_fields': [7, -2, 0.001, 'no_field'],\n",
       "  'temperatures': [7, -3, 1e-06, 'no_heater'],\n",
       "  'temperatures_up': [7, -2, 1e-06, 'no_heater'],\n",
       "  'gate_voltages': [5, -2, 0.001, 'no_gate']},\n",
       " 'base_evaluation': {'voltage_amplification_1': 10000,\n",
       "  'voltage_amplification_2': 1000,\n",
       "  'reference_resistor': 51689.0,\n",
       "  'index_trigger_up': 1,\n",
       "  'index_trigger_down': 2,\n",
       "  'measurement_key': 'frequency_at_-25dBm',\n",
       "  'specific_keys': ['nu=0.100GHz',\n",
       "   'nu=0.200GHz',\n",
       "   'nu=0.300GHz',\n",
       "   'nu=0.400GHz',\n",
       "   'nu=0.500GHz',\n",
       "   'nu=0.600GHz',\n",
       "   'nu=0.700GHz',\n",
       "   'nu=0.800GHz',\n",
       "   'nu=0.900GHz',\n",
       "   'nu=1.000GHz',\n",
       "   'nu=1.100GHz',\n",
       "   'nu=1.200GHz',\n",
       "   'nu=1.300GHz',\n",
       "   'nu=1.400GHz',\n",
       "   'nu=1.500GHz',\n",
       "   'nu=1.600GHz',\n",
       "   'nu=1.700GHz',\n",
       "   'nu=1.800GHz',\n",
       "   'nu=1.900GHz',\n",
       "   'nu=10.000GHz',\n",
       "   'nu=10.100GHz',\n",
       "   'nu=10.200GHz',\n",
       "   'nu=10.300GHz',\n",
       "   'nu=10.400GHz',\n",
       "   'nu=10.500GHz',\n",
       "   'nu=10.600GHz',\n",
       "   'nu=10.700GHz',\n",
       "   'nu=10.800GHz',\n",
       "   'nu=10.900GHz',\n",
       "   'nu=11.000GHz',\n",
       "   'nu=11.100GHz',\n",
       "   'nu=11.200GHz',\n",
       "   'nu=11.300GHz',\n",
       "   'nu=11.400GHz',\n",
       "   'nu=11.500GHz',\n",
       "   'nu=11.600GHz',\n",
       "   'nu=11.700GHz',\n",
       "   'nu=11.800GHz',\n",
       "   'nu=11.900GHz',\n",
       "   'nu=12.000GHz',\n",
       "   'nu=12.100GHz',\n",
       "   'nu=12.200GHz',\n",
       "   'nu=12.300GHz',\n",
       "   'nu=12.400GHz',\n",
       "   'nu=12.500GHz',\n",
       "   'nu=12.600GHz',\n",
       "   'nu=12.700GHz',\n",
       "   'nu=12.800GHz',\n",
       "   'nu=12.900GHz',\n",
       "   'nu=13.000GHz',\n",
       "   'nu=13.100GHz',\n",
       "   'nu=13.200GHz',\n",
       "   'nu=13.300GHz',\n",
       "   'nu=13.400GHz',\n",
       "   'nu=13.500GHz',\n",
       "   'nu=13.600GHz',\n",
       "   'nu=13.700GHz',\n",
       "   'nu=13.800GHz',\n",
       "   'nu=13.900GHz',\n",
       "   'nu=14.000GHz',\n",
       "   'nu=14.100GHz',\n",
       "   'nu=14.200GHz',\n",
       "   'nu=14.300GHz',\n",
       "   'nu=14.400GHz',\n",
       "   'nu=14.500GHz',\n",
       "   'nu=14.600GHz',\n",
       "   'nu=14.700GHz',\n",
       "   'nu=14.800GHz',\n",
       "   'nu=14.900GHz',\n",
       "   'nu=15.000GHz',\n",
       "   'nu=15.100GHz',\n",
       "   'nu=15.200GHz',\n",
       "   'nu=15.300GHz',\n",
       "   'nu=15.400GHz',\n",
       "   'nu=15.500GHz',\n",
       "   'nu=15.600GHz',\n",
       "   'nu=15.700GHz',\n",
       "   'nu=15.800GHz',\n",
       "   'nu=15.900GHz',\n",
       "   'nu=16.000GHz',\n",
       "   'nu=16.100GHz',\n",
       "   'nu=16.200GHz',\n",
       "   'nu=16.300GHz',\n",
       "   'nu=16.400GHz',\n",
       "   'nu=16.500GHz',\n",
       "   'nu=16.600GHz',\n",
       "   'nu=16.700GHz',\n",
       "   'nu=16.800GHz',\n",
       "   'nu=16.900GHz',\n",
       "   'nu=17.000GHz',\n",
       "   'nu=17.100GHz',\n",
       "   'nu=17.200GHz',\n",
       "   'nu=17.300GHz',\n",
       "   'nu=17.400GHz',\n",
       "   'nu=17.500GHz',\n",
       "   'nu=17.600GHz',\n",
       "   'nu=17.700GHz',\n",
       "   'nu=17.800GHz',\n",
       "   'nu=17.900GHz',\n",
       "   'nu=18.000GHz',\n",
       "   'nu=18.100GHz',\n",
       "   'nu=18.200GHz',\n",
       "   'nu=18.300GHz',\n",
       "   'nu=18.400GHz',\n",
       "   'nu=18.500GHz',\n",
       "   'nu=18.600GHz',\n",
       "   'nu=18.700GHz',\n",
       "   'nu=18.800GHz',\n",
       "   'nu=18.900GHz',\n",
       "   'nu=19.000GHz',\n",
       "   'nu=19.100GHz',\n",
       "   'nu=19.200GHz',\n",
       "   'nu=19.300GHz',\n",
       "   'nu=19.400GHz',\n",
       "   'nu=19.500GHz',\n",
       "   'nu=19.600GHz',\n",
       "   'nu=19.700GHz',\n",
       "   'nu=19.800GHz',\n",
       "   'nu=19.900GHz',\n",
       "   'nu=2.000GHz',\n",
       "   'nu=2.100GHz',\n",
       "   'nu=2.200GHz',\n",
       "   'nu=2.300GHz',\n",
       "   'nu=2.400GHz',\n",
       "   'nu=2.500GHz',\n",
       "   'nu=2.600GHz',\n",
       "   'nu=2.700GHz',\n",
       "   'nu=2.800GHz',\n",
       "   'nu=2.900GHz',\n",
       "   'nu=20.000GHz',\n",
       "   'nu=3.000GHz',\n",
       "   'nu=3.100GHz',\n",
       "   'nu=3.200GHz',\n",
       "   'nu=3.300GHz',\n",
       "   'nu=3.400GHz',\n",
       "   'nu=3.500GHz',\n",
       "   'nu=3.600GHz',\n",
       "   'nu=3.700GHz',\n",
       "   'nu=3.800GHz',\n",
       "   'nu=3.900GHz',\n",
       "   'nu=4.000GHz',\n",
       "   'nu=4.100GHz',\n",
       "   'nu=4.200GHz',\n",
       "   'nu=4.300GHz',\n",
       "   'nu=4.400GHz',\n",
       "   'nu=4.500GHz',\n",
       "   'nu=4.600GHz',\n",
       "   'nu=4.700GHz',\n",
       "   'nu=4.800GHz',\n",
       "   'nu=4.900GHz',\n",
       "   'nu=5.000GHz',\n",
       "   'nu=5.100GHz',\n",
       "   'nu=5.200GHz',\n",
       "   'nu=5.300GHz',\n",
       "   'nu=5.400GHz',\n",
       "   'nu=5.500GHz',\n",
       "   'nu=5.600GHz',\n",
       "   'nu=5.700GHz',\n",
       "   'nu=5.800GHz',\n",
       "   'nu=5.900GHz',\n",
       "   'nu=6.000GHz',\n",
       "   'nu=6.100GHz',\n",
       "   'nu=6.200GHz',\n",
       "   'nu=6.300GHz',\n",
       "   'nu=6.400GHz',\n",
       "   'nu=6.500GHz',\n",
       "   'nu=6.600GHz',\n",
       "   'nu=6.700GHz',\n",
       "   'nu=6.800GHz',\n",
       "   'nu=6.900GHz',\n",
       "   'nu=7.000GHz',\n",
       "   'nu=7.100GHz',\n",
       "   'nu=7.200GHz',\n",
       "   'nu=7.300GHz',\n",
       "   'nu=7.400GHz',\n",
       "   'nu=7.500GHz',\n",
       "   'nu=7.600GHz',\n",
       "   'nu=7.700GHz',\n",
       "   'nu=7.800GHz',\n",
       "   'nu=7.900GHz',\n",
       "   'nu=8.000GHz',\n",
       "   'nu=8.100GHz',\n",
       "   'nu=8.200GHz',\n",
       "   'nu=8.300GHz',\n",
       "   'nu=8.400GHz',\n",
       "   'nu=8.500GHz',\n",
       "   'nu=8.600GHz',\n",
       "   'nu=8.700GHz',\n",
       "   'nu=8.800GHz',\n",
       "   'nu=8.900GHz',\n",
       "   'nu=9.000GHz',\n",
       "   'nu=9.100GHz',\n",
       "   'nu=9.200GHz',\n",
       "   'nu=9.300GHz',\n",
       "   'nu=9.400GHz',\n",
       "   'nu=9.500GHz',\n",
       "   'nu=9.600GHz',\n",
       "   'nu=9.700GHz',\n",
       "   'nu=9.800GHz',\n",
       "   'nu=9.900GHz'],\n",
       "  'y_0_key': 'nu=0.000GHz',\n",
       "  'y_unsorted': array([1.00e+08, 2.00e+08, 3.00e+08, 4.00e+08, 5.00e+08, 6.00e+08,\n",
       "         7.00e+08, 8.00e+08, 9.00e+08, 1.00e+09, 1.10e+09, 1.20e+09,\n",
       "         1.30e+09, 1.40e+09, 1.50e+09, 1.60e+09, 1.70e+09, 1.80e+09,\n",
       "         1.90e+09, 1.00e+10, 1.01e+10, 1.02e+10, 1.03e+10, 1.04e+10,\n",
       "         1.05e+10, 1.06e+10, 1.07e+10, 1.08e+10, 1.09e+10, 1.10e+10,\n",
       "         1.11e+10, 1.12e+10, 1.13e+10, 1.14e+10, 1.15e+10, 1.16e+10,\n",
       "         1.17e+10, 1.18e+10, 1.19e+10, 1.20e+10, 1.21e+10, 1.22e+10,\n",
       "         1.23e+10, 1.24e+10, 1.25e+10, 1.26e+10, 1.27e+10, 1.28e+10,\n",
       "         1.29e+10, 1.30e+10, 1.31e+10, 1.32e+10, 1.33e+10, 1.34e+10,\n",
       "         1.35e+10, 1.36e+10, 1.37e+10, 1.38e+10, 1.39e+10, 1.40e+10,\n",
       "         1.41e+10, 1.42e+10, 1.43e+10, 1.44e+10, 1.45e+10, 1.46e+10,\n",
       "         1.47e+10, 1.48e+10, 1.49e+10, 1.50e+10, 1.51e+10, 1.52e+10,\n",
       "         1.53e+10, 1.54e+10, 1.55e+10, 1.56e+10, 1.57e+10, 1.58e+10,\n",
       "         1.59e+10, 1.60e+10, 1.61e+10, 1.62e+10, 1.63e+10, 1.64e+10,\n",
       "         1.65e+10, 1.66e+10, 1.67e+10, 1.68e+10, 1.69e+10, 1.70e+10,\n",
       "         1.71e+10, 1.72e+10, 1.73e+10, 1.74e+10, 1.75e+10, 1.76e+10,\n",
       "         1.77e+10, 1.78e+10, 1.79e+10, 1.80e+10, 1.81e+10, 1.82e+10,\n",
       "         1.83e+10, 1.84e+10, 1.85e+10, 1.86e+10, 1.87e+10, 1.88e+10,\n",
       "         1.89e+10, 1.90e+10, 1.91e+10, 1.92e+10, 1.93e+10, 1.94e+10,\n",
       "         1.95e+10, 1.96e+10, 1.97e+10, 1.98e+10, 1.99e+10, 2.00e+09,\n",
       "         2.10e+09, 2.20e+09, 2.30e+09, 2.40e+09, 2.50e+09, 2.60e+09,\n",
       "         2.70e+09, 2.80e+09, 2.90e+09, 2.00e+10, 3.00e+09, 3.10e+09,\n",
       "         3.20e+09, 3.30e+09, 3.40e+09, 3.50e+09, 3.60e+09, 3.70e+09,\n",
       "         3.80e+09, 3.90e+09, 4.00e+09, 4.10e+09, 4.20e+09, 4.30e+09,\n",
       "         4.40e+09, 4.50e+09, 4.60e+09, 4.70e+09, 4.80e+09, 4.90e+09,\n",
       "         5.00e+09, 5.10e+09, 5.20e+09, 5.30e+09, 5.40e+09, 5.50e+09,\n",
       "         5.60e+09, 5.70e+09, 5.80e+09, 5.90e+09, 6.00e+09, 6.10e+09,\n",
       "         6.20e+09, 6.30e+09, 6.40e+09, 6.50e+09, 6.60e+09, 6.70e+09,\n",
       "         6.80e+09, 6.90e+09, 7.00e+09, 7.10e+09, 7.20e+09, 7.30e+09,\n",
       "         7.40e+09, 7.50e+09, 7.60e+09, 7.70e+09, 7.80e+09, 7.90e+09,\n",
       "         8.00e+09, 8.10e+09, 8.20e+09, 8.30e+09, 8.40e+09, 8.50e+09,\n",
       "         8.60e+09, 8.70e+09, 8.80e+09, 8.90e+09, 9.00e+09, 9.10e+09,\n",
       "         9.20e+09, 9.30e+09, 9.40e+09, 9.50e+09, 9.60e+09, 9.70e+09,\n",
       "         9.80e+09, 9.90e+09])}}"
      ]
     },
     "execution_count": 3,
     "metadata": {},
     "output_type": "execute_result"
    }
   ],
   "source": [
    "# Test BaseEvaluation\n",
    "from utilities.baseevaluation import BaseEvaluation\n",
    "importlib.reload(sys.modules[\"utilities.baseevaluation\"])\n",
    "eva = BaseEvaluation()\n",
    "eva.title = \"Amplitude Study (7.8GHz)\"\n",
    "eva.sub_folder = \"amplitude study\"\n",
    "eva.file_directory = \"/Users/oliver/Documents/measurement data/\"\n",
    "eva.file_folder = \"23 10 PR22e9/2023-11-02-high_Tau_2_G0/\"\n",
    "eva.file_name = \"2023-11-02_high_tau_2_G0_stripline.hdf5\"\n",
    "eva.showData()\n",
    "# eva.showAmplifications()\n",
    "eva.setAmplifications(10000, 1000)\n",
    "# eva.showMeasurements()\n",
    "eva.setMeasurement(\"frequency_at_-25dBm\")\n",
    "# eva.showKeys()\n",
    "eva.setKeys(3, -3, 1e9, \"nu=0.000GHz\")\n",
    "# eva.addKey(\"nu=0.000GHz\", 0)\n",
    "eva.showData()"
   ]
  },
  {
   "cell_type": "code",
   "execution_count": 4,
   "metadata": {},
   "outputs": [
    {
     "name": "stderr",
     "output_type": "stream",
     "text": [
      "(base) ... BaseClass initialized.\n",
      "(base eva) ... BaseEvaluation initialized.\n",
      "(iv eva) ... IVEvaluation initialized.\n",
      "(base eva) setKeys(3, -3, 1, nu=0.000GHz)\n",
      "(iv eva) getMaps()\n",
      "100%|██████████| 200/200 [00:02<00:00, 69.12it/s]\n"
     ]
    },
    {
     "ename": "ValueError",
     "evalue": "not enough values to unpack (expected 2, got 1)",
     "output_type": "error",
     "traceback": [
      "\u001b[31m---------------------------------------------------------------------------\u001b[39m",
      "\u001b[31mValueError\u001b[39m                                Traceback (most recent call last)",
      "\u001b[36mCell\u001b[39m\u001b[36m \u001b[39m\u001b[32mIn[4]\u001b[39m\u001b[32m, line 16\u001b[39m\n\u001b[32m     14\u001b[39m eva.setV(\u001b[32m0.8e-3\u001b[39m, voltage_bins=\u001b[32m1600\u001b[39m)\n\u001b[32m     15\u001b[39m eva.setI(\u001b[32m1.8e-7\u001b[39m, current_bins=\u001b[32m1800\u001b[39m)\n\u001b[32m---> \u001b[39m\u001b[32m16\u001b[39m eva.up_sweep, eva.down_sweep = eva.getMaps([\u001b[32m2\u001b[39m,\u001b[32m1\u001b[39m])\n\u001b[32m     17\u001b[39m eva.saveData()\n",
      "\u001b[31mValueError\u001b[39m: not enough values to unpack (expected 2, got 1)"
     ]
    }
   ],
   "source": [
    "# Test IVEvaluation\n",
    "from utilities.ivevaluation import IVEvaluation\n",
    "importlib.reload(sys.modules[\"utilities.ivevaluation\"])\n",
    "eva = IVEvaluation()\n",
    "eva.title = \"Frequency Study (-20dBm)\"\n",
    "eva.sub_folder = \"frequency study\"\n",
    "eva.file_directory = \"/Users/oliver/Documents/measurement data/\"\n",
    "eva.file_folder = \"23 10 PR22e9/2023-11-02-high_Tau_2_G0/\"\n",
    "eva.file_name = \"2023-11-02_high_tau_2_G0_stripline.hdf5\"\n",
    "\n",
    "eva.setAmplifications(10000, 1000)\n",
    "eva.setMeasurement(\"frequency_at_-25dBm\")\n",
    "eva.setKeys(3, -3, 1, \"nu=0.000GHz\")\n",
    "eva.setV(0.8e-3, voltage_bins=1600)\n",
    "eva.setI(1.8e-7, current_bins=1800)\n",
    "eva.up_sweep, eva.down_sweep = eva.getMaps([2,1])\n",
    "eva.saveData()\n"
   ]
  },
  {
   "cell_type": "code",
   "execution_count": null,
   "metadata": {},
   "outputs": [
    {
     "name": "stderr",
     "output_type": "stream",
     "text": [
      "(base) ... BaseClass initialized.\n",
      "(base plot) ... BasePlot initialized.\n",
      "(base eva) ... BaseEvaluation initialized.\n",
      "(iv eva) ... IVEvaluation initialized.\n",
      "(iv plot) ... BasePlot initialized.\n",
      "(base) loadData()\n"
     ]
    }
   ],
   "source": [
    "# Test IV Plotting\n",
    "%matplotlib qt\n",
    "from utilities.ivplot import IVPlot\n",
    "importlib.reload(sys.modules[\"utilities.ivplot\"])\n",
    "plt.close(\"all\")\n",
    "eva = IVPlot()\n",
    "\n",
    "eva.title = \"Frequency Study (-20dBm)\"\n",
    "eva.sub_folder = \"frequency study\"\n",
    "eva.loadData()\n",
    "# eva.showData()\n",
    "eva.to_plot = eva.up_sweep\n",
    "fig, axs = plt.subplots(6,3)\n",
    "axs[0,0] = eva.ax_v_t_tuples(ax=axs[0,0], index=1)\n",
    "axs[0,1] = eva.ax_i_t_tuples(ax=axs[0,1], index=1)\n",
    "axs[0,2] = eva.ax_v_i_tuples(ax=axs[0,2], index=1)\n",
    "axs[1,0] = eva.ax_i_v(ax=axs[1,0], index=0)\n",
    "axs[1,1] = eva.ax_v_i(ax=axs[1,1], index=0)\n",
    "axs[2,0] = eva.ax_didv_v(ax=axs[2,0], index=0)\n",
    "axs[2,1] = eva.ax_dvdi_i(ax=axs[2,1], index=0)\n",
    "axs[3,0] = eva.ax_T_v(ax=axs[3,0], index=0)\n",
    "axs[3,1] = eva.ax_T_i(ax=axs[3,1], index=0)\n",
    "axs[4,0], axs[4,1] = eva.ax_didv_vy(faxs=[fig, axs[4,0], axs[4,1]])\n",
    "axs[4,2] = eva.ax_T_y(ax=axs[4,2])\n",
    "axs[5,0], axs[5,1] = eva.ax_dvdi_iy(faxs=[fig, axs[5,0], axs[5,1]])\n",
    "axs[5,2] = eva.ax_T_y(ax=axs[5,2])\n",
    "\n",
    "axs[2,0].sharex(axs[1,0])\n",
    "axs[2,1].sharex(axs[1,1])\n",
    "axs[3,0].sharex(axs[1,0])\n",
    "axs[3,1].sharex(axs[1,1])\n",
    "\n",
    "axs[4,0].sharex(axs[1,0])\n",
    "axs[5,0].sharex(axs[1,1])\n",
    "\n",
    "plt.tight_layout()\n",
    "plt.show()"
   ]
  },
  {
   "cell_type": "markdown",
   "metadata": {},
   "source": [
    "# Evaluation for OI-25c-09\n",
    "### unbroken"
   ]
  },
  {
   "cell_type": "code",
   "execution_count": 101,
   "metadata": {},
   "outputs": [
    {
     "name": "stderr",
     "output_type": "stream",
     "text": [
      "(base eva) Measurement keys preview: ['heater_00000.013muW', 'heater_00000.070muW', 'heater_03135.622muW', 'no_heater']\n",
      "(base eva) setKeys(7, -3, 1e-06, no_heater)\n",
      "(iv eva) getMaps()\n",
      "100%|██████████| 150/150 [00:09<00:00, 16.21it/s]\n",
      "(iv eva) getMapsTemperature()\n",
      "(base) saveData()\n",
      "(base eva) Measurement keys preview: ['no_irradiation', 'vna_1.0000GHz_0.200V', 'vna_9.8000GHz_0.200V', 'vna_9.9000GHz_0.200V']\n",
      "(base eva) setKeys(4, -10, 1000000000.0, no_irradiation)\n",
      "(iv eva) getMaps()\n",
      "100%|██████████| 191/191 [00:16<00:00, 11.55it/s]\n",
      "(base) saveData()\n"
     ]
    }
   ],
   "source": [
    "# Evaluation for unbroken\n",
    "from utilities.ivevaluation import IVEvaluation\n",
    "importlib.reload(sys.modules[\"utilities.ivevaluation\"])\n",
    "\n",
    "# eva = IVEvaluation()\n",
    "# eva.file_directory = \"/Users/oliver/Documents/measurement data/\"\n",
    "# eva.file_folder = \"/25 04 OI-25c-09/unbroken/\"\n",
    "# eva.file_name = \"OI-25c-09 2025-04-15 unbroken 0.hdf5\"\n",
    "# eva.setAmplifications(1000, 1000)\n",
    "# eva.setV(1.7e-3, voltage_bins=2020)\n",
    "# eva.setI(30e-9, current_bins=1800)\n",
    "# eva.showMeasurements()\n",
    "\n",
    "# # Magnetic Field Study\n",
    "# eva.title = \"Magnetic Field Study\"\n",
    "# eva.sub_folder = \"magnetic field study\"\n",
    "# eva.eva_even_spaced = True\n",
    "# eva.setMeasurement(\"magnetic_fields\")\n",
    "# eva.showKeys()\n",
    "# eva.setKeys(index_0=7, index_1=-2, norm=1e0, to_pop=\"no_field\")\n",
    "# eva.up_sweep, = eva.getMaps([1])\n",
    "# eva.saveData()\n",
    "# eva.eva_even_spaced = False\n",
    "\n",
    "# # Amplitude Study (7.8GHz)\n",
    "# eva.title = \"Amplitude Study (7.8GHz)\"\n",
    "# eva.sub_folder = \"amplitude study\"\n",
    "# eva.setMeasurement(\"vna_amplitudes_7.8000GHz\")\n",
    "# eva.showKeys()\n",
    "# eva.setKeys(index_0=-6, index_1=-1, norm=1e0, to_pop=\"no_irradiation\")\n",
    "# eva.addKey(\"no_irradiation\", 0)\n",
    "# eva.up_sweep, = eva.getMaps([1])\n",
    "# eva.saveData()\n",
    "\n",
    "# # Amplitude Study (15GHz)\n",
    "# eva.title = \"Amplitude Study (15GHz)\"\n",
    "# eva.sub_folder = \"amplitude study\"\n",
    "# eva.setMeasurement(\"vna_amplitudes_15.0000GHz\")\n",
    "# eva.showKeys()\n",
    "# eva.setKeys(index_0=-6, index_1=-1, norm=1e0, to_pop=\"no_irradiation\")\n",
    "# eva.addKey(\"no_irradiation\", 0)\n",
    "# eva.up_sweep, = eva.getMaps([1])\n",
    "# eva.saveData()\n",
    "\n",
    "# # Amplitude Study (19.3GHz)\n",
    "# eva.title = \"Amplitude Study (19.3GHz)\"\n",
    "# eva.sub_folder = \"amplitude study\"\n",
    "# eva.setMeasurement(\"vna_amplitudes_19.3000GHz\")\n",
    "# eva.showKeys()\n",
    "# eva.setKeys(index_0=-6, index_1=-1, norm=1e0, to_pop=\"no_irradiation\")\n",
    "# eva.addKey(\"no_irradiation\", 0)\n",
    "# eva.up_sweep, = eva.getMaps([1])\n",
    "# eva.saveData()\n",
    "\n",
    "# # Frequency Study (0.1V)\n",
    "# eva.title = \"Frequency Study (0.1V)\"\n",
    "# eva.sub_folder = \"frequency study\"\n",
    "# eva.setMeasurement(\"vna_frequencies_0.100V\")\n",
    "# eva.showKeys()\n",
    "# eva.setKeys(index_0=4, index_1=-10, norm=1e9, to_pop=\"no_irradiation\")\n",
    "# eva.up_sweep, = eva.getMaps([1])\n",
    "# eva.saveData()\n",
    "\n",
    "\n",
    "# # Single IV Study\n",
    "# eva.title = \"Single IV (0mT) (fast)\"\n",
    "# eva.sub_folder = \"single IV study\"\n",
    "# eva.setMeasurement('fast_single_IV magnet_+0.00mT')\n",
    "# eva.up_sweep = eva.get_empty_dictionary()\n",
    "# eva.up_sweep[\"plain\"] = eva.getSingleIV(y_key=\"\", specific_trigger=1)\n",
    "# eva.saveData()\n",
    "\n",
    "# # Single IV Study\n",
    "# eva.title = \"Single IV (100mT) (fast)\"\n",
    "# eva.sub_folder = \"single IV study\"\n",
    "# eva.setMeasurement('fast_single_IV magnet_+100.00mT')\n",
    "# eva.up_sweep = eva.get_empty_dictionary()\n",
    "# eva.up_sweep[\"plain\"] = eva.getSingleIV(y_key=\"\", specific_trigger=1)\n",
    "# eva.saveData()\n",
    "\n",
    "# eva.setV(8e-3, voltage_bins=4000)\n",
    "# eva.setI(100e-9, current_bins=1000)\n",
    "\n",
    "# # Single IV Study\n",
    "# eva.title = \"Single IV (0mT)\"\n",
    "# eva.sub_folder = \"single IV study\"\n",
    "# eva.setMeasurement('single_IV magnet_+0.00mT')\n",
    "# eva.up_sweep = eva.get_empty_dictionary()\n",
    "# eva.up_sweep[\"plain\"] = eva.getSingleIV(y_key=\"\", specific_trigger=1)\n",
    "# eva.saveData()\n",
    "\n",
    "# # Single IV Study\n",
    "# eva.title = \"Single IV (100mT)\"\n",
    "# eva.sub_folder = \"single IV study\"\n",
    "# eva.setMeasurement('single_IV magnet_+100.00mT')\n",
    "# eva.up_sweep = eva.get_empty_dictionary()\n",
    "# eva.up_sweep[\"plain\"] = eva.getSingleIV(y_key=\"\", specific_trigger=1)\n",
    "# eva.saveData()\n",
    "\n",
    "eva.file_name = \"OI-25c-09 2025-04-15 unbroken 1.hdf5\"\n",
    "eva.setV(1.7e-3, voltage_bins=2020)\n",
    "eva.setI(30e-9, current_bins=1800)\n",
    "\n",
    "# Temperature Study\n",
    "eva.title = \"Temperature Study\"\n",
    "eva.sub_folder = \"temperature study\"\n",
    "eva.setMeasurement(\"temperatures\")\n",
    "eva.showKeys()\n",
    "eva.setKeys(index_0=7, index_1=-3, norm=1e-6, to_pop=\"no_heater\")\n",
    "eva.up_sweep, = eva.getMaps([1])\n",
    "eva.up_sweep, = eva.getMapsTemperature([eva.up_sweep])\n",
    "eva.y_axis = eva.temperature_axis\n",
    "eva.saveData()\n",
    "\n",
    "# Frequency Study (0.2V)\n",
    "eva.title = \"Frequency Study (0.2V)\"\n",
    "eva.sub_folder = \"frequency study\"\n",
    "eva.setMeasurement(\"vna_frequencies_0.200V\")\n",
    "eva.showKeys()\n",
    "eva.setKeys(index_0=4, index_1=-10, norm=1e9, to_pop=\"no_irradiation\")\n",
    "eva.up_sweep, = eva.getMaps([1])\n",
    "eva.saveData()"
   ]
  },
  {
   "cell_type": "code",
   "execution_count": null,
   "metadata": {},
   "outputs": [],
   "source": []
  },
  {
   "cell_type": "code",
   "execution_count": null,
   "metadata": {},
   "outputs": [],
   "source": []
  },
  {
   "cell_type": "code",
   "execution_count": 6,
   "metadata": {},
   "outputs": [
    {
     "name": "stderr",
     "output_type": "stream",
     "text": [
      "(base) ... BaseClass initialized.\n",
      "(base plot) ... BasePlot initialized.\n",
      "(base eva) ... BaseEvaluation initialized.\n",
      "(iv eva) ... IVEvaluation initialized.\n",
      "(iv plot) ... BasePlot initialized.\n",
      "(base) loadData()\n",
      "(iv plot) smoothing = True\n",
      "(iv plot) window_length = 40\n",
      "(base plot) saveFigure()\n",
      "(base plot) saveFigure()\n",
      "(base plot) saveFigure()\n",
      "(base plot) saveFigure()\n",
      "(base) loadData()\n",
      "(iv plot) smoothing = True\n",
      "(iv plot) window_length = 40\n",
      "(base plot) saveFigure()\n",
      "(base plot) saveFigure()\n",
      "(base plot) saveFigure()\n",
      "(base plot) saveFigure()\n",
      "(base) loadData()\n",
      "(iv plot) smoothing = True\n",
      "(iv plot) window_length = 40\n",
      "(base plot) saveFigure()\n",
      "(base plot) saveFigure()\n",
      "(base plot) saveFigure()\n",
      "(base plot) saveFigure()\n",
      "(base) loadData()\n",
      "(iv plot) smoothing = True\n",
      "(iv plot) window_length = 40\n",
      "(base plot) saveFigure()\n",
      "(base plot) saveFigure()\n",
      "(base plot) saveFigure()\n",
      "(base plot) saveFigure()\n",
      "(base) loadData()\n",
      "(iv plot) smoothing = True\n",
      "(iv plot) window_length = 40\n",
      "(base plot) saveFigure()\n",
      "(base plot) saveFigure()\n",
      "(base plot) saveFigure()\n",
      "(base plot) saveFigure()\n",
      "(base) loadData()\n",
      "(iv plot) smoothing = True\n",
      "(iv plot) window_length = 40\n",
      "(base plot) saveFigure()\n",
      "(base plot) saveFigure()\n",
      "(base plot) saveFigure()\n",
      "(base plot) saveFigure()\n",
      "(base) loadData()\n",
      "(iv plot) smoothing = True\n",
      "(iv plot) window_length = 40\n",
      "(base plot) saveFigure()\n",
      "(base plot) saveFigure()\n",
      "(base plot) saveFigure()\n",
      "(base plot) saveFigure()\n",
      "(base) loadData()\n"
     ]
    },
    {
     "data": {
      "text/plain": [
       "(<Figure size 1200x800 with 3 Axes>,\n",
       " array([[<Axes: >, <Axes: xlabel='$V$ (mV)', ylabel='d$I$/d$V$ (m$G_0$)'>],\n",
       "        [<Axes: xlabel='d$V$/d$I$ (M$\\\\Omega$)', ylabel='$I$ (nA)'>,\n",
       "         <Axes: xlabel='$V$ (mV)', ylabel='$I$ (nA)'>]], dtype=object))"
      ]
     },
     "execution_count": 6,
     "metadata": {},
     "output_type": "execute_result"
    },
    {
     "name": "stderr",
     "output_type": "stream",
     "text": [
      "2025-04-17 18:57:04.615 Python[98646:5823535] +[IMKInputSession subclass]: chose IMKInputSession_Modern\n"
     ]
    }
   ],
   "source": [
    "# Execute IVPlotting\n",
    "%matplotlib qt\n",
    "from utilities.ivplot import IVPlot\n",
    "importlib.reload(sys.modules[\"utilities.ivplot\"])\n",
    "\n",
    "i = 0\n",
    "eva = IVPlot()\n",
    "\n",
    "eva.title = \"Temperature Study\"\n",
    "eva.sub_folder = \"temperature study\"\n",
    "eva.loadData()\n",
    "eva.to_plot = eva.up_sweep\n",
    "eva.title_of_plot = \"Up Sweep\"\n",
    "eva.y_characters = [r\"$T$\", \"K\"]\n",
    "eva.smoothing = True\n",
    "eva.window_length = 40\n",
    "eva.plot_all(leading_index=i)\n",
    "i += 10\n",
    "\n",
    "eva.title = \"Magnetic Field Study\"\n",
    "eva.sub_folder = \"magnetic field study\"\n",
    "eva.loadData()\n",
    "eva.to_plot = eva.up_sweep\n",
    "eva.title_of_plot = \"Up Sweep\"\n",
    "eva.y_characters = [r\"$\\mu_0H$\", \"T\"]\n",
    "eva.smoothing = True\n",
    "eva.window_length = 40\n",
    "eva.plot_all(leading_index=i)\n",
    "i += 10\n",
    "\n",
    "eva.title = \"Amplitude Study (7.8GHz)\"\n",
    "eva.sub_folder = \"amplitude study\"\n",
    "eva.loadData()\n",
    "eva.to_plot = eva.up_sweep\n",
    "eva.title_of_plot = \"Up Sweep\"\n",
    "eva.y_characters = [r\"$V_\\mathrm{AC}$\", \"V\"]\n",
    "eva.smoothing = True\n",
    "eva.window_length = 40\n",
    "eva.plot_all(leading_index=i)\n",
    "i += 10\n",
    "\n",
    "eva.title = \"Amplitude Study (15GHz)\"\n",
    "eva.sub_folder = \"amplitude study\"\n",
    "eva.loadData()\n",
    "eva.to_plot = eva.up_sweep\n",
    "eva.title_of_plot = \"Up Sweep\"\n",
    "eva.y_characters = [r\"$V_\\mathrm{AC}$\", \"V\"]\n",
    "eva.smoothing = True\n",
    "eva.window_length = 40\n",
    "eva.plot_all(leading_index=i)\n",
    "i += 10\n",
    "\n",
    "eva.title = \"Amplitude Study (19.3GHz)\"\n",
    "eva.sub_folder = \"amplitude study\"\n",
    "eva.loadData()\n",
    "eva.to_plot = eva.up_sweep\n",
    "eva.title_of_plot = \"Up Sweep\"\n",
    "eva.y_characters = [r\"$V_\\mathrm{AC}$\", \"V\"]\n",
    "eva.smoothing = True\n",
    "eva.window_length = 40\n",
    "eva.plot_all(leading_index=i)\n",
    "i += 10\n",
    "\n",
    "eva.title = \"Frequency Study (0.1V)\"\n",
    "eva.sub_folder = \"frequency study\"\n",
    "eva.loadData()\n",
    "eva.to_plot = eva.up_sweep\n",
    "eva.title_of_plot = \"Up Sweep\"\n",
    "eva.y_characters = [r\"$\\nu_\\mathrm{AC}$\", \"Hz\"]\n",
    "eva.smoothing = True\n",
    "eva.window_length = 40\n",
    "eva.plot_all(leading_index=i)\n",
    "i += 10\n",
    "\n",
    "eva.title = \"Frequency Study (0.2V)\"\n",
    "eva.sub_folder = \"frequency study\"\n",
    "eva.loadData()\n",
    "eva.to_plot = eva.up_sweep\n",
    "eva.title_of_plot = \"Up Sweep\"\n",
    "eva.y_characters = [r\"$\\nu_\\mathrm{AC}$\", \"Hz\"]\n",
    "eva.smoothing = True\n",
    "eva.window_length = 40\n",
    "eva.plot_all(leading_index=i)\n",
    "i += 10\n",
    "\n",
    "eva.title = \"Single IV (0mT) (fast)\"\n",
    "eva.sub_folder = \"single IV study\"\n",
    "eva.loadData()\n",
    "eva.to_plot = eva.up_sweep\n",
    "eva.title_of_plot = \"Up Sweep\"\n",
    "eva.fig_ididv_v(fig_nr=i+5)\n",
    "# i += 10\n",
    "\n",
    "\n"
   ]
  },
  {
   "cell_type": "code",
   "execution_count": 100,
   "metadata": {},
   "outputs": [
    {
     "data": {
      "text/plain": [
       "array([1.300000e-08, 7.000000e-08, 1.930000e-07, 3.930000e-07,\n",
       "       6.830000e-07, 1.074000e-06, 1.573000e-06, 2.191000e-06,\n",
       "       2.933000e-06, 3.809000e-06, 4.824000e-06, 5.985000e-06,\n",
       "       7.299000e-06, 8.771000e-06, 1.040700e-05, 1.221300e-05,\n",
       "       1.419300e-05, 1.635400e-05, 1.869900e-05, 2.123500e-05,\n",
       "       2.396500e-05, 2.689400e-05, 3.002700e-05, 3.336900e-05,\n",
       "       3.692200e-05, 4.069200e-05, 4.468300e-05, 4.889900e-05,\n",
       "       5.334300e-05, 5.802000e-05, 6.293300e-05, 6.808600e-05,\n",
       "       7.348300e-05, 7.912800e-05, 8.502300e-05, 9.117300e-05,\n",
       "       9.758100e-05, 1.042500e-04, 1.111840e-04, 1.183860e-04,\n",
       "       1.258590e-04, 1.336070e-04, 1.416320e-04, 1.499380e-04,\n",
       "       1.585280e-04, 1.674060e-04, 1.765730e-04, 1.860330e-04,\n",
       "       1.957900e-04, 2.058450e-04, 2.162020e-04, 2.268640e-04,\n",
       "       2.378340e-04, 2.491140e-04, 2.607070e-04, 2.726160e-04,\n",
       "       2.848440e-04, 2.973940e-04, 3.102670e-04, 3.234670e-04,\n",
       "       3.369970e-04, 3.508590e-04, 3.650550e-04, 3.795890e-04,\n",
       "       3.944620e-04, 4.096780e-04, 4.252390e-04, 4.411470e-04,\n",
       "       4.574040e-04, 4.740140e-04, 4.909790e-04, 5.083010e-04,\n",
       "       5.259820e-04, 5.440250e-04, 5.624320e-04, 5.812060e-04,\n",
       "       6.003490e-04, 6.198630e-04, 6.397510e-04, 6.600150e-04,\n",
       "       6.806560e-04, 7.016780e-04, 7.230830e-04, 7.448720e-04,\n",
       "       7.670490e-04, 7.896150e-04, 8.125720e-04, 8.359230e-04,\n",
       "       8.596690e-04, 8.838140e-04, 9.083580e-04, 9.333050e-04,\n",
       "       9.586560e-04, 9.844130e-04, 1.010579e-03, 1.037156e-03,\n",
       "       1.064145e-03, 1.091548e-03, 1.119369e-03, 1.147608e-03,\n",
       "       1.176268e-03, 1.205350e-03, 1.234858e-03, 1.264792e-03,\n",
       "       1.295155e-03, 1.325949e-03, 1.357175e-03, 1.388836e-03,\n",
       "       1.420934e-03, 1.453470e-03, 1.486446e-03, 1.519865e-03,\n",
       "       1.553728e-03, 1.588037e-03, 1.622794e-03, 1.658001e-03,\n",
       "       1.693660e-03, 1.729772e-03, 1.766340e-03, 1.803366e-03,\n",
       "       1.840850e-03, 1.878795e-03, 1.917204e-03, 1.956077e-03,\n",
       "       1.995416e-03, 2.035223e-03, 2.075501e-03, 2.116250e-03,\n",
       "       2.157473e-03, 2.199171e-03, 2.241347e-03, 2.284001e-03,\n",
       "       2.327136e-03, 2.370753e-03, 2.414854e-03, 2.459441e-03,\n",
       "       2.504516e-03, 2.550080e-03, 2.596134e-03, 2.642682e-03,\n",
       "       2.689724e-03, 2.737262e-03, 2.785297e-03, 2.833832e-03,\n",
       "       2.882868e-03, 2.932407e-03, 2.982450e-03, 3.032999e-03,\n",
       "       3.084056e-03, 3.135622e-03])"
      ]
     },
     "execution_count": 100,
     "metadata": {},
     "output_type": "execute_result"
    }
   ],
   "source": [
    "eva.y_axis"
   ]
  },
  {
   "cell_type": "code",
   "execution_count": 10,
   "metadata": {},
   "outputs": [
    {
     "data": {
      "text/plain": [
       "9.302083333333334"
      ]
     },
     "execution_count": 10,
     "metadata": {},
     "output_type": "execute_result"
    }
   ],
   "source": [
    "423*(150+111+400+400+199+199+159+141+141)/3600/24"
   ]
  },
  {
   "cell_type": "code",
   "execution_count": null,
   "metadata": {},
   "outputs": [],
   "source": []
  },
  {
   "cell_type": "code",
   "execution_count": null,
   "metadata": {},
   "outputs": [],
   "source": []
  },
  {
   "cell_type": "code",
   "execution_count": null,
   "metadata": {},
   "outputs": [],
   "source": []
  },
  {
   "cell_type": "code",
   "execution_count": null,
   "metadata": {},
   "outputs": [],
   "source": []
  },
  {
   "cell_type": "code",
   "execution_count": null,
   "metadata": {},
   "outputs": [],
   "source": []
  },
  {
   "cell_type": "code",
   "execution_count": null,
   "metadata": {},
   "outputs": [],
   "source": []
  },
  {
   "cell_type": "code",
   "execution_count": null,
   "metadata": {},
   "outputs": [],
   "source": []
  },
  {
   "cell_type": "code",
   "execution_count": null,
   "metadata": {},
   "outputs": [],
   "source": []
  },
  {
   "cell_type": "code",
   "execution_count": null,
   "metadata": {},
   "outputs": [],
   "source": []
  },
  {
   "cell_type": "code",
   "execution_count": 4,
   "metadata": {},
   "outputs": [
    {
     "data": {
      "text/plain": [
       "(array([ 1.15269705e-07,  1.15249659e-07,  1.15209807e-07, ...,\n",
       "        -1.15218842e-07, -1.15520771e-07, -1.15192624e-07]),\n",
       " array([ 0.00778724,  0.00779283,  0.0077961 , ..., -0.0078367 ,\n",
       "        -0.0078336 , -0.00783516]),\n",
       " (730813,))"
      ]
     },
     "execution_count": 4,
     "metadata": {},
     "output_type": "execute_result"
    }
   ],
   "source": [
    "i, v, t = eva.get_ivt(plain=True)\n",
    "i, v, v.shape"
   ]
  },
  {
   "cell_type": "code",
   "execution_count": 14,
   "metadata": {},
   "outputs": [
    {
     "data": {
      "text/plain": [
       "[<matplotlib.lines.Line2D at 0x36ef81cd0>]"
      ]
     },
     "execution_count": 14,
     "metadata": {},
     "output_type": "execute_result"
    }
   ],
   "source": [
    "import numpy as np\n",
    "\n",
    "def time_to_freq(i, v, t):\n",
    "    \"\"\"\n",
    "    Convert time-domain current and voltage to frequency-domain magnitude spectra.\n",
    "    \n",
    "    Parameters:\n",
    "        i (array-like): Current signal in time domain\n",
    "        v (array-like): Voltage signal in time domain\n",
    "        t (array-like): Time vector (uniformly spaced)\n",
    "        \n",
    "    Returns:\n",
    "        f (np.ndarray): Frequency vector (Hz)\n",
    "        I_f (np.ndarray): Current amplitude spectrum\n",
    "        V_f (np.ndarray): Voltage amplitude spectrum\n",
    "    \"\"\"\n",
    "    i = np.asarray(i)\n",
    "    v = np.asarray(v)\n",
    "    t = np.asarray(t)\n",
    "\n",
    "    # Sample spacing\n",
    "    dt = t[1] - t[0]\n",
    "    N = len(t)\n",
    "\n",
    "    # Frequency vector\n",
    "    f = np.fft.rfftfreq(N, d=dt)\n",
    "\n",
    "    # FFT and take magnitude\n",
    "    I_f = np.abs(np.fft.rfft(i))\n",
    "    V_f = np.abs(np.fft.rfft(v))\n",
    "\n",
    "    return f, I_f, V_f\n",
    "\n",
    "f, i_f, v_f = time_to_freq(i, v, t)\n",
    "plt.semilogy(f, i_f)\n",
    "plt.semilogy(f, v_f)"
   ]
  },
  {
   "cell_type": "code",
   "execution_count": 15,
   "metadata": {},
   "outputs": [
    {
     "name": "stdout",
     "output_type": "stream",
     "text": [
      "63.427616733206044\n"
     ]
    },
    {
     "data": {
      "text/plain": [
       "[<matplotlib.lines.Line2D at 0x372c023c0>]"
      ]
     },
     "execution_count": 15,
     "metadata": {},
     "output_type": "execute_result"
    }
   ],
   "source": [
    "from utilities.basefunctions import bin_y_over_x\n",
    "importlib.reload(sys.modules[\"utilities.basefunctions\"])\n",
    "\n",
    "def name(i, v, t, down_sample_freq=63):\n",
    "    \"\"\"\n",
    "    Downsample the current and voltage signals to a specified frequency.\n",
    "    \"\"\"\n",
    "    t_short = np.arange(np.min(t), np.max(t), 1/down_sample_freq)\n",
    "    i_short, i_count = bin_y_over_x(t, i, t_short)\n",
    "    v_short, v_count = bin_y_over_x(t, v, t_short)\n",
    "\n",
    "    print(np.nanmean(np.concatenate((i_count, v_count), axis=0), axis=0))\n",
    "\n",
    "    return i_short, v_short, t_short, i_count, v_count\n",
    "\n",
    "i_short, v_short, t_short, i_count, v_count = name(i, v, t)\n",
    "\n",
    "\n",
    "f, i_f, v_f = time_to_freq(i_short, v_short, t_short)\n",
    "\n",
    "plt.close('all')\n",
    "plt.figure(0)\n",
    "plt.plot(v,i, 'b.-')\n",
    "plt.plot(v_short, i_short, 'ro')\n",
    "plt.figure(1)\n",
    "plt.semilogy(f, i_f)\n",
    "plt.semilogy(f, v_f)\n",
    "plt.figure(2)\n",
    "plt.plot(t_short, i_count, 'b-')\n",
    "plt.plot(t_short, v_count, 'r-')"
   ]
  },
  {
   "cell_type": "code",
   "execution_count": 9,
   "metadata": {},
   "outputs": [
    {
     "data": {
      "text/plain": [
       "np.float64(4002.1984732824426)"
      ]
     },
     "execution_count": 9,
     "metadata": {},
     "output_type": "execute_result"
    }
   ],
   "source": [
    "1/(t[1]-t[0])"
   ]
  },
  {
   "cell_type": "code",
   "execution_count": 12,
   "metadata": {},
   "outputs": [
    {
     "name": "stderr",
     "output_type": "stream",
     "text": [
      "/var/folders/kc/8fnzl3f94vxgl8w4wm3wfvk80000gn/T/ipykernel_89942/2432537892.py:33: UserWarning: Creating legend with loc=\"best\" can be slow with large amounts of data.\n",
      "  plt.tight_layout()\n"
     ]
    }
   ],
   "source": [
    "import numpy as np\n",
    "import matplotlib.pyplot as plt\n",
    "from scipy.stats import gaussian_kde\n",
    "\n",
    "# Simulated noisy IV data\n",
    "# np.random.seed(42)\n",
    "# i = np.linspace(-2, 2, 1000)\n",
    "# v_clean = np.tanh(i)\n",
    "# v = v_clean + np.random.normal(scale=0.2, size=i.shape)\n",
    "\n",
    "data = np.vstack([i_short, v_short])\n",
    "\n",
    "# Perform 2D KDE\n",
    "kde = gaussian_kde(data)\n",
    "xi, yi = np.linspace(i.min(), i.max(), 1000), np.linspace(v.min(), v.max(), 1000)\n",
    "xi_grid, yi_grid = np.meshgrid(xi, yi)\n",
    "positions = np.vstack([xi_grid.ravel(), yi_grid.ravel()])\n",
    "density = kde(positions).reshape(xi_grid.shape)\n",
    "\n",
    "# Find max density point in each column (i.e., for each current)\n",
    "ridge_indices = np.argmax(density, axis=0)\n",
    "v_ridge = yi[ridge_indices]\n",
    "\n",
    "# Plot\n",
    "plt.figure(figsize=(8, 5))\n",
    "plt.pcolormesh(xi, yi, density, shading='auto', cmap='plasma')\n",
    "plt.plot(xi, v_ridge, color='cyan', lw=2, label=\"Extracted IV Ridge\")\n",
    "plt.plot(i, v, '.', alpha=0.1, label=\"Noisy data\", color='white')\n",
    "plt.xlabel(\"Current (I)\")\n",
    "plt.ylabel(\"Voltage (V)\")\n",
    "plt.title(\"IV Curve via KDE Ridge Detection\")\n",
    "plt.legend()\n",
    "plt.tight_layout()\n",
    "plt.show()"
   ]
  },
  {
   "cell_type": "code",
   "execution_count": null,
   "metadata": {},
   "outputs": [],
   "source": []
  },
  {
   "cell_type": "code",
   "execution_count": null,
   "metadata": {},
   "outputs": [],
   "source": []
  },
  {
   "cell_type": "code",
   "execution_count": null,
   "metadata": {},
   "outputs": [],
   "source": []
  },
  {
   "cell_type": "code",
   "execution_count": null,
   "metadata": {},
   "outputs": [],
   "source": []
  },
  {
   "cell_type": "code",
   "execution_count": null,
   "metadata": {},
   "outputs": [],
   "source": []
  },
  {
   "cell_type": "code",
   "execution_count": null,
   "metadata": {},
   "outputs": [],
   "source": []
  },
  {
   "cell_type": "code",
   "execution_count": null,
   "metadata": {},
   "outputs": [],
   "source": []
  },
  {
   "cell_type": "code",
   "execution_count": null,
   "metadata": {},
   "outputs": [],
   "source": []
  },
  {
   "cell_type": "code",
   "execution_count": null,
   "metadata": {},
   "outputs": [],
   "source": []
  },
  {
   "cell_type": "code",
   "execution_count": null,
   "metadata": {},
   "outputs": [],
   "source": []
  },
  {
   "cell_type": "code",
   "execution_count": null,
   "metadata": {},
   "outputs": [],
   "source": []
  },
  {
   "cell_type": "code",
   "execution_count": null,
   "metadata": {},
   "outputs": [],
   "source": []
  },
  {
   "cell_type": "code",
   "execution_count": null,
   "metadata": {},
   "outputs": [],
   "source": []
  },
  {
   "cell_type": "code",
   "execution_count": null,
   "metadata": {},
   "outputs": [],
   "source": []
  },
  {
   "cell_type": "code",
   "execution_count": null,
   "metadata": {},
   "outputs": [],
   "source": []
  },
  {
   "cell_type": "code",
   "execution_count": null,
   "metadata": {},
   "outputs": [],
   "source": []
  },
  {
   "cell_type": "code",
   "execution_count": null,
   "metadata": {},
   "outputs": [
    {
     "name": "stderr",
     "output_type": "stream",
     "text": [
      "(base) ... BaseClass initialized.\n",
      "(base eva) ... BaseEvaluation initialized.\n",
      "(iv eva) ... IVEvaluation initialized.\n",
      "(iv plot) ... BasePlot initialized.\n",
      "(base) loadData()\n"
     ]
    },
    {
     "data": {
      "text/plain": [
       "(<Axes: xlabel='$V$ (V)', ylabel='$\\\\nu$ (GHz)'>, <Axes: ylabel='$T$ (mK)'>)"
      ]
     },
     "execution_count": 206,
     "metadata": {},
     "output_type": "execute_result"
    }
   ],
   "source": [
    "%matplotlib qt\n",
    "from utilities.ivplot import IVPlot\n",
    "importlib.reload(sys.modules[\"utilities.ivplot\"])\n",
    "plt.close(\"all\")\n",
    "\n",
    "eva = IVPlot()\n",
    "eva.title = \"Frequency Study (-20dBm)\"\n",
    "eva.sub_folder = \"frequency study\"\n",
    "eva.loadData()\n",
    "\n",
    "eva.to_plot = eva.up_sweep\n",
    "eva.title_of_plot = \"Up Sweep\"\n",
    "eva.y_characters = [r\"$\\nu$\", \"GHz\"]\n",
    "fig, axs = eva.fig_didv(z_lim=(None, None))\n",
    "fig, axs = eva.fig_dvdi(z_lim=(None, None))\n",
    "# fig, axs = eva.fig_didv_T(z_lim=(None, None))\n",
    "\n",
    "eva.ax_T_vy()"
   ]
  },
  {
   "cell_type": "code",
   "execution_count": null,
   "metadata": {},
   "outputs": [
    {
     "name": "stderr",
     "output_type": "stream",
     "text": [
      "(base) ... BaseClass initialized.\n",
      "(base eva) ... BaseEvaluation initialized.\n",
      "(iv eva) ... IVEvaluation initialized.\n",
      "(base eva) Available measurements: ['critical field', 'frequency_at_-20dBm', 'frequency_at_-25dBm', 'frequency_at_15GHz', 'frequency_at_19.3GHz', 'frequency_at_7.8GHz']\n",
      "(base eva) Measurement keys preview: ['nu=-1.0dBm', 'nu=-10.0dBm', 'nu=-9.0dBm', 'nu=0.0dBm']\n",
      "(base eva) setKeys([3, -3, 1, None])\n",
      "(base eva) Key to pop is not found.\n",
      "(iv eva) getMaps()\n",
      "100%|██████████| 32/32 [00:00<00:00, 49.86it/s]\n",
      "100%|██████████| 32/32 [00:00<00:00, 57.28it/s]\n",
      "(base) saveData()\n"
     ]
    }
   ],
   "source": [
    "# Test IVEvaluation\n",
    "from utilities.ivevaluation import IVEvaluation\n",
    "importlib.reload(sys.modules[\"utilities.ivevaluation\"])\n",
    "eva = IVEvaluation()\n",
    "eva.title = \"Power Study (15GHz)\"\n",
    "eva.sub_folder = \"power study\"\n",
    "eva.file_directory = \"/Users/oliver/Documents/measurement data/\"\n",
    "eva.file_folder = \"23 10 PR22e9/2023-11-02-high_Tau_2_G0/\"\n",
    "eva.file_name = \"2023-11-02_high_tau_2_G0_stripline.hdf5\"\n",
    "eva.setAmplifications(10000, 1000)\n",
    "eva.showMeasurements()\n",
    "eva.setMeasurement(\"frequency_at_15GHz\")\n",
    "eva.showKeys()\n",
    "eva.setKeys([3, -3, 1, None])\n",
    "eva.setV(0.8e-3, voltage_bins=1600)\n",
    "eva.setI(1.8e-7, current_bins=1800)\n",
    "eva.up_sweep, eva.down_sweep = eva.getMaps([2,1])\n",
    "eva.saveData()\n"
   ]
  },
  {
   "cell_type": "code",
   "execution_count": null,
   "metadata": {},
   "outputs": [
    {
     "name": "stderr",
     "output_type": "stream",
     "text": [
      "(base) ... BaseClass initialized.\n",
      "(base plot) ... BasePlot initialized.\n",
      "(base eva) ... BaseEvaluation initialized.\n",
      "(iv eva) ... IVEvaluation initialized.\n",
      "(iv plot) ... BasePlot initialized.\n",
      "(base) loadData()\n"
     ]
    }
   ],
   "source": [
    "%matplotlib qt\n",
    "from utilities.ivplot import IVPlot\n",
    "importlib.reload(sys.modules[\"utilities.ivplot\"])\n",
    "plt.close(\"all\")\n",
    "\n",
    "eva = IVPlot()\n",
    "eva.title = \"Power Study (15GHz)\"\n",
    "eva.sub_folder = \"power study\"\n",
    "eva.loadData()\n",
    "\n",
    "eva.to_plot = eva.up_sweep\n",
    "eva.title_of_plot = \"Up Sweep\"\n",
    "eva.y_characters = [r\"$P_\\mathrm{AC}$\", \"dBm\"]\n",
    "fig, axs = eva.fig_didv(z_lim=(None, None))\n",
    "# fig, axs = eva.fig_dvdi(z_lim=(None, None))\n",
    "# fig, axs = eva.fig_didv_T(z_lim=(None, None))\n",
    "\n",
    "# eva.ax_T_vy()"
   ]
  },
  {
   "cell_type": "code",
   "execution_count": null,
   "metadata": {},
   "outputs": [
    {
     "name": "stderr",
     "output_type": "stream",
     "text": [
      "(base) ... BaseClass initialized.\n",
      "(base eva) ... BaseEvaluation initialized.\n",
      "(iv eva) ... IVEvaluation initialized.\n",
      "(base eva) Available measurements: ['critical field', 'frequency_at_-20dBm', 'frequency_at_-25dBm', 'frequency_at_15GHz', 'frequency_at_19.3GHz', 'frequency_at_7.8GHz']\n",
      "(base eva) Measurement keys preview: ['nu=-1.0dBm', 'nu=-10.0dBm', 'nu=-9.0dBm', 'nu=0.0dBm']\n",
      "(base eva) setKeys([3, -3, 1, 'nu=-31.0dBm'])\n",
      "(base eva) addKey('nu=-31.0dBm', -100.000000)\n",
      "(iv eva) getMaps()\n",
      "100%|██████████| 32/32 [00:00<00:00, 51.20it/s]\n",
      "100%|██████████| 32/32 [00:00<00:00, 46.34it/s]\n",
      "(base) saveData()\n",
      "(iv eva) getMapsAmplitude()\n",
      "(base) saveData()\n"
     ]
    }
   ],
   "source": [
    "# Test IVEvaluation\n",
    "from utilities.ivevaluation import IVEvaluation\n",
    "importlib.reload(sys.modules[\"utilities.ivevaluation\"])\n",
    "eva = IVEvaluation()\n",
    "\n",
    "eva.file_directory = \"/Users/oliver/Documents/measurement data/\"\n",
    "eva.file_folder = \"23 10 PR22e9/2023-11-02-high_Tau_2_G0/\"\n",
    "eva.file_name = \"2023-11-02_high_tau_2_G0_stripline.hdf5\"\n",
    "\n",
    "eva.setAmplifications(10000, 1000)\n",
    "eva.showMeasurements()\n",
    "eva.setMeasurement(\"frequency_at_15GHz\")\n",
    "eva.showKeys()\n",
    "eva.setKeys([3, -3, 1, \"nu=-31.0dBm\"])\n",
    "eva.addKey(\"nu=-31.0dBm\", -100)\n",
    "eva.setV(0.8e-3, voltage_bins=1600)\n",
    "eva.setI(1.8e-7, current_bins=1800)\n",
    "\n",
    "eva.title = \"Power Study (15GHz)\"\n",
    "eva.sub_folder = \"power study\"\n",
    "eva.up_sweep, eva.down_sweep = eva.getMaps([2,1])\n",
    "eva.saveData()\n",
    "\n",
    "eva.title = \"Amplitude Study (15GHz)\"\n",
    "eva.sub_folder = \"amplitude study\"\n",
    "eva.up_sweep, eva.down_sweep = eva.getMapsAmplitude([eva.up_sweep, eva.down_sweep])\n",
    "eva.y_axis = eva.amplitude_axis\n",
    "eva.saveData()\n"
   ]
  },
  {
   "cell_type": "code",
   "execution_count": 177,
   "metadata": {},
   "outputs": [
    {
     "data": {
      "text/plain": [
       "(np.float64(0.25), np.float64(0.25))"
      ]
     },
     "execution_count": 177,
     "metadata": {},
     "output_type": "execute_result"
    }
   ],
   "source": [
    "eva.y_axis.max(), eva.amplitude_axis.max()"
   ]
  },
  {
   "cell_type": "code",
   "execution_count": null,
   "metadata": {},
   "outputs": [
    {
     "name": "stderr",
     "output_type": "stream",
     "text": [
      "(base) ... BaseClass initialized.\n",
      "(base plot) ... BasePlot initialized.\n",
      "(base eva) ... BaseEvaluation initialized.\n",
      "(iv eva) ... IVEvaluation initialized.\n",
      "(iv plot) ... BasePlot initialized.\n",
      "(base) loadData()\n"
     ]
    },
    {
     "name": "stdout",
     "output_type": "stream",
     "text": [
      "[0.         0.00166667 0.00333333 0.005      0.00666667 0.00833333\n",
      " 0.01       0.01166667 0.01333333 0.015      0.01666667 0.01833333\n",
      " 0.02       0.02166667 0.02333333 0.025      0.02666667 0.02833333\n",
      " 0.03       0.03166667 0.03333333 0.035      0.03666667 0.03833333\n",
      " 0.04       0.04166667 0.04333333 0.045      0.04666667 0.04833333\n",
      " 0.05       0.05166667 0.05333333 0.055      0.05666667 0.05833333\n",
      " 0.06       0.06166667 0.06333333 0.065      0.06666667 0.06833333\n",
      " 0.07       0.07166667 0.07333333 0.075      0.07666667 0.07833333\n",
      " 0.08       0.08166667 0.08333333 0.085      0.08666667 0.08833333\n",
      " 0.09       0.09166667 0.09333333 0.095      0.09666667 0.09833333\n",
      " 0.1        0.10166667 0.10333333 0.105      0.10666667 0.10833333\n",
      " 0.11       0.11166667 0.11333333 0.115      0.11666667 0.11833333\n",
      " 0.12       0.12166667 0.12333333 0.125      0.12666667 0.12833333\n",
      " 0.13       0.13166667 0.13333333 0.135      0.13666667 0.13833333\n",
      " 0.14       0.14166667 0.14333333 0.145      0.14666667 0.14833333\n",
      " 0.15       0.15166667 0.15333333 0.155      0.15666667 0.15833333\n",
      " 0.16       0.16166667 0.16333333 0.165      0.16666667 0.16833333\n",
      " 0.17       0.17166667 0.17333333 0.175      0.17666667 0.17833333\n",
      " 0.18       0.18166667 0.18333333 0.185      0.18666667 0.18833333\n",
      " 0.19       0.19166667 0.19333333 0.195      0.19666667 0.19833333\n",
      " 0.2        0.20166667 0.20333333 0.205      0.20666667 0.20833333\n",
      " 0.21       0.21166667 0.21333333 0.215      0.21666667 0.21833333\n",
      " 0.22       0.22166667 0.22333333 0.225      0.22666667 0.22833333\n",
      " 0.23       0.23166667 0.23333333 0.235      0.23666667 0.23833333\n",
      " 0.24       0.24166667 0.24333333 0.245      0.24666667 0.24833333\n",
      " 0.25      ] [0.         0.00166667 0.00333333 0.005      0.00666667 0.00833333\n",
      " 0.01       0.01166667 0.01333333 0.015      0.01666667 0.01833333\n",
      " 0.02       0.02166667 0.02333333 0.025      0.02666667 0.02833333\n",
      " 0.03       0.03166667 0.03333333 0.035      0.03666667 0.03833333\n",
      " 0.04       0.04166667 0.04333333 0.045      0.04666667 0.04833333\n",
      " 0.05       0.05166667 0.05333333 0.055      0.05666667 0.05833333\n",
      " 0.06       0.06166667 0.06333333 0.065      0.06666667 0.06833333\n",
      " 0.07       0.07166667 0.07333333 0.075      0.07666667 0.07833333\n",
      " 0.08       0.08166667 0.08333333 0.085      0.08666667 0.08833333\n",
      " 0.09       0.09166667 0.09333333 0.095      0.09666667 0.09833333\n",
      " 0.1        0.10166667 0.10333333 0.105      0.10666667 0.10833333\n",
      " 0.11       0.11166667 0.11333333 0.115      0.11666667 0.11833333\n",
      " 0.12       0.12166667 0.12333333 0.125      0.12666667 0.12833333\n",
      " 0.13       0.13166667 0.13333333 0.135      0.13666667 0.13833333\n",
      " 0.14       0.14166667 0.14333333 0.145      0.14666667 0.14833333\n",
      " 0.15       0.15166667 0.15333333 0.155      0.15666667 0.15833333\n",
      " 0.16       0.16166667 0.16333333 0.165      0.16666667 0.16833333\n",
      " 0.17       0.17166667 0.17333333 0.175      0.17666667 0.17833333\n",
      " 0.18       0.18166667 0.18333333 0.185      0.18666667 0.18833333\n",
      " 0.19       0.19166667 0.19333333 0.195      0.19666667 0.19833333\n",
      " 0.2        0.20166667 0.20333333 0.205      0.20666667 0.20833333\n",
      " 0.21       0.21166667 0.21333333 0.215      0.21666667 0.21833333\n",
      " 0.22       0.22166667 0.22333333 0.225      0.22666667 0.22833333\n",
      " 0.23       0.23166667 0.23333333 0.235      0.23666667 0.23833333\n",
      " 0.24       0.24166667 0.24333333 0.245      0.24666667 0.24833333\n",
      " 0.25      ]\n"
     ]
    }
   ],
   "source": [
    "%matplotlib qt\n",
    "from utilities.ivplot import IVPlot\n",
    "importlib.reload(sys.modules[\"utilities.ivplot\"])\n",
    "plt.close(\"all\")\n",
    "\n",
    "eva = IVPlot()\n",
    "eva.title = \"Amplitude Study (15GHz)\"\n",
    "eva.sub_folder = \"amplitude study\"\n",
    "eva.loadData()\n",
    "print(eva.y_axis, eva.amplitude_axis)\n",
    "eva.to_plot = eva.up_sweep\n",
    "eva.title_of_plot = \"Up Sweep\"\n",
    "eva.y_characters = [r\"$V_\\mathrm{AC}$\", \"V\"]\n",
    "fig, axs = eva.fig_didv_T(z_lim=(None, None))\n",
    "# fig, axs = eva.fig_dvdi(z_lim=(None, None))\n",
    "# fig, axs = eva.fig_didv_T(z_lim=(None, None))\n",
    "\n",
    "# eva.ax_T_vy()"
   ]
  },
  {
   "cell_type": "code",
   "execution_count": null,
   "metadata": {},
   "outputs": [
    {
     "name": "stderr",
     "output_type": "stream",
     "text": [
      "(base) ... BaseClass initialized.\n",
      "(base eva) ... BaseEvaluation initialized.\n",
      "(iv eva) ... IVEvaluation initialized.\n",
      "(iv plot) ... BasePlot initialized.\n",
      "(base) loadData()\n"
     ]
    },
    {
     "name": "stdout",
     "output_type": "stream",
     "text": [
      "(32,) 1.0  [-100.  -30.  -29.  -28.  -27.  -26.  -25.  -24.  -23.  -22.  -21.  -20.\n",
      "  -19.  -18.  -17.  -16.  -15.  -14.  -13.  -12.  -11.  -10.   -9.   -8.\n",
      "   -7.   -6.   -5.   -4.   -3.   -2.   -1.    0.]\n"
     ]
    },
    {
     "name": "stderr",
     "output_type": "stream",
     "text": [
      "The cached device pixel ratio value was stale on window expose.  Please file a QTBUG which explains how to reproduce.\n",
      "The cached device pixel ratio value was stale on window expose.  Please file a QTBUG which explains how to reproduce.\n",
      "The cached device pixel ratio value was stale on window expose.  Please file a QTBUG which explains how to reproduce.\n"
     ]
    }
   ],
   "source": [
    "\n",
    "\n",
    "eva = IVPlot()\n",
    "eva.title = \"Power Study (15GHz)\"\n",
    "eva.sub_folder = \"power study\"\n",
    "eva.loadData()\n",
    "eva.to_plot = eva.up_sweep\n",
    "eva.title_of_plot = \"Up Sweep\"\n",
    "eva.y_characters = [r\"$P_\\mathrm{AC}$\", \"dBm\"]\n",
    "fig, axs = eva.fig_didv_T(z_lim=(None, None), fig_nr=1)"
   ]
  },
  {
   "cell_type": "code",
   "execution_count": null,
   "metadata": {},
   "outputs": [],
   "source": []
  },
  {
   "cell_type": "code",
   "execution_count": null,
   "metadata": {},
   "outputs": [],
   "source": []
  },
  {
   "cell_type": "code",
   "execution_count": null,
   "metadata": {},
   "outputs": [],
   "source": []
  },
  {
   "cell_type": "code",
   "execution_count": null,
   "metadata": {},
   "outputs": [],
   "source": []
  },
  {
   "cell_type": "code",
   "execution_count": null,
   "metadata": {},
   "outputs": [],
   "source": []
  },
  {
   "cell_type": "code",
   "execution_count": null,
   "metadata": {},
   "outputs": [],
   "source": []
  },
  {
   "cell_type": "code",
   "execution_count": null,
   "metadata": {},
   "outputs": [],
   "source": []
  },
  {
   "cell_type": "code",
   "execution_count": null,
   "metadata": {},
   "outputs": [],
   "source": []
  },
  {
   "cell_type": "code",
   "execution_count": null,
   "metadata": {},
   "outputs": [],
   "source": []
  },
  {
   "cell_type": "code",
   "execution_count": null,
   "metadata": {},
   "outputs": [],
   "source": []
  },
  {
   "cell_type": "code",
   "execution_count": null,
   "metadata": {},
   "outputs": [],
   "source": []
  },
  {
   "cell_type": "code",
   "execution_count": null,
   "metadata": {},
   "outputs": [],
   "source": []
  },
  {
   "cell_type": "code",
   "execution_count": null,
   "metadata": {},
   "outputs": [],
   "source": []
  },
  {
   "cell_type": "code",
   "execution_count": null,
   "metadata": {},
   "outputs": [],
   "source": []
  },
  {
   "cell_type": "code",
   "execution_count": null,
   "metadata": {},
   "outputs": [],
   "source": []
  },
  {
   "cell_type": "code",
   "execution_count": null,
   "metadata": {},
   "outputs": [],
   "source": []
  },
  {
   "cell_type": "code",
   "execution_count": null,
   "metadata": {},
   "outputs": [],
   "source": []
  },
  {
   "cell_type": "code",
   "execution_count": null,
   "metadata": {},
   "outputs": [],
   "source": []
  },
  {
   "cell_type": "code",
   "execution_count": null,
   "metadata": {},
   "outputs": [],
   "source": []
  },
  {
   "cell_type": "code",
   "execution_count": null,
   "metadata": {},
   "outputs": [],
   "source": []
  },
  {
   "cell_type": "code",
   "execution_count": null,
   "metadata": {},
   "outputs": [],
   "source": []
  },
  {
   "cell_type": "code",
   "execution_count": null,
   "metadata": {},
   "outputs": [],
   "source": []
  },
  {
   "cell_type": "code",
   "execution_count": null,
   "metadata": {},
   "outputs": [],
   "source": []
  },
  {
   "cell_type": "code",
   "execution_count": null,
   "metadata": {},
   "outputs": [],
   "source": []
  },
  {
   "cell_type": "code",
   "execution_count": null,
   "metadata": {},
   "outputs": [],
   "source": []
  },
  {
   "cell_type": "code",
   "execution_count": null,
   "metadata": {},
   "outputs": [],
   "source": []
  },
  {
   "cell_type": "code",
   "execution_count": null,
   "metadata": {},
   "outputs": [],
   "source": []
  },
  {
   "cell_type": "code",
   "execution_count": null,
   "metadata": {},
   "outputs": [],
   "source": []
  },
  {
   "cell_type": "code",
   "execution_count": null,
   "metadata": {},
   "outputs": [],
   "source": []
  },
  {
   "cell_type": "code",
   "execution_count": null,
   "metadata": {},
   "outputs": [],
   "source": []
  },
  {
   "cell_type": "code",
   "execution_count": null,
   "metadata": {},
   "outputs": [],
   "source": []
  },
  {
   "cell_type": "code",
   "execution_count": null,
   "metadata": {},
   "outputs": [],
   "source": []
  },
  {
   "cell_type": "code",
   "execution_count": null,
   "metadata": {},
   "outputs": [],
   "source": []
  },
  {
   "cell_type": "code",
   "execution_count": null,
   "metadata": {},
   "outputs": [],
   "source": []
  },
  {
   "cell_type": "code",
   "execution_count": null,
   "metadata": {},
   "outputs": [],
   "source": []
  },
  {
   "cell_type": "code",
   "execution_count": null,
   "metadata": {},
   "outputs": [],
   "source": []
  },
  {
   "cell_type": "code",
   "execution_count": null,
   "metadata": {},
   "outputs": [],
   "source": []
  },
  {
   "cell_type": "code",
   "execution_count": null,
   "metadata": {},
   "outputs": [],
   "source": []
  },
  {
   "cell_type": "code",
   "execution_count": null,
   "metadata": {},
   "outputs": [],
   "source": []
  },
  {
   "cell_type": "code",
   "execution_count": null,
   "metadata": {},
   "outputs": [],
   "source": []
  },
  {
   "cell_type": "code",
   "execution_count": null,
   "metadata": {},
   "outputs": [
    {
     "data": {
      "text/plain": [
       "[<matplotlib.lines.Line2D at 0x3001a6a20>]"
      ]
     },
     "execution_count": 58,
     "metadata": {},
     "output_type": "execute_result"
    }
   ],
   "source": [
    "\n",
    "plt.plot(1, 1, color=\"k\")"
   ]
  },
  {
   "cell_type": "code",
   "execution_count": null,
   "metadata": {},
   "outputs": [],
   "source": []
  },
  {
   "cell_type": "code",
   "execution_count": null,
   "metadata": {},
   "outputs": [],
   "source": []
  },
  {
   "cell_type": "code",
   "execution_count": null,
   "metadata": {},
   "outputs": [],
   "source": []
  },
  {
   "cell_type": "code",
   "execution_count": null,
   "metadata": {},
   "outputs": [],
   "source": []
  },
  {
   "cell_type": "code",
   "execution_count": null,
   "metadata": {},
   "outputs": [],
   "source": []
  },
  {
   "cell_type": "code",
   "execution_count": null,
   "metadata": {},
   "outputs": [],
   "source": []
  },
  {
   "cell_type": "code",
   "execution_count": null,
   "metadata": {},
   "outputs": [],
   "source": []
  },
  {
   "cell_type": "code",
   "execution_count": null,
   "metadata": {},
   "outputs": [],
   "source": []
  },
  {
   "cell_type": "code",
   "execution_count": null,
   "metadata": {},
   "outputs": [],
   "source": []
  },
  {
   "cell_type": "code",
   "execution_count": null,
   "metadata": {},
   "outputs": [],
   "source": []
  },
  {
   "cell_type": "code",
   "execution_count": null,
   "metadata": {},
   "outputs": [],
   "source": []
  },
  {
   "cell_type": "code",
   "execution_count": null,
   "metadata": {},
   "outputs": [],
   "source": []
  },
  {
   "cell_type": "code",
   "execution_count": null,
   "metadata": {},
   "outputs": [],
   "source": []
  },
  {
   "cell_type": "code",
   "execution_count": 26,
   "metadata": {},
   "outputs": [
    {
     "ename": "AttributeError",
     "evalue": "'Axes' object has no attribute 'im'",
     "output_type": "error",
     "traceback": [
      "\u001b[0;31m---------------------------------------------------------------------------\u001b[0m",
      "\u001b[0;31mAttributeError\u001b[0m                            Traceback (most recent call last)",
      "Cell \u001b[0;32mIn[26], line 2\u001b[0m\n\u001b[1;32m      1\u001b[0m a \u001b[38;5;241m=\u001b[39m axs[\u001b[38;5;241m4\u001b[39m,\u001b[38;5;241m0\u001b[39m]\n\u001b[0;32m----> 2\u001b[0m \u001b[43ma\u001b[49m\u001b[38;5;241;43m.\u001b[39;49m\u001b[43mim\u001b[49m\n",
      "\u001b[0;31mAttributeError\u001b[0m: 'Axes' object has no attribute 'im'"
     ]
    }
   ],
   "source": [
    "a = axs[4,0]\n",
    "a.im\n"
   ]
  },
  {
   "cell_type": "code",
   "execution_count": null,
   "metadata": {},
   "outputs": [],
   "source": []
  },
  {
   "cell_type": "code",
   "execution_count": null,
   "metadata": {},
   "outputs": [],
   "source": []
  },
  {
   "cell_type": "code",
   "execution_count": null,
   "metadata": {},
   "outputs": [],
   "source": []
  },
  {
   "cell_type": "code",
   "execution_count": null,
   "metadata": {},
   "outputs": [],
   "source": []
  },
  {
   "cell_type": "code",
   "execution_count": null,
   "metadata": {},
   "outputs": [
    {
     "data": {
      "text/plain": [
       "{'iv_tuples': [[array([ 3.96165177e-09,  1.26318458e-07,  1.72659227e-07, ...,\n",
       "          -1.80090473e-07, -1.80024735e-07, -1.80064089e-07]),\n",
       "   array([ 1.37801760e-05,  6.40179998e-04,  8.74620516e-04, ...,\n",
       "          -9.04838770e-04, -9.05187529e-04, -9.04883307e-04]),\n",
       "   array([1.69895006e+09, 1.69895006e+09, 1.69895006e+09, ...,\n",
       "          1.69895008e+09, 1.69895008e+09, 1.69895008e+09])]],\n",
       " 'temperature': array([0.08704578]),\n",
       " 'time_start': array([1.69895006e+09]),\n",
       " 'time_stop': array([1.69895008e+09]),\n",
       " 'current': array([[-1.63516161e-07, -1.63248100e-07, -1.63221065e-07, ...,\n",
       "          1.63409301e-07,  1.63640628e-07,  1.63800648e-07]]),\n",
       " 'voltage': array([[nan, nan, nan, ..., nan, nan, nan]]),\n",
       " 'time_current': array([[1.69895007e+09, 1.69895007e+09, 1.69895007e+09, ...,\n",
       "         1.69895006e+09, 1.69895006e+09, 1.69895006e+09]]),\n",
       " 'time_voltage': array([[nan, nan, nan, ..., nan, nan, nan]]),\n",
       " 'temperature_current': array([[nan, nan, nan, ..., nan, nan, nan]]),\n",
       " 'temperature_voltage': array([[nan, nan, nan, ..., nan, nan, nan]]),\n",
       " 'differential_conductance': array([[3.45970171, 1.90431078, 0.93816625, ..., 2.20891919, 2.52543828,\n",
       "         2.06528268]]),\n",
       " 'differential_resistance': array([[nan, nan, nan, ..., nan, nan, nan]]),\n",
       " 'voltage_offset_1': np.float64(-0.0779216932347595),\n",
       " 'voltage_offset_2': np.float64(-0.015792195702729755)}"
      ]
     },
     "execution_count": 188,
     "metadata": {},
     "output_type": "execute_result"
    }
   ],
   "source": [
    "eva.up_sweep[\"plain\"]"
   ]
  },
  {
   "cell_type": "code",
   "execution_count": null,
   "metadata": {},
   "outputs": [
    {
     "name": "stderr",
     "output_type": "stream",
     "text": [
      "2025-04-02 19:00:56.470 Python[74235:3897307] _TIPropertyValueIsValid called with 16 on nil context!\n",
      "2025-04-02 19:00:56.470 Python[74235:3897307] imkxpc_getApplicationProperty:reply: called with incorrect property value 16, bailing.\n",
      "2025-04-02 19:00:56.470 Python[74235:3897307] Text input context does not respond to _valueForTIProperty:\n",
      "2025-04-02 19:01:10.505 Python[74235:3897307] _TIPropertyValueIsValid called with 16 on nil context!\n",
      "2025-04-02 19:01:10.505 Python[74235:3897307] imkxpc_getApplicationProperty:reply: called with incorrect property value 16, bailing.\n",
      "2025-04-02 19:01:10.505 Python[74235:3897307] Text input context does not respond to _valueForTIProperty:\n"
     ]
    }
   ],
   "source": [
    "fig, axs = plt.subplots(1,3)\n",
    "axs[0] = eva.ax_vt(eva.up_sweep,ax=axs[0], index=0)\n",
    "axs[1] = eva.ax_it(eva.up_sweep,ax=axs[1], index=0)\n",
    "axs[2] = eva.ax_iv(eva.up_sweep,ax=axs[2], index=0)\n",
    "plt.show()"
   ]
  },
  {
   "cell_type": "code",
   "execution_count": 147,
   "metadata": {},
   "outputs": [
    {
     "data": {
      "text/plain": [
       "(<Axes: >, <Axes: >)"
      ]
     },
     "execution_count": 147,
     "metadata": {},
     "output_type": "execute_result"
    }
   ],
   "source": [
    "axs[0], axs[1]"
   ]
  },
  {
   "cell_type": "code",
   "execution_count": null,
   "metadata": {},
   "outputs": [],
   "source": []
  },
  {
   "cell_type": "code",
   "execution_count": null,
   "metadata": {},
   "outputs": [],
   "source": []
  },
  {
   "cell_type": "code",
   "execution_count": null,
   "metadata": {},
   "outputs": [],
   "source": []
  },
  {
   "cell_type": "code",
   "execution_count": null,
   "metadata": {},
   "outputs": [],
   "source": []
  },
  {
   "cell_type": "code",
   "execution_count": null,
   "metadata": {},
   "outputs": [],
   "source": []
  },
  {
   "cell_type": "code",
   "execution_count": null,
   "metadata": {},
   "outputs": [],
   "source": []
  },
  {
   "cell_type": "code",
   "execution_count": null,
   "metadata": {},
   "outputs": [],
   "source": []
  },
  {
   "cell_type": "code",
   "execution_count": null,
   "metadata": {},
   "outputs": [],
   "source": []
  },
  {
   "cell_type": "code",
   "execution_count": null,
   "metadata": {},
   "outputs": [],
   "source": []
  },
  {
   "cell_type": "code",
   "execution_count": null,
   "metadata": {},
   "outputs": [],
   "source": []
  },
  {
   "cell_type": "code",
   "execution_count": null,
   "metadata": {},
   "outputs": [],
   "source": []
  },
  {
   "cell_type": "code",
   "execution_count": null,
   "metadata": {},
   "outputs": [],
   "source": []
  },
  {
   "cell_type": "code",
   "execution_count": null,
   "metadata": {},
   "outputs": [],
   "source": []
  },
  {
   "cell_type": "code",
   "execution_count": null,
   "metadata": {},
   "outputs": [],
   "source": []
  },
  {
   "cell_type": "code",
   "execution_count": null,
   "metadata": {},
   "outputs": [],
   "source": []
  },
  {
   "cell_type": "code",
   "execution_count": null,
   "metadata": {},
   "outputs": [],
   "source": []
  },
  {
   "cell_type": "code",
   "execution_count": null,
   "metadata": {},
   "outputs": [
    {
     "data": {
      "text/plain": [
       "[<matplotlib.lines.Line2D at 0x136c8bb60>]"
      ]
     },
     "execution_count": 105,
     "metadata": {},
     "output_type": "execute_result"
    },
    {
     "name": "stderr",
     "output_type": "stream",
     "text": [
      "2025-04-01 21:47:21.761 Python[74235:3897307] _TIPropertyValueIsValid called with 16 on nil context!\n",
      "2025-04-01 21:47:21.761 Python[74235:3897307] imkxpc_getApplicationProperty:reply: called with incorrect property value 16, bailing.\n",
      "2025-04-01 21:47:21.761 Python[74235:3897307] Text input context does not respond to _valueForTIProperty:\n",
      "2025-04-01 21:47:38.553 Python[74235:3897307] _TIPropertyValueIsValid called with 16 on nil context!\n",
      "2025-04-01 21:47:38.553 Python[74235:3897307] imkxpc_getApplicationProperty:reply: called with incorrect property value 16, bailing.\n",
      "2025-04-01 21:47:38.553 Python[74235:3897307] Text input context does not respond to _valueForTIProperty:\n"
     ]
    }
   ],
   "source": [
    "def filter_frequency(f, filter_f:float = 50, delta_f:float = 1.5):\n",
    "\n",
    "    max_f = np.nanmax(f)\n",
    "    number_harmonics = int(max_f/filter_f)\n",
    "    indices = np.ones(f.shape)\n",
    "\n",
    "    for n in range(number_harmonics):\n",
    "        indices *= np.logical_or(f <= (n+1)*filter_f-delta_f, f >= (n+1)*filter_f+delta_f)\n",
    "    return indices"
   ]
  },
  {
   "cell_type": "code",
   "execution_count": null,
   "metadata": {},
   "outputs": [],
   "source": []
  },
  {
   "cell_type": "code",
   "execution_count": null,
   "metadata": {},
   "outputs": [],
   "source": []
  },
  {
   "cell_type": "code",
   "execution_count": null,
   "metadata": {},
   "outputs": [],
   "source": []
  },
  {
   "cell_type": "code",
   "execution_count": null,
   "metadata": {},
   "outputs": [],
   "source": []
  },
  {
   "cell_type": "code",
   "execution_count": null,
   "metadata": {},
   "outputs": [],
   "source": []
  },
  {
   "cell_type": "code",
   "execution_count": null,
   "metadata": {},
   "outputs": [],
   "source": []
  },
  {
   "cell_type": "code",
   "execution_count": null,
   "metadata": {},
   "outputs": [],
   "source": []
  },
  {
   "cell_type": "code",
   "execution_count": null,
   "metadata": {},
   "outputs": [],
   "source": []
  },
  {
   "cell_type": "code",
   "execution_count": null,
   "metadata": {},
   "outputs": [],
   "source": []
  },
  {
   "cell_type": "code",
   "execution_count": null,
   "metadata": {},
   "outputs": [],
   "source": []
  },
  {
   "cell_type": "code",
   "execution_count": null,
   "metadata": {},
   "outputs": [],
   "source": []
  },
  {
   "cell_type": "code",
   "execution_count": null,
   "metadata": {},
   "outputs": [],
   "source": []
  },
  {
   "cell_type": "code",
   "execution_count": null,
   "metadata": {},
   "outputs": [],
   "source": []
  },
  {
   "cell_type": "code",
   "execution_count": null,
   "metadata": {},
   "outputs": [],
   "source": []
  },
  {
   "cell_type": "code",
   "execution_count": null,
   "metadata": {},
   "outputs": [],
   "source": []
  },
  {
   "cell_type": "code",
   "execution_count": null,
   "metadata": {},
   "outputs": [],
   "source": []
  },
  {
   "cell_type": "code",
   "execution_count": null,
   "metadata": {},
   "outputs": [],
   "source": []
  },
  {
   "cell_type": "code",
   "execution_count": null,
   "metadata": {},
   "outputs": [],
   "source": []
  },
  {
   "cell_type": "code",
   "execution_count": null,
   "metadata": {},
   "outputs": [],
   "source": []
  },
  {
   "cell_type": "code",
   "execution_count": null,
   "metadata": {},
   "outputs": [],
   "source": []
  },
  {
   "cell_type": "code",
   "execution_count": null,
   "metadata": {},
   "outputs": [],
   "source": []
  },
  {
   "cell_type": "code",
   "execution_count": null,
   "metadata": {},
   "outputs": [],
   "source": []
  },
  {
   "cell_type": "code",
   "execution_count": null,
   "metadata": {},
   "outputs": [
    {
     "data": {
      "image/png": "[encoded data removed]",
      "text/plain": [
       "<Figure size 600x400 with 5 Axes>"
      ]
     },
     "metadata": {},
     "output_type": "display_data"
    }
   ],
   "source": [
    "from utilities.old.plot_all import plot_all\n",
    "(fig, ax, _ ,_, _, _) = plot_all(indices = [0, 5, 10], \n",
    "         x = eva.mapped[\"voltage_axis\"]/189e-6,\n",
    "         y = eva.mapped[\"y_axis\"],\n",
    "         z = eva.up_sweep[\"differential_conductance\"],\n",
    "         v = eva.mapped[\"voltage_axis\"]/189e-6,\n",
    "         i = eva.up_sweep[\"current\"]*1e9,\n",
    "         didv = eva.up_sweep[\"differential_conductance\"],\n",
    "         n = eva.up_sweep[\"temperature_current\"],\n",
    "         x_lim = [-3, 3],\n",
    "         y_lim = [5, 20],\n",
    "         z_lim = [2, 3],\n",
    "         v_lim = 3,\n",
    "         i_lim = [0, 200],\n",
    "         didv_lim = [0, 3],\n",
    "         n_lim = [0.050, 0.250],\n",
    "         )\n",
    "plt.show()\n",
    "import pickle\n",
    "pickle.dump(fig, open(\"test.fig.pickle\", \"wb\"))"
   ]
  },
  {
   "cell_type": "code",
   "execution_count": null,
   "metadata": {},
   "outputs": [],
   "source": []
  }
 ],
 "metadata": {
  "kernelspec": {
   "display_name": "Python 3",
   "language": "python",
   "name": "python3"
  },
  "language_info": {
   "codemirror_mode": {
    "name": "ipython",
    "version": 3
   },
   "file_extension": ".py",
   "mimetype": "text/x-python",
   "name": "python",
   "nbconvert_exporter": "python",
   "pygments_lexer": "ipython3",
   "version": "3.13.3"
  }
 },
 "nbformat": 4,
 "nbformat_minor": 2
}
