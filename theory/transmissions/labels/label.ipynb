{
 "cells": [
  {
   "cell_type": "code",
   "execution_count": 50,
   "id": "958e2491",
   "metadata": {},
   "outputs": [],
   "source": [
    "import numpy as np\n",
    "import matplotlib.pyplot as plt\n",
    "import matplotlib.patches as patches\n",
    "\n",
    "plt.rcdefaults()\n",
    "\n",
    "def seeblau(alpha: float = 1.0):\n",
    "    \"\"\"\n",
    "    Returns an RGBA color simulating alpha by lightening RGB toward white.\n",
    "    \n",
    "    Parameters\n",
    "    ----------\n",
    "    alpha : float\n",
    "        Simulated alpha in [0, 1]. RGB is lightened accordingly.\n",
    "    \n",
    "    Returns\n",
    "    -------\n",
    "    np.ndarray\n",
    "        RGBA array with alpha=1.0 but RGB blended toward white.\n",
    "    \"\"\"\n",
    "    base_rgb = np.array([86.743, 152.566, 205.880]) / 256\n",
    "    fake_rgb = base_rgb * alpha + (1 - alpha) * 1.0  # blend with white\n",
    "    return np.append(fake_rgb, 1.0)  # always fully opaque\n",
    "\n",
    "def center_highest(values):\n",
    "    sorted_vals = sorted(values, reverse=True)\n",
    "    center_sorted = []\n",
    "\n",
    "    for i, val in enumerate(sorted_vals):\n",
    "        # Alternate insertion left and right around center\n",
    "        if i == 0:\n",
    "            center_sorted.insert(len(center_sorted) // 2, val)  # max in center\n",
    "        elif i % 2 == 1:\n",
    "            center_sorted.insert(0, val)  # left\n",
    "        else:\n",
    "            center_sorted.append(val)    # right\n",
    "\n",
    "    return center_sorted\n",
    "\n",
    "\n",
    "def rank_floats(arr: np.ndarray) -> np.ndarray:\n",
    "    \"\"\"\n",
    "    Maps each float in `arr` to an integer such that the smallest float gets 0,\n",
    "    the next bigger one gets 1, and so on. Ties get the same rank.\n",
    "\n",
    "    Parameters\n",
    "    ----------\n",
    "    arr : np.ndarray\n",
    "        1D array of floats.\n",
    "\n",
    "    Returns\n",
    "    -------\n",
    "    np.ndarray\n",
    "        Integer array of the same shape, with rank values starting from 0.\n",
    "    \"\"\"\n",
    "    unique_sorted = np.unique(arr)\n",
    "    float_to_rank = {val: i for i, val in enumerate(unique_sorted)}\n",
    "    return np.vectorize(float_to_rank.get)(arr)"
   ]
  },
  {
   "cell_type": "code",
   "execution_count": 109,
   "id": "dc1425d3",
   "metadata": {},
   "outputs": [],
   "source": [
    "def make_pincode_label(pin_code:list[float] = [.5, .35, .28, .25, .25, .25], bend:float=.5, arrowstyle:str='<->', linewidth:float=2., fig=0, name=None):\n",
    "    pin_code_unsorted = np.copy(pin_code)\n",
    "    pin_code = center_highest(pin_code)\n",
    "    ranks = rank_floats(np.array(pin_code))\n",
    "\n",
    "    fig, ax = plt.subplots(1,dpi=100, figsize=(3,1.5), num=fig)\n",
    "    plt.plot([0, .5, 0], [-np.sqrt(2)/4, 0, np.sqrt(2)/4], color=\"grey\", linewidth=2)\n",
    "    plt.plot([1.5, 1, 1.5], [-np.sqrt(2)/4, 0, np.sqrt(2)/4], color=\"grey\", linewidth=2)\n",
    "\n",
    "    for i, pin in enumerate(pin_code):\n",
    "        rad=(-len(pin_code)/2+i+.5)*bend\n",
    "        color = seeblau(.1+.9*pin)\n",
    "        distance = 1/10\n",
    "        temp_linewidth=linewidth*(.5+.5*pin)\n",
    "        rank=ranks[i]\n",
    "\n",
    "        arrow = patches.FancyArrowPatch(\n",
    "        (.5, -rad*distance), (1, -rad*distance),\n",
    "        connectionstyle=f\"arc3,rad={rad}\",\n",
    "        arrowstyle=arrowstyle,\n",
    "        mutation_scale=10,\n",
    "        color=color,\n",
    "        linewidth=temp_linewidth,\n",
    "        zorder=rank,\n",
    "        )\n",
    "        ax.add_patch(arrow)\n",
    "\n",
    "    # Formatting\n",
    "    ax.set_xlim(-.1, 1.6)\n",
    "    ax.set_ylim(-.55, .55)\n",
    "    ax.set_aspect('equal')\n",
    "    ax.axis('off')\n",
    "    plt.tight_layout()\n",
    "    if name is None:\n",
    "        plt.savefig(f'label {pin_code_unsorted}.png', dpi=600, bbox_inches='tight')\n",
    "    else:\n",
    "        plt.savefig(f'label {name}.png', dpi=600, bbox_inches='tight')\n",
    "\n",
    "def make_label(G: float| None = None, **kwargs):\n",
    "    if G is not None:\n",
    "        x = np.linspace(-np.pi/2, np.pi/2, int(G))\n",
    "        pin_code = (np.arctan(x)+1)/2\n",
    "        pin_code[pin_code>1]=1\n",
    "        pin_code[pin_code<0]=0\n",
    "        \n",
    "        make_pincode_label(\n",
    "            pin_code=list(pin_code), \n",
    "            bend=.05, \n",
    "            arrowstyle='-', \n",
    "            linewidth=1, \n",
    "            name=f'{G} G_0',\n",
    "            **kwargs\n",
    "            )\n",
    "    else:\n",
    "        make_pincode_label(**kwargs)\n"
   ]
  },
  {
   "cell_type": "code",
   "execution_count": 111,
   "id": "69b0aedc",
   "metadata": {},
   "outputs": [
    {
     "data": {
      "image/png": "[encoded data removed]",
      "text/plain": [
       "<Figure size 300x150 with 1 Axes>"
      ]
     },
     "metadata": {},
     "output_type": "display_data"
    },
    {
     "data": {
      "image/png": "[encoded data removed]",
      "text/plain": [
       "<Figure size 300x150 with 1 Axes>"
      ]
     },
     "metadata": {},
     "output_type": "display_data"
    },
    {
     "data": {
      "image/png": "[encoded data removed]",
      "text/plain": [
       "<Figure size 300x150 with 1 Axes>"
      ]
     },
     "metadata": {},
     "output_type": "display_data"
    },
    {
     "data": {
      "image/png": "[encoded data removed]",
      "text/plain": [
       "<Figure size 300x150 with 1 Axes>"
      ]
     },
     "metadata": {},
     "output_type": "display_data"
    }
   ],
   "source": [
    "%matplotlib inline\n",
    "make_label(pin_code=[.8, .63, .33, .25, .01], fig=0)\n",
    "make_label(pin_code=[.05], fig=1)\n",
    "make_label(pin_code=[.5, .35, .28, .25, .25, .25], fig=2)\n",
    "make_label(G=43, fig=3)\n"
   ]
  },
  {
   "cell_type": "code",
   "execution_count": null,
   "id": "44c01ccd",
   "metadata": {},
   "outputs": [],
   "source": []
  },
  {
   "cell_type": "code",
   "execution_count": null,
   "id": "cd14c23e",
   "metadata": {},
   "outputs": [],
   "source": []
  },
  {
   "cell_type": "code",
   "execution_count": null,
   "id": "6d503710",
   "metadata": {},
   "outputs": [],
   "source": []
  },
  {
   "cell_type": "code",
   "execution_count": null,
   "id": "e054ce0e",
   "metadata": {},
   "outputs": [],
   "source": []
  },
  {
   "cell_type": "code",
   "execution_count": null,
   "id": "f4bdf05d",
   "metadata": {},
   "outputs": [],
   "source": []
  },
  {
   "cell_type": "code",
   "execution_count": null,
   "id": "c74520d3",
   "metadata": {},
   "outputs": [],
   "source": []
  },
  {
   "cell_type": "code",
   "execution_count": null,
   "id": "73750ad4",
   "metadata": {},
   "outputs": [],
   "source": []
  },
  {
   "cell_type": "code",
   "execution_count": 12,
   "id": "bfa78fb5",
   "metadata": {},
   "outputs": [],
   "source": [
    "\n",
    "\n",
    "G = 1.97 #G_0\n",
    "pin_code_unsorted = [.5, .35, .28, .25, .25, .25]\n",
    "T_50_200 = False\n",
    "T_100 = True\n",
    "Delta = None # 189 #µeV\n",
    "V_omega_const = False\n",
    "nu = 15.0 #15 #GHz\n",
    "gamma = 0.0136 #0.0146\n",
    "c= None # .4\n",
    "\n",
    "\n",
    "pin_code = pin_code_unsorted.copy()\n",
    "# pin_code.pop(-1)\n",
    "pin_code = center_highest(pin_code)\n",
    "\n",
    "fig, ax = plt.subplots(dpi=100, figsize=(3,1.5))\n",
    "\n",
    "plt.plot([0, .5, 0], [-np.sqrt(2)/4, 0, np.sqrt(2)/4], color=\"grey\", linewidth=2)\n",
    "plt.plot([1.5, 1, 1.5], [-np.sqrt(2)/4, 0, np.sqrt(2)/4], color=\"grey\", linewidth=2)\n",
    "\n",
    "for i, pin in enumerate(pin_code):\n",
    "    rad=(-len(pin_code)/2+i+.5)*.5\n",
    "    color = seeblau(pin*.9+.1)\n",
    "    arrow = patches.FancyArrowPatch(\n",
    "    (.5, -rad/10), (1, -rad/10),\n",
    "    connectionstyle=f\"arc3,rad={rad}\",\n",
    "    arrowstyle='<->',\n",
    "    mutation_scale=10,\n",
    "    color=color,\n",
    "    linewidth=2\n",
    "    )\n",
    "    ax.add_patch(arrow)\n",
    "\n",
    "# Formatting\n",
    "# ax.set_xlim(-2, 3)\n",
    "ax.set_ylim(-2, 2)\n",
    "ax.set_aspect('equal')\n",
    "ax.axis('off')\n",
    "string = ''\n",
    "if G is not None:\n",
    "    string += r\"$G_\\mathrm{N}=$\"+f\"${G:.02f}$\"+r\"$\\,G_0$\"+\"\\n\"\n",
    "if T_50_200:\n",
    "    string += r\"$T=50-200\\,$mK\"+\"\\n\"\n",
    "if T_100:\n",
    "    string += r\"$T \\approx 100\\,$mK\"+\"\\n\"\n",
    "if Delta is not None:\n",
    "    string += r\"$\\Delta = $\"+f\"${Delta:d}$\"+r\"$\\,$µeV\"+\"\\n\"\n",
    "if V_omega_const:\n",
    "    string += r\"$V_\\mathrm{out} = const.$\"+\"\\n\"\n",
    "if nu is not None:\n",
    "    string += r\"$\\nu = $\"+f\"${nu:.1f}$\"+r\"$\\,$GHz\"+\"\\n\"\n",
    "if gamma is not None:\n",
    "    string += r\"$\\gamma = $\"+f\"${gamma:.4f}$\"+\"\\n\"\n",
    "if c is not None:\n",
    "    string += f\"$c = {c:.1f}$\"+\"\\n\"\n",
    "\n",
    "string += r\"$\\tau_i = \\{$\"\n",
    "for i, tau in enumerate(pin_code_unsorted):\n",
    "    string += rf\"${tau:.2f}$\"\n",
    "    string += ', '\n",
    "    if i==len(pin_code_unsorted)-1:\n",
    "        break\n",
    "    if (i+1)%3==0:\n",
    "        string += \"\\n\"+r\"        $\\,$\"\n",
    "    \n",
    "\n",
    "string = string[:-2]+r\"$\\}$\"\n",
    "\n",
    "plt.annotate(string, xy=(0,0), xytext=(0, .55),)\n",
    "# plt.tight_layout()\n",
    "# plt.show()\n",
    "plt.savefig('label.png', dpi=600)"
   ]
  },
  {
   "cell_type": "code",
   "execution_count": 257,
   "id": "4ac3ffbc",
   "metadata": {},
   "outputs": [
    {
     "data": {
      "image/png": "[encoded data removed]",
      "text/plain": [
       "<Figure size 300x600 with 1 Axes>"
      ]
     },
     "metadata": {},
     "output_type": "display_data"
    }
   ],
   "source": [
    "import matplotlib.pyplot as plt\n",
    "import matplotlib.patches as patches\n",
    "\n",
    "def seeblau(alpha: float = 1.):\n",
    "    return np.array([86.743,  152.566,  205.880, 256*alpha])/256\n",
    "\n",
    "def center_highest(values):\n",
    "    sorted_vals = sorted(values, reverse=True)\n",
    "    center_sorted = []\n",
    "\n",
    "    for i, val in enumerate(sorted_vals):\n",
    "        # Alternate insertion left and right around center\n",
    "        if i == 0:\n",
    "            center_sorted.insert(len(center_sorted) // 2, val)  # max in center\n",
    "        elif i % 2 == 1:\n",
    "            center_sorted.insert(0, val)  # left\n",
    "        else:\n",
    "            center_sorted.append(val)    # right\n",
    "\n",
    "    return center_sorted\n",
    "\n",
    "\n",
    "G = 43 #G_0\n",
    "pin_code_unsorted = [1, 1, 1, 1, 1, 1,1 ,1 ,1 ,1,1, 1, 1, 1, 1, 1,1 ,1 ,1 ,1,.8,.8,.8,.8,.8,.8,.8,.8,.8,.8,.8,.8,.8,.8,.8, .5,.5,.5,.5,.5, .5,.5,.5,.5,.5, .1,.1,.1,.1,.1,.1,.1,.1]\n",
    "x = np.linspace(-np.pi/2, np.pi/2, 43)\n",
    "pin_code_unsorted = (np.arctan(x)+1)/2\n",
    "\n",
    "# plt.plot(x, pin_code_unsorted)\n",
    "\n",
    "T_50_200 = True\n",
    "T_100 = False\n",
    "Delta = None # 189 #µeV\n",
    "V_omega_const = True\n",
    "nu = None #15.0 #15 #GHz\n",
    "gamma = None # 0.0197 #0.0146\n",
    "c= None # .4\n",
    "\n",
    "\n",
    "pin_code = pin_code_unsorted.copy()\n",
    "# pin_code.pop(-1)\n",
    "pin_code = center_highest(pin_code)\n",
    "pin_code = np.array(pin_code)\n",
    "pin_code[pin_code>1]=1\n",
    "pin_code[pin_code<0]=0\n",
    "\n",
    "fig, ax = plt.subplots(dpi=100, figsize=(3,6))\n",
    "\n",
    "plt.plot([0, .5, 0], [-np.sqrt(2)/4, 0, np.sqrt(2)/4], color=\"grey\", linewidth=2)\n",
    "plt.plot([1.5, 1, 1.5], [-np.sqrt(2)/4, 0, np.sqrt(2)/4], color=\"grey\", linewidth=2)\n",
    "\n",
    "for i, pin in enumerate(pin_code):\n",
    "    rad=(-len(pin_code)/2+i+.5)*.05\n",
    "    color = seeblau(pin*.9+.1)\n",
    "    arrow = patches.FancyArrowPatch(\n",
    "        (.5, -rad/10), (1, -rad/10),\n",
    "        connectionstyle=f\"arc3,rad={rad}\",\n",
    "        arrowstyle='-',\n",
    "        mutation_scale=3,\n",
    "        color=color,\n",
    "        linewidth=1\n",
    "        )\n",
    "    ax.add_patch(arrow)\n",
    "\n",
    "# Formatting\n",
    "# ax.set_xlim(-2, 3)\n",
    "ax.set_ylim(-2, 2)\n",
    "ax.set_aspect('equal')\n",
    "ax.axis('off')\n",
    "string = ''\n",
    "if G is not None:\n",
    "    string += r\"$G_\\mathrm{N}\\approx$\"+f\"${G:.1f}$\"+r\"$\\,G_0$\"+\"\\n\"\n",
    "if T_50_200:\n",
    "    string += r\"$T=50-200\\,$mK\"+\"\\n\"\n",
    "if T_100:\n",
    "    string += r\"$T \\approx 100\\,$mK\"+\"\\n\"\n",
    "if Delta is not None:\n",
    "    string += r\"$\\Delta = $\"+f\"${Delta:d}$\"+r\"$\\,$µeV\"+\"\\n\"\n",
    "if V_omega_const:\n",
    "    string += r\"$V_\\mathrm{out} = const.$\"+\"\\n\"\n",
    "if nu is not None:\n",
    "    string += r\"$\\nu = $\"+f\"${nu:.1f}$\"+r\"$\\,$GHz\"+\"\\n\"\n",
    "if gamma is not None:\n",
    "    string += r\"$\\gamma = $\"+f\"${gamma:.4f}$\"+\"\\n\"\n",
    "if c is not None:\n",
    "    string += f\"$c = {c:.1f}$\"+\"\\n\"\n",
    "\n",
    "# string += r\"$\\tau_i = \\{$\"\n",
    "# for i, tau in enumerate(pin_code_unsorted):\n",
    "#     string += rf\"${tau:.2f}$\"\n",
    "#     string += ', '\n",
    "#     if i==len(pin_code_unsorted)-1:\n",
    "#         break\n",
    "#     if (i+1)%3==0:\n",
    "#         string += \"\\n\"+r\"        $\\,$\"\n",
    "    \n",
    "\n",
    "# string = string[:-2]+r\"$\\}$\"\n",
    "\n",
    "plt.annotate(string, xy=(0,0), xytext=(0, .55),)\n",
    "# plt.tight_layout()\n",
    "# plt.show()\n",
    "plt.savefig('label.png', dpi=600)"
   ]
  },
  {
   "cell_type": "code",
   "execution_count": 254,
   "id": "b852bd13",
   "metadata": {},
   "outputs": [
    {
     "data": {
      "text/plain": [
       "array([0.        , 0.0092202 , 0.02118166, 0.03401563, 0.04780228,\n",
       "       0.06262832, 0.07858664, 0.0957756 , 0.1142976 , 0.13425681,\n",
       "       0.15575578, 0.17889062, 0.20374452, 0.23037942, 0.25882605,\n",
       "       0.28907266, 0.32105355, 0.35463898, 0.38962861, 0.42575081,\n",
       "       0.46266961, 0.5       , 0.53733039, 0.57424919, 0.61037139,\n",
       "       0.64536102, 0.67894645, 0.71092734, 0.74117395, 0.76962058,\n",
       "       0.79625548, 0.82110938, 0.84424422, 0.86574319, 0.8857024 ,\n",
       "       0.9042244 , 0.92141336, 0.93737168, 0.95219772, 0.96598437,\n",
       "       0.97881834, 0.9907798 , 1.        ])"
      ]
     },
     "execution_count": 254,
     "metadata": {},
     "output_type": "execute_result"
    }
   ],
   "source": [
    "pin_code_unsorted"
   ]
  },
  {
   "cell_type": "code",
   "execution_count": null,
   "id": "bf8678ac",
   "metadata": {},
   "outputs": [],
   "source": []
  },
  {
   "cell_type": "code",
   "execution_count": 101,
   "id": "d49b803b",
   "metadata": {},
   "outputs": [
    {
     "data": {
      "text/plain": [
       "[0.8, 0.33, 0.01, 0.25, 0.63]"
      ]
     },
     "execution_count": 101,
     "metadata": {},
     "output_type": "execute_result"
    }
   ],
   "source": [
    "pin_code"
   ]
  },
  {
   "cell_type": "code",
   "execution_count": 27,
   "id": "c43007e2",
   "metadata": {},
   "outputs": [
    {
     "data": {
      "text/plain": [
       "array([0.   , 0.05 , 0.275, 0.04 , 0.075, 0.03 , 0.925, 0.475, 0.02 ,\n",
       "       0.675, 0.01 , 0.15 , 0.175, 0.99 , 0.7  , 0.6  , 0.98 , 0.65 ,\n",
       "       0.4  , 0.5  , 0.375, 0.775, 0.1  , 0.75 , 0.825, 0.2  , 0.3  ,\n",
       "       0.575, 0.425, 0.85 , 0.625, 0.45 , 0.96 , 0.55 , 0.8  , 0.9  ,\n",
       "       0.225, 0.97 , 0.95 , 0.025, 0.725, 0.25 , 0.875, 1.   , 0.525,\n",
       "       0.125, 0.35 , 0.325])"
      ]
     },
     "execution_count": 27,
     "metadata": {},
     "output_type": "execute_result"
    }
   ],
   "source": [
    "T_theo"
   ]
  },
  {
   "cell_type": "code",
   "execution_count": null,
   "id": "9b07b832",
   "metadata": {},
   "outputs": [],
   "source": []
  },
  {
   "cell_type": "code",
   "execution_count": null,
   "id": "9c99c769",
   "metadata": {},
   "outputs": [],
   "source": []
  },
  {
   "cell_type": "code",
   "execution_count": null,
   "id": "511ada58",
   "metadata": {},
   "outputs": [],
   "source": []
  }
 ],
 "metadata": {
  "kernelspec": {
   "display_name": ".venv",
   "language": "python",
   "name": "python3"
  },
  "language_info": {
   "codemirror_mode": {
    "name": "ipython",
    "version": 3
   },
   "file_extension": ".py",
   "mimetype": "text/x-python",
   "name": "python",
   "nbconvert_exporter": "python",
   "pygments_lexer": "ipython3",
   "version": "3.13.3"
  }
 },
 "nbformat": 4,
 "nbformat_minor": 5
}
