{
 "cells": [
  {
   "cell_type": "code",
   "execution_count": 1,
   "id": "a8e38acd",
   "metadata": {},
   "outputs": [
    {
     "data": {
      "text/plain": [
       "<module 'theory.models' from '/Users/oliver/Documents/p5control-bluefors-evaluation/theory/models/__init__.py'>"
      ]
     },
     "execution_count": 1,
     "metadata": {},
     "output_type": "execute_result"
    }
   ],
   "source": [
    "# initialize stuff\n",
    "%reload_ext autoreload\n",
    "%autoreload 2\n",
    "%matplotlib inline\n",
    "\n",
    "import sys\n",
    "import importlib\n",
    "\n",
    "import numpy as np\n",
    "import matplotlib.pyplot as plt\n",
    "from tqdm import tqdm\n",
    "from time import time\n",
    "\n",
    "sys.path.append(\"/Users/oliver/Documents/p5control-bluefors-evaluation\")\n",
    "sys.path.append(\"/home/oliver/Documents/p5control-bluefors-evaluation\")\n",
    "\n",
    "from utilities.corporate_design_colors_v4 import cmap\n",
    "importlib.reload(sys.modules[\"utilities.corporate_design_colors_v4\"])\n",
    "\n",
    "from theory.models import get_I_nA_dynes\n",
    "from theory.models import get_I_nA_HA\n",
    "from theory.models import get_I_nA_FCS\n",
    "from theory.models import get_I_nA_FCS_pbar\n",
    "from theory.models import get_I_nA_PAT\n",
    "from theory.models import get_I_nA_PAMAR\n",
    "from theory.models import get_tien_gordon_pamar\n",
    "\n",
    "from theory.models import G_0_muS\n",
    "\n",
    "importlib.reload(sys.modules[\"theory.models\"])"
   ]
  },
  {
   "cell_type": "code",
   "execution_count": 2,
   "id": "6f4e134b",
   "metadata": {},
   "outputs": [
    {
     "name": "stderr",
     "output_type": "stream",
     "text": [
      "(base) ... BaseClass initialized.\n",
      "(base eva) ... BaseEvaluation initialized.\n",
      "(iv eva) ... IVEvaluation initialized.\n"
     ]
    },
    {
     "ename": "FileNotFoundError",
     "evalue": "[Errno 2] Unable to synchronously open file (unable to open file: name = '/25 04 OI-25c-09/unbroken/OI-25c-09 2025-04-15 unbroken 0.hdf5', errno = 2, error message = 'No such file or directory', flags = 0, o_flags = 0)",
     "output_type": "error",
     "traceback": [
      "\u001b[31m---------------------------------------------------------------------------\u001b[39m",
      "\u001b[31mFileNotFoundError\u001b[39m                         Traceback (most recent call last)",
      "\u001b[36mCell\u001b[39m\u001b[36m \u001b[39m\u001b[32mIn[2]\u001b[39m\u001b[32m, line 14\u001b[39m\n\u001b[32m     12\u001b[39m eva.setV(\u001b[32m2.5e-3\u001b[39m, voltage_bins=\u001b[32m1250\u001b[39m)\n\u001b[32m     13\u001b[39m eva.setI(\u001b[32m40e-9\u001b[39m, current_bins=\u001b[32m1000\u001b[39m)\n\u001b[32m---> \u001b[39m\u001b[32m14\u001b[39m \u001b[43meva\u001b[49m\u001b[43m.\u001b[49m\u001b[43mshowMeasurements\u001b[49m\u001b[43m(\u001b[49m\u001b[43m)\u001b[49m\n\u001b[32m     16\u001b[39m eva.downsample_frequency = \u001b[32m43\u001b[39m\n\u001b[32m     19\u001b[39m \u001b[38;5;66;03m# ## Next File!\u001b[39;00m\n\u001b[32m     20\u001b[39m \u001b[38;5;66;03m# eva.file_name = \"OI-25c-09 2025-04-15 unbroken 1.hdf5\"\u001b[39;00m\n\u001b[32m     21\u001b[39m \u001b[38;5;66;03m# eva.setV(1.7e-3, voltage_bins=2020)\u001b[39;00m\n\u001b[32m   (...)\u001b[39m\u001b[32m     34\u001b[39m \u001b[38;5;66;03m# eva.y_axis = eva.temperature_axis\u001b[39;00m\n\u001b[32m     35\u001b[39m \u001b[38;5;66;03m# eva.saveData()\u001b[39;00m\n",
      "\u001b[36mFile \u001b[39m\u001b[32m~/Documents/p5control-bluefors-evaluation/utilities/baseevaluation.py:186\u001b[39m, in \u001b[36mBaseEvaluation.showMeasurements\u001b[39m\u001b[34m(self)\u001b[39m\n\u001b[32m    180\u001b[39m logger.debug(\u001b[33m\"\u001b[39m\u001b[33m(\u001b[39m\u001b[38;5;132;01m%s\u001b[39;00m\u001b[33m) showMeasurements()\u001b[39m\u001b[33m\"\u001b[39m, \u001b[38;5;28mself\u001b[39m._base_eva_name)\n\u001b[32m    181\u001b[39m file_name = os.path.join(\n\u001b[32m    182\u001b[39m     \u001b[38;5;28mself\u001b[39m.file_directory,\n\u001b[32m    183\u001b[39m     \u001b[38;5;28mself\u001b[39m.file_folder,\n\u001b[32m    184\u001b[39m     \u001b[38;5;28mself\u001b[39m.file_name,\n\u001b[32m    185\u001b[39m )\n\u001b[32m--> \u001b[39m\u001b[32m186\u001b[39m \u001b[38;5;28;01mwith\u001b[39;00m \u001b[43mFile\u001b[49m\u001b[43m(\u001b[49m\u001b[43mfile_name\u001b[49m\u001b[43m,\u001b[49m\u001b[43m \u001b[49m\u001b[33;43m\"\u001b[39;49m\u001b[33;43mr\u001b[39;49m\u001b[33;43m\"\u001b[39;49m\u001b[43m)\u001b[49m \u001b[38;5;28;01mas\u001b[39;00m data_file:\n\u001b[32m    187\u001b[39m     measurements = \u001b[38;5;28mlist\u001b[39m(data_file[\u001b[33m\"\u001b[39m\u001b[33mmeasurement\u001b[39m\u001b[33m\"\u001b[39m].keys())  \u001b[38;5;66;03m# type: ignore\u001b[39;00m\n\u001b[32m    188\u001b[39m     logger.info(\u001b[33m\"\u001b[39m\u001b[33m(\u001b[39m\u001b[38;5;132;01m%s\u001b[39;00m\u001b[33m) Available measurements:\u001b[39m\u001b[33m\"\u001b[39m, \u001b[38;5;28mself\u001b[39m._base_eva_name)\n",
      "\u001b[36mFile \u001b[39m\u001b[32m~/Documents/p5control-bluefors-evaluation/.venv/lib/python3.13/site-packages/h5py/_hl/files.py:564\u001b[39m, in \u001b[36mFile.__init__\u001b[39m\u001b[34m(self, name, mode, driver, libver, userblock_size, swmr, rdcc_nslots, rdcc_nbytes, rdcc_w0, track_order, fs_strategy, fs_persist, fs_threshold, fs_page_size, page_buf_size, min_meta_keep, min_raw_keep, locking, alignment_threshold, alignment_interval, meta_block_size, **kwds)\u001b[39m\n\u001b[32m    555\u001b[39m     fapl = make_fapl(driver, libver, rdcc_nslots, rdcc_nbytes, rdcc_w0,\n\u001b[32m    556\u001b[39m                      locking, page_buf_size, min_meta_keep, min_raw_keep,\n\u001b[32m    557\u001b[39m                      alignment_threshold=alignment_threshold,\n\u001b[32m    558\u001b[39m                      alignment_interval=alignment_interval,\n\u001b[32m    559\u001b[39m                      meta_block_size=meta_block_size,\n\u001b[32m    560\u001b[39m                      **kwds)\n\u001b[32m    561\u001b[39m     fcpl = make_fcpl(track_order=track_order, fs_strategy=fs_strategy,\n\u001b[32m    562\u001b[39m                      fs_persist=fs_persist, fs_threshold=fs_threshold,\n\u001b[32m    563\u001b[39m                      fs_page_size=fs_page_size)\n\u001b[32m--> \u001b[39m\u001b[32m564\u001b[39m     fid = \u001b[43mmake_fid\u001b[49m\u001b[43m(\u001b[49m\u001b[43mname\u001b[49m\u001b[43m,\u001b[49m\u001b[43m \u001b[49m\u001b[43mmode\u001b[49m\u001b[43m,\u001b[49m\u001b[43m \u001b[49m\u001b[43muserblock_size\u001b[49m\u001b[43m,\u001b[49m\u001b[43m \u001b[49m\u001b[43mfapl\u001b[49m\u001b[43m,\u001b[49m\u001b[43m \u001b[49m\u001b[43mfcpl\u001b[49m\u001b[43m,\u001b[49m\u001b[43m \u001b[49m\u001b[43mswmr\u001b[49m\u001b[43m=\u001b[49m\u001b[43mswmr\u001b[49m\u001b[43m)\u001b[49m\n\u001b[32m    566\u001b[39m \u001b[38;5;28;01mif\u001b[39;00m \u001b[38;5;28misinstance\u001b[39m(libver, \u001b[38;5;28mtuple\u001b[39m):\n\u001b[32m    567\u001b[39m     \u001b[38;5;28mself\u001b[39m._libver = libver\n",
      "\u001b[36mFile \u001b[39m\u001b[32m~/Documents/p5control-bluefors-evaluation/.venv/lib/python3.13/site-packages/h5py/_hl/files.py:238\u001b[39m, in \u001b[36mmake_fid\u001b[39m\u001b[34m(name, mode, userblock_size, fapl, fcpl, swmr)\u001b[39m\n\u001b[32m    236\u001b[39m     \u001b[38;5;28;01mif\u001b[39;00m swmr \u001b[38;5;129;01mand\u001b[39;00m swmr_support:\n\u001b[32m    237\u001b[39m         flags |= h5f.ACC_SWMR_READ\n\u001b[32m--> \u001b[39m\u001b[32m238\u001b[39m     fid = \u001b[43mh5f\u001b[49m\u001b[43m.\u001b[49m\u001b[43mopen\u001b[49m\u001b[43m(\u001b[49m\u001b[43mname\u001b[49m\u001b[43m,\u001b[49m\u001b[43m \u001b[49m\u001b[43mflags\u001b[49m\u001b[43m,\u001b[49m\u001b[43m \u001b[49m\u001b[43mfapl\u001b[49m\u001b[43m=\u001b[49m\u001b[43mfapl\u001b[49m\u001b[43m)\u001b[49m\n\u001b[32m    239\u001b[39m \u001b[38;5;28;01melif\u001b[39;00m mode == \u001b[33m'\u001b[39m\u001b[33mr+\u001b[39m\u001b[33m'\u001b[39m:\n\u001b[32m    240\u001b[39m     fid = h5f.open(name, h5f.ACC_RDWR, fapl=fapl)\n",
      "\u001b[36mFile \u001b[39m\u001b[32mh5py/_objects.pyx:56\u001b[39m, in \u001b[36mh5py._objects.with_phil.wrapper\u001b[39m\u001b[34m()\u001b[39m\n",
      "\u001b[36mFile \u001b[39m\u001b[32mh5py/_objects.pyx:57\u001b[39m, in \u001b[36mh5py._objects.with_phil.wrapper\u001b[39m\u001b[34m()\u001b[39m\n",
      "\u001b[36mFile \u001b[39m\u001b[32mh5py/h5f.pyx:102\u001b[39m, in \u001b[36mh5py.h5f.open\u001b[39m\u001b[34m()\u001b[39m\n",
      "\u001b[31mFileNotFoundError\u001b[39m: [Errno 2] Unable to synchronously open file (unable to open file: name = '/25 04 OI-25c-09/unbroken/OI-25c-09 2025-04-15 unbroken 0.hdf5', errno = 2, error message = 'No such file or directory', flags = 0, o_flags = 0)"
     ]
    }
   ],
   "source": [
    "# Evaluation for unbroken\n",
    "from utilities.ivplot import IVPlot\n",
    "from utilities.ivevaluation import IVEvaluation\n",
    "importlib.reload(sys.modules[\"utilities.ivplot\"])\n",
    "importlib.reload(sys.modules[\"utilities.ivevaluation\"])\n",
    "\n",
    "eva = IVEvaluation()\n",
    "eva.file_directory = \"/Users/oliver/Documents/measurement data/\"\n",
    "eva.file_folder = \"/25 04 OI-25c-09/unbroken/\"\n",
    "eva.file_name = \"OI-25c-09 2025-04-15 unbroken 0.hdf5\"\n",
    "eva.setAmplifications(1000, 1000)\n",
    "eva.setV(2.5e-3, voltage_bins=1250)\n",
    "eva.setI(40e-9, current_bins=1000)\n",
    "eva.showMeasurements()\n",
    "\n",
    "eva.downsample_frequency = 43\n",
    "\n",
    "\n",
    "# ## Next File!\n",
    "# eva.file_name = \"OI-25c-09 2025-04-15 unbroken 1.hdf5\"\n",
    "# eva.setV(1.7e-3, voltage_bins=2020)\n",
    "# eva.setI(30e-9, current_bins=1800)\n",
    "# eva.showMeasurements()\n",
    "\n",
    "# # Temperature Study\n",
    "# eva.title = \"Temperature Study\"\n",
    "# print(eva.title)\n",
    "# eva.sub_folder = \"temperature study\"\n",
    "# eva.setMeasurement(\"temperatures\")\n",
    "# eva.showKeys()\n",
    "# eva.setKeys(index_0=7, index_1=-3, norm=1e-6, to_pop=\"no_heater\")\n",
    "# eva.up_sweep, = eva.getMaps([1])\n",
    "# eva.up_sweep, = eva.getMapsTemperature([eva.up_sweep])\n",
    "# eva.y_axis = eva.temperature_axis\n",
    "# eva.saveData()\n",
    "\n",
    "i = 0\n",
    "eva = IVPlot()\n",
    "\n",
    "# eva.title = \"Temperature Study\"\n",
    "# eva.sub_folder = \"temperature study\"\n",
    "# eva.loadData()\n",
    "# eva.to_plot = eva.up_sweep\n",
    "# eva.title_of_plot = \"Up Sweep\"\n",
    "# eva.y_characters = [r\"$T$\", \"K\"]\n",
    "# eva.smoothing = True\n",
    "# eva.window_length = 40\n",
    "# eva.plot_all(leading_index=i, ivs=False)\n",
    "# i += 1000\n",
    "# plt.close(\"all\")"
   ]
  },
  {
   "cell_type": "code",
   "execution_count": null,
   "id": "fc2d109a",
   "metadata": {},
   "outputs": [],
   "source": [
    "# initialize stuff\n",
    "%reload_ext autoreload\n",
    "%autoreload 2\n",
    "%matplotlib inline\n",
    "\n",
    "import sys\n",
    "import importlib\n",
    "import logging\n",
    "\n",
    "import numpy as np\n",
    "import matplotlib.pyplot as plt\n",
    "\n",
    "sys.path.append(\"/Users/oliver/Documents/p5control-bluefors-evaluation\")\n",
    "sys.path.append(\"/home/oliver/Documents/p5control-bluefors-evaluation\")\n",
    "\n",
    "from utilities.baseclass import BaseClass\n",
    "from utilities.baseevaluation import BaseEvaluation\n",
    "from utilities.baseplot import BasePlot\n",
    "from utilities.ivevaluation import IVEvaluation\n",
    "\n",
    "importlib.reload(sys.modules[\"utilities.baseclass\"])\n",
    "importlib.reload(sys.modules[\"utilities.baseevaluation\"])\n",
    "importlib.reload(sys.modules[\"utilities.baseplot\"])\n",
    "importlib.reload(sys.modules[\"utilities.ivevaluation\"])\n",
    "\n",
    "import utilities.basefunctions\n",
    "importlib.reload(sys.modules[\"utilities.basefunctions\"])\n",
    "\n",
    "from utilities.corporate_design_colors_v4 import cmap\n",
    "importlib.reload(sys.modules[\"utilities.corporate_design_colors_v4\"])\n",
    "\n",
    "importlib.reload(logging)\n",
    "logger = logging.getLogger(__name__)\n",
    "logging.basicConfig(level=logging.INFO, format=\"%(message)s\")\n",
    "# pip install numpy matplotlib scipy tqdm torch hdf5view h5py PySide6"
   ]
  }
 ],
 "metadata": {
  "kernelspec": {
   "display_name": ".venv (3.13.3)",
   "language": "python",
   "name": "python3"
  },
  "language_info": {
   "codemirror_mode": {
    "name": "ipython",
    "version": 3
   },
   "file_extension": ".py",
   "mimetype": "text/x-python",
   "name": "python",
   "nbconvert_exporter": "python",
   "pygments_lexer": "ipython3",
   "version": "3.13.3"
  }
 },
 "nbformat": 4,
 "nbformat_minor": 5
}
