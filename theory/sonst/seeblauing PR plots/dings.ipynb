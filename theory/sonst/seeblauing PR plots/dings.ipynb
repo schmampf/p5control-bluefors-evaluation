{
 "cells": [
  {
   "cell_type": "code",
   "execution_count": 25,
   "id": "c60ece0b",
   "metadata": {},
   "outputs": [
    {
     "name": "stderr",
     "output_type": "stream",
     "text": [
      "/var/folders/kc/8fnzl3f94vxgl8w4wm3wfvk80000gn/T/ipykernel_68338/1242731549.py:17: MatplotlibDeprecationWarning: The get_cmap function was deprecated in Matplotlib 3.7 and will be removed in 3.11. Use ``matplotlib.colormaps[name]`` or ``matplotlib.colormaps.get_cmap()`` or ``pyplot.get_cmap()`` instead.\n",
      "  cmap = cm.get_cmap('viridis', 256)\n"
     ]
    }
   ],
   "source": [
    "import numpy as np\n",
    "from PIL import Image\n",
    "import matplotlib.pyplot as plt\n",
    "from matplotlib import cm\n",
    "from scipy.spatial import cKDTree\n",
    "from pathlib import Path\n",
    "\n",
    "folder = Path(\"\")\n",
    "files = list(folder.glob(\"*.png\"))\n",
    "\n",
    "for file in files:\n",
    "    # Step 1: Load image\n",
    "    img = Image.open(str(file)).convert(\"RGB\")\n",
    "    img_array = np.array(img) / 255.0  # normalize to 0–1\n",
    "\n",
    "    # Step 2: Create viridis colormap lookup\n",
    "    cmap = cm.get_cmap('viridis', 256)\n",
    "    colors = cmap(np.linspace(0, 1, 256))[:, :3]  # only RGB\n",
    "\n",
    "    # Step 3: Use KD-tree for fast RGB matching\n",
    "    tree = cKDTree(colors.reshape(-1, 3))\n",
    "    height, width, _ = img_array.shape\n",
    "    pixels = img_array.reshape(-1, 3)\n",
    "\n",
    "    # Step 4: Find closest color in colormap\n",
    "    _, indices = tree.query(pixels)\n",
    "    values = indices / 255.0  # Map to 0–1 scalar\n",
    "\n",
    "    # Reshape to image\n",
    "    scalar_img = values.reshape((height, width))\n",
    "\n",
    "    import sys\n",
    "    import importlib\n",
    "\n",
    "    sys.path.append(\"/Users/oliver/Documents/p5control-bluefors-evaluation\")\n",
    "    sys.path.append(\"/home/oliver/Documents/p5control-bluefors-evaluation\")\n",
    "\n",
    "    from utilities.corporate_design_colors_v4 import cmap\n",
    "    importlib.reload(sys.modules[\"utilities.corporate_design_colors_v4\"])\n",
    "\n",
    "    plt.imsave('seeblau/'+str(file), scalar_img[5:-5, 5:-5], cmap=cmap())"
   ]
  },
  {
   "cell_type": "code",
   "execution_count": 17,
   "id": "37ecad90",
   "metadata": {},
   "outputs": [
    {
     "data": {
      "text/plain": [
       "'source/2g0_bessel_square'"
      ]
     },
     "execution_count": 17,
     "metadata": {},
     "output_type": "execute_result"
    }
   ],
   "source": [
    "from pathlib import Path\n",
    "\n",
    "folder = Path(\"source/\")\n",
    "files = list(folder.glob(\"*.png\"))\n",
    "str(files[0])[:-4]"
   ]
  },
  {
   "cell_type": "code",
   "execution_count": null,
   "id": "30835fa8",
   "metadata": {},
   "outputs": [],
   "source": []
  }
 ],
 "metadata": {
  "kernelspec": {
   "display_name": ".venv",
   "language": "python",
   "name": "python3"
  },
  "language_info": {
   "codemirror_mode": {
    "name": "ipython",
    "version": 3
   },
   "file_extension": ".py",
   "mimetype": "text/x-python",
   "name": "python",
   "nbconvert_exporter": "python",
   "pygments_lexer": "ipython3",
   "version": "3.13.3"
  }
 },
 "nbformat": 4,
 "nbformat_minor": 5
}
