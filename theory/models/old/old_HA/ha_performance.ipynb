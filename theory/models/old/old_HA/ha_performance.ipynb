{
 "cells": [
  {
   "cell_type": "code",
   "execution_count": null,
   "id": "6b681893",
   "metadata": {},
   "outputs": [],
   "source": [
    "import os\n",
    "import io\n",
    "import hashlib\n",
    "import subprocess\n",
    "\n",
    "from concurrent.futures import ThreadPoolExecutor, as_completed\n",
    "\n",
    "import numpy as np\n",
    "from tqdm import tqdm\n",
    "\n",
    "WORK_DIR = \"/Users/oliver/Documents/p5control-bluefors-evaluation/theory/carlosha/\"\n",
    "CACHE_DIR = os.path.join(WORK_DIR, \".cache\")\n",
    "TMP_DIR = os.path.join(WORK_DIR, \".tmp\")\n",
    "\n",
    "os.makedirs(CACHE_DIR, exist_ok=True)\n",
    "os.makedirs(TMP_DIR, exist_ok=True)\n",
    "\n",
    "HA_EXE = os.path.join(WORK_DIR, \"ha\")\n",
    "HA_IN = os.path.join(WORK_DIR, \"ha.in\")\n",
    "\n",
    "VOLTAGE_PRECISION: int = 6\n",
    "GAP_PRECISION: int = 6\n",
    "TAU_PRECISION: int = 4\n",
    "TEMP_PRECISION: int = 4\n",
    "DYNES_PRECISION: int = 6\n",
    "\n",
    "def my_hash(\n",
    "    energy_gap_eV: float = 2e-4,\n",
    "    transmission: float = 0.5,\n",
    "    temperature_K: float = 0.0,\n",
    "    dynes_parameter_eV: float = 0.0,\n",
    ") -> str:\n",
    "    \"\"\"Generates a hash for the given parameters to uniquely identify a simulation.\"\"\"\n",
    "    string = \"cache_ha_\"\n",
    "    string += f\"Delta={energy_gap_eV:.{GAP_PRECISION}f}eV_\"\n",
    "    string += f\"tau={transmission:.{TAU_PRECISION}f}_\"\n",
    "    string += f\"T={temperature_K:.{TEMP_PRECISION}f}K_\"\n",
    "    string += f\"Gamma={dynes_parameter_eV:.{DYNES_PRECISION}f}eV\"\n",
    "    return string"
   ]
  }
 ],
 "metadata": {
  "language_info": {
   "name": "python"
  }
 },
 "nbformat": 4,
 "nbformat_minor": 5
}
