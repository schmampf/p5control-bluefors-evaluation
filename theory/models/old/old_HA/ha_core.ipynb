{
 "cells": [
  {
   "cell_type": "code",
   "execution_count": null,
   "id": "1f223e3d",
   "metadata": {},
   "outputs": [],
   "source": [
    "# initialize stuff\n",
    "%reload_ext autoreload\n",
    "%autoreload 2\n",
    "%matplotlib inline\n",
    "\n",
    "import sys\n",
    "import importlib\n",
    "import logging\n",
    "import pickle\n",
    "\n",
    "import numpy as np\n",
    "import matplotlib.pyplot as plt\n",
    "\n",
    "from tqdm import tqdm\n",
    "from scipy.special import jv\n",
    "from scipy.interpolate import interp1d\n",
    "from numpy.typing import NDArray\n",
    "\n",
    "sys.path.append(\"/Users/oliver/Documents/p5control-bluefors-evaluation\")\n",
    "sys.path.append(\"/home/oliver/Documents/p5control-bluefors-evaluation\")\n",
    "\n",
    "from utilities.corporate_design_colors_v4 import cmap\n",
    "importlib.reload(sys.modules[\"utilities.corporate_design_colors_v4\"])\n",
    "\n",
    "from theory.dynes.dynes import get_current_dynes\n",
    "importlib.reload(sys.modules[\"theory.dynes.dynes\"])\n",
    "\n",
    "from theory.carlosha.ha import get_current_ha\n",
    "importlib.reload(sys.modules[\"theory.carlosha.ha\"])\n",
    "\n",
    "from theory.carlosfcs.fcs import get_current_fcs\n",
    "importlib.reload(sys.modules[\"theory.carlosfcs.fcs\"])\n",
    "\n",
    "from theory.tien_gordon.tien_gordon import get_tien_gordon_pat\n",
    "from theory.tien_gordon.tien_gordon import get_tien_gordon_pamar\n",
    "importlib.reload(sys.modules[\"theory.tien_gordon.tien_gordon\"])\n",
    "\n",
    "import utilities.basefunctions\n",
    "importlib.reload(sys.modules[\"utilities.basefunctions\"])\n",
    "\n",
    "from scipy.constants import e, h\n",
    "G_0 = 2 * e**2 / h\n"
   ]
  },
  {
   "cell_type": "code",
   "execution_count": 4,
   "id": "c568904c",
   "metadata": {},
   "outputs": [],
   "source": [
    "import numpy as np\n",
    "\n",
    "# Constants\n",
    "pi = np.pi\n",
    "gamma_euler = 0.5772156649\n",
    "e_charge = 1.602e-19  # elementary charge (C)\n",
    "hbar = 1.055e-34      # reduced Planck constant (J·s)\n",
    "G0 = 2 * e_charge**2 / hbar  # Quantum of conductance (S)\n",
    "\n",
    "def bcs_gap(temp_reduced):\n",
    "    if temp_reduced >= 1.0:\n",
    "        return 0.0\n",
    "    if temp_reduced == 0.0:\n",
    "        return 1.0\n",
    "    if temp_reduced > 0.99:\n",
    "        return np.exp(gamma_euler) * np.sqrt(8 * (1 - temp_reduced) / (7 * 1.202))\n",
    "    \n",
    "    def integrand(x, gapt, tempf):\n",
    "        w = gapt * np.sqrt(x**2 + 1) * pi * np.exp(-gamma_euler)\n",
    "        if w / tempf < 50:\n",
    "            fermi = 1.0 / (1.0 + np.exp(w / tempf))\n",
    "        else:\n",
    "            fermi = 0.0\n",
    "        return -2.0 * fermi / np.sqrt(x**2 + 1)\n",
    "    \n",
    "    gapt = 1.0\n",
    "    tempf = temp_reduced * pi / np.exp(gamma_euler)\n",
    "    for _ in range(100):\n",
    "        x_max = 50.0 * tempf / (gapt * pi * np.exp(-gamma_euler))\n",
    "        x_vals = np.linspace(0, x_max, 10000)\n",
    "        dx = x_vals[1] - x_vals[0]\n",
    "        integral = np.sum([integrand(x, gapt, tempf) for x in x_vals]) * dx\n",
    "        gaptf = np.exp(integral)\n",
    "        if np.abs(gaptf - gapt) < 1e-5:\n",
    "            return gaptf\n",
    "        gapt = gaptf\n",
    "    return gapt"
   ]
  },
  {
   "cell_type": "code",
   "execution_count": 9,
   "id": "ab5ae2ac",
   "metadata": {},
   "outputs": [
    {
     "data": {
      "text/plain": [
       "np.float64(0.0)"
      ]
     },
     "execution_count": 9,
     "metadata": {},
     "output_type": "execute_result"
    }
   ],
   "source": [
    "bcs_gap(.9)"
   ]
  },
  {
   "cell_type": "code",
   "execution_count": null,
   "id": "61659d76",
   "metadata": {},
   "outputs": [],
   "source": []
  }
 ],
 "metadata": {
  "kernelspec": {
   "display_name": ".venv",
   "language": "python",
   "name": "python3"
  },
  "language_info": {
   "codemirror_mode": {
    "name": "ipython",
    "version": 3
   },
   "file_extension": ".py",
   "mimetype": "text/x-python",
   "name": "python",
   "nbconvert_exporter": "python",
   "pygments_lexer": "ipython3",
   "version": "3.13.3"
  }
 },
 "nbformat": 4,
 "nbformat_minor": 5
}
