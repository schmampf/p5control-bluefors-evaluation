{
 "cells": [
  {
   "cell_type": "code",
   "execution_count": 10,
   "id": "632ab052",
   "metadata": {},
   "outputs": [],
   "source": [
    "import os, sys, importlib, pickle\n",
    "import numpy as np\n",
    "\n",
    "sys.path.append(\"/Users/oliver/Documents/p5control-bluefors-evaluation\")\n",
    "from utilities.basefunctions import bin_y_over_x\n",
    "importlib.reload(sys.modules[\"utilities.basefunctions\"])\n",
    "\n",
    "path = 'CarlosIV/'\n",
    "arr = os.listdir(f'{path}')\n",
    "arr.remove('iv.in')\n",
    "arr.remove('iv.for')\n",
    "\n",
    "v_norm = np.linspace(0.01,5.99,599)\n",
    "V_norm = np.concatenate((-np.flip(v_norm),v_norm))\n",
    "T_theo = np.zeros(len(arr)+1, dtype='float64')\n",
    "I_norm_theo = np.zeros((len(T_theo), len(v_norm)), dtype='float64')\n",
    "\n",
    "for i in range(len(arr)):\n",
    "    temp = arr[i][:-4]\n",
    "    value = int(temp)*10**(-len(temp)+1)\n",
    "    T_theo[i+1] = value\n",
    "\n",
    "for i, a in enumerate(arr):\n",
    "    v_norm_theo = np.genfromtxt(f'{path}/{a}')[:,0]\n",
    "    i_norm_theo = np.genfromtxt(f'{path}/{a}')[:,1]\n",
    "    I_norm_theo[i+1,:], _ = bin_y_over_x(v_norm_theo, i_norm_theo, v_norm)\n",
    "\n",
    "I_theo = np.concatenate((-np.flip(I_norm_theo, axis=1),I_norm_theo), axis=1)\n",
    "dIdV_theo = np.gradient(I_theo, V_norm, axis=1)\n",
    "\n",
    "carlos = {\n",
    "    'voltage': V_norm,\n",
    "    'transmission': T_theo,\n",
    "    'current': I_theo,\n",
    "    'dIdV': dIdV_theo,\n",
    "}\n",
    "\n",
    "indices = np.argsort(carlos['transmission'])\n",
    "theo = dict(\n",
    "    V = carlos['voltage'],\n",
    "    tau = carlos['transmission'][indices],\n",
    "    I = carlos['current'][indices, :],\n",
    "    dIdV = carlos['dIdV'][indices, :],\n",
    "    )\n",
    "\n",
    "with open('carlosIV.pickle', 'wb') as f:\n",
    "    pickle.dump(theo, f)\n"
   ]
  },
  {
   "cell_type": "code",
   "execution_count": 11,
   "id": "3c078612",
   "metadata": {},
   "outputs": [
    {
     "data": {
      "text/plain": [
       "array([0.   , 0.01 , 0.02 , 0.025, 0.03 , 0.04 , 0.05 , 0.075, 0.1  ,\n",
       "       0.125, 0.15 , 0.175, 0.2  , 0.225, 0.25 , 0.275, 0.3  , 0.325,\n",
       "       0.35 , 0.375, 0.4  , 0.425, 0.45 , 0.475, 0.5  , 0.525, 0.55 ,\n",
       "       0.575, 0.6  , 0.625, 0.65 , 0.675, 0.7  , 0.725, 0.75 , 0.775,\n",
       "       0.8  , 0.825, 0.85 , 0.875, 0.9  , 0.925, 0.95 , 0.96 , 0.97 ,\n",
       "       0.98 , 0.99 , 1.   ])"
      ]
     },
     "execution_count": 11,
     "metadata": {},
     "output_type": "execute_result"
    }
   ],
   "source": [
    "theo['tau']"
   ]
  },
  {
   "cell_type": "code",
   "execution_count": null,
   "id": "295e1ecd",
   "metadata": {},
   "outputs": [],
   "source": []
  }
 ],
 "metadata": {
  "kernelspec": {
   "display_name": ".venv",
   "language": "python",
   "name": "python3"
  },
  "language_info": {
   "codemirror_mode": {
    "name": "ipython",
    "version": 3
   },
   "file_extension": ".py",
   "mimetype": "text/x-python",
   "name": "python",
   "nbconvert_exporter": "python",
   "pygments_lexer": "ipython3",
   "version": "3.13.3"
  }
 },
 "nbformat": 4,
 "nbformat_minor": 5
}
