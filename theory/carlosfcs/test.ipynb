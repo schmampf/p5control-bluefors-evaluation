{
 "cells": [
  {
   "cell_type": "code",
   "execution_count": 1,
   "id": "3da4838c",
   "metadata": {},
   "outputs": [],
   "source": [
    "import os\n",
    "import io\n",
    "import hashlib\n",
    "import pickle\n",
    "import subprocess\n",
    "import numpy as np\n",
    "from tqdm import tqdm\n",
    "from concurrent.futures import ThreadPoolExecutor, as_completed\n",
    "\n",
    "WORK_DIR = \"/Users/oliver/Documents/p5control-bluefors-evaluation/theory/carlosfcs/\"\n",
    "CACHE_DIR = os.path.join(WORK_DIR, \"./.cache\")\n",
    "os.makedirs(CACHE_DIR, exist_ok=True)"
   ]
  },
  {
   "cell_type": "code",
   "execution_count": 14,
   "id": "754c38c1",
   "metadata": {},
   "outputs": [
    {
     "data": {
      "text/plain": [
       "array([0.083     , 0.27577558, 0.        , 0.        , 0.00072827,\n",
       "       0.001411  , 0.01661314, 0.16766054, 0.07531005, 0.01281065,\n",
       "       0.00124192, 0.        ])"
      ]
     },
     "execution_count": 14,
     "metadata": {},
     "output_type": "execute_result"
    }
   ],
   "source": [
    "V = 83e-6\n",
    "dV = 1e-9\n",
    "temperature_K: float = 0.0\n",
    "energy_gap_V: float = 2e-4\n",
    "dynes_parameter_V: float = 0.0\n",
    "transmission: float = 0.5\n",
    "\n",
    "nmax: int = 10\n",
    "iw: int = 2003\n",
    "nchi: int = 66\n",
    "\n",
    "workdir = \"/Users/oliver/Documents/p5control-bluefors-evaluation/theory/carlosfcs/\"\n",
    "fcs_exe = os.path.join(workdir, \"fcs\")\n",
    "fcs_in = os.path.join(workdir, f\"fcs.in\")\n",
    "tmp_input_dir = os.path.join(workdir, \".tmp\")\n",
    "os.makedirs(tmp_input_dir, exist_ok=True)\n",
    "\n",
    "tmp_in = os.path.join(\n",
    "    tmp_input_dir,\n",
    "    f\"[{V} {dV}].in\",\n",
    ")\n",
    "\n",
    "if dynes_parameter_V <= 0:\n",
    "    dynes_parameter_V = 1e-7\n",
    "\n",
    "with open(fcs_in, \"r\") as f:\n",
    "    lines = f.readlines()\n",
    "\n",
    "lines[0] = f\"{transmission:.5f} (transmission)\\n\"\n",
    "lines[1] = f\"{temperature_K:.5f} (temp in K)\\n\"\n",
    "lines[2] = f\"{energy_gap_V*1e3:.6f} {energy_gap_V*1e3:.6f} (gap1,gap2 in meV)\\n\"\n",
    "lines[3] = (\n",
    "    f\"{dynes_parameter_V*1e3:.6f} {dynes_parameter_V*1e3:.6f} (eta1,eta2 = broadening in meV)\\n\"\n",
    ")\n",
    "lines[4] = (\n",
    "    f\"{V*1e3:.8f}, {V*1e3:.8f}, 1.0 (v in mV)\\n\"\n",
    ")\n",
    "lines[5] = f\"{nmax} {iw} {nchi} (nmax,iw,nchi)\\n\"\n",
    "\n",
    "with open(tmp_in, \"w\") as f:\n",
    "    f.writelines(lines)\n",
    "\n",
    "proc = subprocess.run(\n",
    "    [fcs_exe],\n",
    "    stdin=open(tmp_in, \"r\"),\n",
    "    capture_output=True,\n",
    "    text=True,\n",
    "    cwd=workdir,\n",
    ")\n",
    "np.genfromtxt(io.StringIO(proc.stdout), dtype=\"float64\")"
   ]
  },
  {
   "cell_type": "code",
   "execution_count": null,
   "id": "eefc3c4f",
   "metadata": {},
   "outputs": [],
   "source": []
  }
 ],
 "metadata": {
  "kernelspec": {
   "display_name": ".venv",
   "language": "python",
   "name": "python3"
  },
  "language_info": {
   "codemirror_mode": {
    "name": "ipython",
    "version": 3
   },
   "file_extension": ".py",
   "mimetype": "text/x-python",
   "name": "python",
   "nbconvert_exporter": "python",
   "pygments_lexer": "ipython3",
   "version": "3.13.3"
  }
 },
 "nbformat": 4,
 "nbformat_minor": 5
}
