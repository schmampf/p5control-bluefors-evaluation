{
 "cells": [
  {
   "cell_type": "code",
   "execution_count": 128,
   "id": "67171049",
   "metadata": {},
   "outputs": [],
   "source": [
    "import os, pickle\n",
    "import numpy as np\n",
    "from scipy.io import loadmat\n",
    "from dataclasses import dataclass\n",
    "from typing import List, Dict, Any\n",
    "import h5py\n",
    "import matplotlib.pyplot as plt"
   ]
  },
  {
   "cell_type": "code",
   "execution_count": 129,
   "id": "a55511f5",
   "metadata": {},
   "outputs": [],
   "source": [
    "# path = \"/home/dacap/Documents/p5control-bluefors-evaluation/theory/transmissions/MARS\"\n",
    "path = r\"A:\\Documents\\Git\\p5control-bluefors-evaluation\\simulation\\data\\Reference\"\n",
    "files = os.listdir(path)\n",
    "files = files[1:]\n",
    "# print(files)\n",
    "\n",
    "arr = loadmat(f\"{path}/{files[10]}\")\n",
    "\n",
    "V = np.array(arr[\"eV_eff_range\"][0], dtype=\"float64\")\n",
    "I_0 = np.full((len(files) + 1, len(V)), 0, dtype=\"float64\")\n",
    "I_m = np.full((len(files) + 1, 20, len(V)), 0, dtype=\"float64\")\n",
    "tau = np.full(len(files) + 1, 0, dtype=\"float64\")\n",
    "M = np.arange(1, 21)\n",
    "\n",
    "# arr = loadmat(f'{path}/{files[80]}')\n",
    "\n",
    "\n",
    "@dataclass\n",
    "class DataSet:\n",
    "    V0: np.ndarray\n",
    "    I0: np.ndarray\n",
    "    Im: List[np.ndarray]\n",
    "\n",
    "\n",
    "sets: Dict[float, DataSet] = {}\n",
    "\n",
    "for i, file in enumerate(files):\n",
    "    arr = loadmat(f\"{path}/{file}\")\n",
    "\n",
    "    sets[float(file[15:19])] = DataSet(\n",
    "        V0=np.real(arr[\"eV_eff_range\"][0]),\n",
    "        I0=np.real(arr[\"I_In\"][:, 0]) / 2,\n",
    "        Im=[\n",
    "            np.real(arr[\"In_final\"][:, 20 - m] / 2 + arr[\"In_final\"][:, 20 + m] / 2)\n",
    "            for m in M\n",
    "        ],\n",
    "    )"
   ]
  },
  {
   "cell_type": "code",
   "execution_count": 130,
   "id": "2c122054",
   "metadata": {},
   "outputs": [],
   "source": [
    "def fill(arr, isX):\n",
    "    index_neg=589\n",
    "    if isX:\n",
    "        start = np.copy(arr[:index_neg+1])\n",
    "        end = np.copy(arr[index_neg+1:])\n",
    "        mid = np.round(np.arange(-0.1, 0.11, 0.01),2)[1:-1]\n",
    "        return np.concatenate((start, mid, end))\n",
    "    else:\n",
    "        start = np.copy(arr[:index_neg+1])\n",
    "        end = np.copy(arr[index_neg+1:])\n",
    "        mid = np.zeros(len(np.round(np.arange(-0.1, 0.11, 0.01),2)[1:-1]))\n",
    "        return np.concatenate((start, mid, end))"
   ]
  },
  {
   "cell_type": "code",
   "execution_count": 131,
   "id": "08c3283d",
   "metadata": {},
   "outputs": [],
   "source": [
    "# correct data gap [-0.1, 0.1]\n",
    "for key, set in sets.items():\n",
    "    sets[key] = DataSet(\n",
    "        V0=fill(set.V0, True),\n",
    "        I0=fill(set.I0, False),\n",
    "        Im=[fill(im, False) for im in set.Im]\n",
    "    )"
   ]
  },
  {
   "cell_type": "code",
   "execution_count": 132,
   "id": "f229029e",
   "metadata": {},
   "outputs": [],
   "source": [
    "# set = sets[0.5]\n",
    "# for i in range(20):\n",
    "#     plt.plot(set.V0, set.Im[i], label=\"I0\")"
   ]
  },
  {
   "cell_type": "code",
   "execution_count": 133,
   "id": "c42baf24",
   "metadata": {},
   "outputs": [],
   "source": [
    "# save sets as h5py file\n",
    "\n",
    "with h5py.File(\"DavidOIV.hdf5\", \"w\") as f:\n",
    "    for key, dataset in sets.items():\n",
    "        group = f.create_group(str(key))\n",
    "        group.create_dataset(\"V0\", data=dataset.V0)\n",
    "        group.create_dataset(\"I0\", data=dataset.I0)\n",
    "        group.create_dataset(f\"Im\", data=dataset.Im)"
   ]
  }
 ],
 "metadata": {
  "kernelspec": {
   "display_name": ".venv",
   "language": "python",
   "name": "python3"
  },
  "language_info": {
   "codemirror_mode": {
    "name": "ipython",
    "version": 3
   },
   "file_extension": ".py",
   "mimetype": "text/x-python",
   "name": "python",
   "nbconvert_exporter": "python",
   "pygments_lexer": "ipython3",
   "version": "3.13.3"
  }
 },
 "nbformat": 4,
 "nbformat_minor": 5
}
