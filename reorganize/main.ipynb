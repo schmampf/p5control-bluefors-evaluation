{
 "cells": [
  {
   "cell_type": "markdown",
   "id": "6485cc21",
   "metadata": {},
   "source": [
    "#### Imports"
   ]
  },
  {
   "cell_type": "code",
   "execution_count": null,
   "id": "c02d22cb",
   "metadata": {},
   "outputs": [],
   "source": [
    "import utilities.logging as Logger\n",
    "import integration.files as Files\n",
    "import evaluation.general as GenEval\n",
    "import evaluation.iv as IVEval\n",
    "import utilities.macros as Macros\n",
    "import plotting.plot as Plot"
   ]
  },
  {
   "cell_type": "markdown",
   "id": "5a94775d",
   "metadata": {},
   "source": [
    "#### Init"
   ]
  },
  {
   "cell_type": "code",
   "execution_count": null,
   "id": "2cca15dc",
   "metadata": {},
   "outputs": [],
   "source": [
    "bib = Files.DataCollection()\n",
    "\n",
    "Logger.setup(bib)\n",
    "Logger.set_level(Logger.INFO)\n",
    "Files.setup(bib, \"Test\", \"/home/dacap/Downloads\")\n",
    "GenEval.setup(bib)\n",
    "IVEval.setup(bib)"
   ]
  },
  {
   "cell_type": "markdown",
   "id": "2534cb46",
   "metadata": {},
   "source": [
    "#### Config"
   ]
  },
  {
   "cell_type": "code",
   "execution_count": null,
   "id": "46a3e74b",
   "metadata": {},
   "outputs": [],
   "source": [
    "bib.data.file_name = \"OI-25c-09 2025-04-15 unbroken antenna full 1-formated.hdf5\"\n",
    "bib.params.volt_amp = (1.0, 1.0)\n",
    "bib.iv_params.bins = 500"
   ]
  },
  {
   "cell_type": "markdown",
   "id": "83ac0691",
   "metadata": {},
   "source": [
    "#### Selection"
   ]
  },
  {
   "cell_type": "code",
   "execution_count": null,
   "id": "6a7f6759",
   "metadata": {},
   "outputs": [],
   "source": [
    "GenEval.loadMeasurements(bib)\n",
    "GenEval.showLoadedMeasurements(bib)\n",
    "GenEval.select_measurement(bib, 2)\n",
    "\n",
    "IVEval.select_edge(bib, 1, \"down\")"
   ]
  },
  {
   "cell_type": "code",
   "execution_count": null,
   "id": "a95638c0",
   "metadata": {},
   "outputs": [],
   "source": [
    "Macros.bulk_eval(bib)"
   ]
  },
  {
   "cell_type": "code",
   "execution_count": null,
   "id": "e29106a4",
   "metadata": {},
   "outputs": [],
   "source": [
    "from plotting.plot import StyleKeys as SK\n",
    "\n",
    "VVI_style = {\n",
    "    SK.X_LABEL: \"Voltage (V)\",\n",
    "    SK.Y_LABEL: \"Voltage (V)\",\n",
    "    SK.Z_LABEL: \"Current (A)\",\n",
    "    SK.X_LIM: (-1, 1),\n",
    "    SK.Y_LIM: (0, 0.03),\n",
    "    SK.CMAP: \"viridis\",\n",
    "    SK.CBAR: True,\n",
    "    SK.TICKS: (11, 10, 10),\n",
    "    SK.ASPECT: \"auto\",\n",
    "    # SK.INTERPOL: \"bilinear\",\n",
    "}\n",
    "\n",
    "Plot.map(bib, [\"VVI\"], [VVI_style])"
   ]
  }
 ],
 "metadata": {
  "kernelspec": {
   "display_name": ".venv",
   "language": "python",
   "name": "python3"
  },
  "language_info": {
   "codemirror_mode": {
    "name": "ipython",
    "version": 3
   },
   "file_extension": ".py",
   "mimetype": "text/x-python",
   "name": "python",
   "nbconvert_exporter": "python",
   "pygments_lexer": "ipython3",
   "version": "3.13.3"
  }
 },
 "nbformat": 4,
 "nbformat_minor": 5
}
