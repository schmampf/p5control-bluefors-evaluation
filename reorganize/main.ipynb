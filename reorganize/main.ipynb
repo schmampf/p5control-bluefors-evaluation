{
 "cells": [
  {
   "cell_type": "markdown",
   "id": "6485cc21",
   "metadata": {},
   "source": [
    "#### Imports"
   ]
  },
  {
   "cell_type": "code",
   "execution_count": null,
   "id": "c02d22cb",
   "metadata": {},
   "outputs": [],
   "source": [
    "import utilities.logging as Logger\n",
    "import integration.files as Files\n",
    "import evaluation.general as GenEval\n",
    "import evaluation.iv as IVEval\n",
    "import utilities.macros as Macros\n",
    "import plotting.plot as Plot\n",
    "import utilities.constants as Constants\n",
    "import os"
   ]
  },
  {
   "cell_type": "markdown",
   "id": "5a94775d",
   "metadata": {},
   "source": [
    "#### Init"
   ]
  },
  {
   "cell_type": "code",
   "execution_count": null,
   "id": "2cca15dc",
   "metadata": {},
   "outputs": [],
   "source": [
    "bib = Files.DataCollection()\n",
    "\n",
    "Logger.setup(bib)\n",
    "Logger.set_level(Logger.DEBUG)\n",
    "Files.setup(bib, \"Test\",  fr\"C:\\Users\\{os.getlogin()}\\Downloads\")\n",
    "GenEval.setup(bib)\n",
    "IVEval.setup(bib)"
   ]
  },
  {
   "cell_type": "markdown",
   "id": "2534cb46",
   "metadata": {},
   "source": [
    "#### Config"
   ]
  },
  {
   "cell_type": "code",
   "execution_count": null,
   "id": "46a3e74b",
   "metadata": {},
   "outputs": [],
   "source": [
    "bib.data.file_name = (\n",
    "    \"OI-25c-09 2025-05-02 unbroken stripline irradiation studies 0.hdf5\"\n",
    ")\n",
    "bib.params.volt_amp = (1.0, 1.0)\n",
    "bib.iv_params.bins = 400"
   ]
  },
  {
   "cell_type": "markdown",
   "id": "83ac0691",
   "metadata": {},
   "source": [
    "#### Selection"
   ]
  },
  {
   "cell_type": "code",
   "execution_count": null,
   "id": "6a7f6759",
   "metadata": {},
   "outputs": [],
   "source": [
    "GenEval.loadMeasurements(bib)\n",
    "GenEval.showLoadedMeasurements(bib)\n",
    "GenEval.select_measurement(bib, 1)\n",
    "\n",
    "IVEval.select_edge(bib, 1, \"up\")"
   ]
  },
  {
   "cell_type": "code",
   "execution_count": null,
   "id": "6039e9ee",
   "metadata": {},
   "outputs": [],
   "source": [
    "Macros.load(bib, 1)\n",
    "Macros.eval(bib, \"adwin\")"
   ]
  },
  {
   "cell_type": "code",
   "execution_count": null,
   "id": "a95638c0",
   "metadata": {},
   "outputs": [],
   "source": [
    "Macros.bulk_eval(bib)"
   ]
  },
  {
   "cell_type": "code",
   "execution_count": null,
   "id": "e29106a4",
   "metadata": {},
   "outputs": [],
   "source": [
    "from plotting.plot import StyleKeys as SK\n",
    "\n",
    "VVI_style = {\n",
    "    SK.X_LABEL: \"eV₀ (Δ)\",\n",
    "    SK.Y_LABEL: \"eVω (V)\",\n",
    "    SK.Z_LABEL: \"dI/dV (G₀)\",\n",
    "    SK.SCALE: (1, 10, 1),\n",
    "    SK.X_LIM: (-6, 6),\n",
    "    SK.Y_LIM: (0, 1.0),\n",
    "    SK.CMAP: \"seeblau\",\n",
    "    SK.CBAR: True,\n",
    "    SK.TICKS: (7, 6, 6),\n",
    "    SK.ASPECT: \"auto\",\n",
    "    # SK.INTERPOL: \"bilinear\",\n",
    "}\n",
    "\n",
    "Plot.map(bib, [\"dVXC\"], [VVI_style])"
   ]
  },
  {
   "cell_type": "code",
   "execution_count": null,
   "id": "a185436a",
   "metadata": {},
   "outputs": [],
   "source": [
    "Macros.load(bib, 1)\n",
    "Macros.eval(bib, \"adwin\")\n",
    "\n",
    "import matplotlib.pyplot as plt\n",
    "import numpy as np\n",
    "\n",
    "# Plot.plot_curves(bib, (\"cached\", \"adwin\"), [(\"voltage-bin\",\"current-voltage\",)], True)\n",
    "x = bib.evaluation.persistent_sets[\"norm\"].curves[\"voltage-bin\"]\n",
    "y = bib.evaluation.cached_sets[\"adwin\"].curves[\"current-voltage\"] *1e6\n",
    "# y *= (2*Constants.e**2)/ Constants.h\n",
    "# dy = np.gradient(y, x)\n",
    "plt.plot(x, y, label=\"Adwin\")\n",
    "plt.xlabel(\"eV₀ (eV)\")\n",
    "plt.ylabel(\"I (2eΔ/h)\")\n",
    "plt.xlim(-6, 6)\n",
    "plt.ylim(-15.5,15.5)\n",
    "\n",
    "plt.figure()\n",
    "dx = np.gradient(x)\n",
    "dy = np.gradient(y)\n",
    "plt.plot(x, dy / dx, label=\"Adwin derivative\")\n",
    "plt.xlabel(\"eV₀ (eV)\")\n",
    "plt.ylabel(\"dI/dV (G₀)\")\n",
    "plt.xlim(-6, 6);"
   ]
  }
 ],
 "metadata": {
  "kernelspec": {
   "display_name": ".venv",
   "language": "python",
   "name": "python3"
  },
  "language_info": {
   "codemirror_mode": {
    "name": "ipython",
    "version": 3
   },
   "file_extension": ".py",
   "mimetype": "text/x-python",
   "name": "python",
   "nbconvert_exporter": "python",
   "pygments_lexer": "ipython3",
   "version": "3.13.3"
  }
 },
 "nbformat": 4,
 "nbformat_minor": 5
}
