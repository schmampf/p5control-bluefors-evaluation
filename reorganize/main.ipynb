{
 "cells": [
  {
   "cell_type": "markdown",
   "id": "6485cc21",
   "metadata": {},
   "source": [
    "#### Imports"
   ]
  },
  {
   "cell_type": "code",
   "execution_count": 1,
   "id": "c02d22cb",
   "metadata": {},
   "outputs": [],
   "source": [
    "import utilities.logging as Logger\n",
    "import integration.files as Files\n",
    "import evaluation.general as GenEval\n",
    "import evaluation.iv as IVEval\n",
    "import utilities.macros as Macros\n",
    "import plotting.plot as Plot"
   ]
  },
  {
   "cell_type": "markdown",
   "id": "5a94775d",
   "metadata": {},
   "source": [
    "#### Init"
   ]
  },
  {
   "cell_type": "code",
   "execution_count": 10,
   "id": "2cca15dc",
   "metadata": {},
   "outputs": [
    {
     "name": "stdout",
     "output_type": "stream",
     "text": [
      "(...) Logger.setup()\n",
      "(...) Logger.set_level(lvl=Level.DEBUG)\n",
      "(...) Files.setup(name=Test, root_dir=/home/dacap/Downloads)\n",
      "(Test)   FileData.file_directory = /home/dacap/Downloads/\n",
      "(Test) GenEval.setup()\n",
      "(Test) IVEval.setup()\n"
     ]
    }
   ],
   "source": [
    "bib = Files.DataCollection()\n",
    "\n",
    "Logger.setup(bib)\n",
    "Logger.set_level(Logger.DEBUG)\n",
    "Files.setup(bib, \"Test\", \"/home/dacap/Downloads\")\n",
    "GenEval.setup(bib)\n",
    "IVEval.setup(bib)"
   ]
  },
  {
   "cell_type": "markdown",
   "id": "2534cb46",
   "metadata": {},
   "source": [
    "#### Config"
   ]
  },
  {
   "cell_type": "code",
   "execution_count": 11,
   "id": "46a3e74b",
   "metadata": {},
   "outputs": [
    {
     "name": "stdout",
     "output_type": "stream",
     "text": [
      "(Test)   FileData.file_name = OI-25c-09 2025-05-02 unbroken stripline irradiation studies 0.hdf5\n",
      "(Test)   Params.volt_amp = (1.0, 1.0)\n"
     ]
    }
   ],
   "source": [
    "bib.data.file_name = (\n",
    "    \"OI-25c-09 2025-05-02 unbroken stripline irradiation studies 0.hdf5\"\n",
    ")\n",
    "bib.params.volt_amp = (1.0, 1.0)\n",
    "bib.iv_params.bins = 500"
   ]
  },
  {
   "cell_type": "markdown",
   "id": "83ac0691",
   "metadata": {},
   "source": [
    "#### Selection"
   ]
  },
  {
   "cell_type": "code",
   "execution_count": 12,
   "id": "6a7f6759",
   "metadata": {},
   "outputs": [
    {
     "name": "stdout",
     "output_type": "stream",
     "text": [
      "(Test) GenEval.loadMeasurements()\n",
      "(Test)   Opening file: /home/dacap/Downloads/OI-25c-09 2025-05-02 unbroken stripline irradiation studies 0.hdf5\n",
      "(Test) GenEval.showLoadedMeasurements()\n",
      "(Test)   [1] var=(vna_amplitudes,(1e-02,1e+00),V) const=[(vna_frequency,1.36e+10,Hz)]\n",
      "(Test)   [2] var=(vna_amplitudes,(1e-02,1e+00),V) const=[(vna_frequency,1.5e+10,Hz)]\n",
      "(Test)   [3] var=(vna_amplitudes,(1e-02,1e+00),V) const=[(vna_frequency,7.8e+09,Hz)]\n",
      "(Test)   [4] var=(vna_amplitudes,(1e-02,1e+00),V) const=[(vna_frequency,8e+09,Hz)]\n",
      "(Test)   [5] var=(vna_amplitudes,(1e-02,7.1e-01),V) const=[(vna_frequency,1.83e+10,Hz)]\n",
      "(Test)   [6] var=(vna_amplitudes,(1e-02,7.1e-01),V) const=[(vna_frequency,1.93e+10,Hz)]\n",
      "(Test)   [7] var=(vna_frequency,(1e+09,2e+10),Hz) const=[(vna_amplitude,1e-01,V)]\n",
      "(Test)   [8] var=(vna_frequency,(1e+09,2e+10),Hz) const=[(vna_amplitude,2e-01,V)]\n",
      "(Test) GenEval.select_measurement(index=1)\n",
      "(Test)   Files.open_file(data, dir=/measurement/var=(vna_amplitudes,(1e-02,1e+00),V) const=[(vna_frequency,1.36e+10,Hz)])\n",
      "(Test)   Files.getfile_path()\n",
      "(Test)   Opening file: /home/dacap/Downloads/OI-25c-09 2025-05-02 unbroken stripline irradiation studies 0.hdf5\n",
      "(Test)   Selected: var=(vna_amplitudes,(1e-02,1e+00),V) const=[(vna_frequency,1.36e+10,Hz)]\n",
      "(Test)       with: 200 entries\n",
      "(Test) IVEval.select_edge(num=1,dir=down)\n"
     ]
    }
   ],
   "source": [
    "GenEval.loadMeasurements(bib)\n",
    "GenEval.showLoadedMeasurements(bib)\n",
    "GenEval.select_measurement(bib, 1)\n",
    "\n",
    "IVEval.select_edge(bib, 1, \"down\")"
   ]
  },
  {
   "cell_type": "code",
   "execution_count": null,
   "id": "6039e9ee",
   "metadata": {},
   "outputs": [
    {
     "name": "stdout",
     "output_type": "stream",
     "text": [
      "(Test) GenEval.select_CurveSet(var_range_index=1)\n",
      "(Test)   Files.open_file(data, dir=/measurement/var=(vna_amplitudes,(1e-02,1e+00),V) const=[(vna_frequency,1.36e+10,Hz)])\n",
      "(Test)   Files.getfile_path()\n",
      "(Test)   Opening file: /home/dacap/Downloads/OI-25c-09 2025-05-02 unbroken stripline irradiation studies 0.hdf5\n",
      "(Test)   Selected DataSet: V=1e-02V\n",
      "(Test) IVEval.loadCurveSet()\n",
      "(Test)   Loading IV data\n",
      "(Test)   Files.open_file(data, dir=/measurement/var=(vna_amplitudes,(1e-02,1e+00),V) const=[(vna_frequency,1.36e+10,Hz)]/V=1e-02V/)\n",
      "(Test)   Files.getfile_path()\n",
      "(Test)   Opening file: /home/dacap/Downloads/OI-25c-09 2025-05-02 unbroken stripline irradiation studies 0.hdf5\n",
      "(Test)   Loading temperature data\n",
      "(Test)   Files.open_file(data, dir=/measurement/var=(vna_amplitudes,(1e-02,1e+00),V) const=[(vna_frequency,1.36e+10,Hz)]/V=1e-02V/sweep)\n",
      "(Test)   Files.getfile_path()\n",
      "(Test)   Opening file: /home/dacap/Downloads/OI-25c-09 2025-05-02 unbroken stripline irradiation studies 0.hdf5\n",
      "(Test) IVEval.filter_curve_sets(bin_count=500)\n",
      "(Test) IVEval.eval_loaded_curve_set()\n",
      "(Test) IVEval.get_noise(adwin, ('time', 'current'), It)\n",
      "(Test)   Plot.plot_curves: ('filtered', 'adwin') [('voltage',)]\n"
     ]
    },
    {
     "data": {
      "image/png": "[encoded data removed]",
      "text/plain": [
       "<Figure size 640x480 with 1 Axes>"
      ]
     },
     "metadata": {},
     "output_type": "display_data"
    }
   ],
   "source": [
    "Macros.load(bib, 1)\n",
    "Macros.eval(bib, \"adwin\")\n",
    "# Plot.plot_curves(bib, (\"cache\", \"adwin\"), [(\"voltage-bin\", \"current-voltage\")])\n",
    "Plot.plot_curves(bib, (\"filtered\", \"adwin\"), [(\"time\", \"voltage\")])"
   ]
  },
  {
   "cell_type": "code",
   "execution_count": 14,
   "id": "a95638c0",
   "metadata": {},
   "outputs": [
    {
     "name": "stdout",
     "output_type": "stream",
     "text": [
      "(Test)   Evaluating Set: 30/200 (14%) (id: V=1.45e-01V)            "
     ]
    },
    {
     "name": "stderr",
     "output_type": "stream",
     "text": [
      "/home/dacap/Documents/p5control-bluefors-evaluation/reorganize/evaluation/normalization.py:29: RuntimeWarning: divide by zero encountered in scalar divide\n",
      "  dx = 2 / idxDelta\n",
      "/home/dacap/Documents/p5control-bluefors-evaluation/.venv/lib/python3.13/site-packages/numpy/_core/function_base.py:162: RuntimeWarning: invalid value encountered in multiply\n",
      "  y *= step\n",
      "/home/dacap/Documents/p5control-bluefors-evaluation/.venv/lib/python3.13/site-packages/numpy/_core/function_base.py:172: RuntimeWarning: invalid value encountered in add\n",
      "  y += start\n"
     ]
    },
    {
     "name": "stdout",
     "output_type": "stream",
     "text": [
      "(Test)   Evaluating Set: 200/200 (100%) (id: V=9.95e-01V)            "
     ]
    }
   ],
   "source": [
    "Macros.bulk_eval(bib)"
   ]
  },
  {
   "cell_type": "code",
   "execution_count": 15,
   "id": "e29106a4",
   "metadata": {},
   "outputs": [
    {
     "name": "stdout",
     "output_type": "stream",
     "text": [
      "(Test)   Plotting map: dVXC\n"
     ]
    },
    {
     "data": {
      "image/png": "[encoded data removed]",
      "text/plain": [
       "<Figure size 640x480 with 2 Axes>"
      ]
     },
     "metadata": {},
     "output_type": "display_data"
    }
   ],
   "source": [
    "from plotting.plot import StyleKeys as SK\n",
    "\n",
    "VVI_style = {\n",
    "    SK.X_LABEL: \"eV₀ (Δ)\",\n",
    "    SK.Y_LABEL: \"eVω (V)\",\n",
    "    SK.Z_LABEL: \"dI/dV (G₀)\",\n",
    "    SK.SCALE: (1, 10, 1),\n",
    "    SK.X_LIM: (-6, 6),\n",
    "    SK.Y_LIM: (0, 1.0),\n",
    "    SK.CMAP: \"seeblau\",\n",
    "    SK.CBAR: True,\n",
    "    SK.TICKS: (7, 6, 6),\n",
    "    SK.ASPECT: \"auto\",\n",
    "    # SK.INTERPOL: \"bilinear\",\n",
    "}\n",
    "\n",
    "Plot.map(bib, [\"dVXC\"], [VVI_style])"
   ]
  },
  {
   "cell_type": "code",
   "execution_count": 16,
   "id": "a185436a",
   "metadata": {},
   "outputs": [
    {
     "name": "stdout",
     "output_type": "stream",
     "text": [
      "(Test) GenEval.select_CurveSet(var_range_index=1)\n",
      "(Test)   Files.open_file(data, dir=/measurement/var=(vna_amplitudes,(1e-02,1e+00),V) const=[(vna_frequency,1.36e+10,Hz)])\n",
      "(Test)   Files.getfile_path()\n",
      "(Test)   Opening file: /home/dacap/Downloads/OI-25c-09 2025-05-02 unbroken stripline irradiation studies 0.hdf5\n",
      "(Test)   Selected DataSet: V=1e-02V\n",
      "(Test) IVEval.loadCurveSet()\n",
      "(Test)   Loading IV data\n",
      "(Test)   Files.open_file(data, dir=/measurement/var=(vna_amplitudes,(1e-02,1e+00),V) const=[(vna_frequency,1.36e+10,Hz)]/V=1e-02V/)\n",
      "(Test)   Files.getfile_path()\n",
      "(Test)   Opening file: /home/dacap/Downloads/OI-25c-09 2025-05-02 unbroken stripline irradiation studies 0.hdf5\n",
      "(Test)   Loading temperature data\n",
      "(Test)   Files.open_file(data, dir=/measurement/var=(vna_amplitudes,(1e-02,1e+00),V) const=[(vna_frequency,1.36e+10,Hz)]/V=1e-02V/sweep)\n",
      "(Test)   Files.getfile_path()\n",
      "(Test)   Opening file: /home/dacap/Downloads/OI-25c-09 2025-05-02 unbroken stripline irradiation studies 0.hdf5\n",
      "(Test) IVEval.filter_curve_sets(bin_count=500)\n",
      "(Test) IVEval.eval_loaded_curve_set()\n",
      "(Test) IVEval.get_noise(adwin, ('time', 'current'), It)\n"
     ]
    },
    {
     "ename": "ValueError",
     "evalue": "x and y must have same first dimension, but have shapes (250,) and (500,)",
     "output_type": "error",
     "traceback": [
      "\u001b[31m---------------------------------------------------------------------------\u001b[39m",
      "\u001b[31mValueError\u001b[39m                                Traceback (most recent call last)",
      "\u001b[36mCell\u001b[39m\u001b[36m \u001b[39m\u001b[32mIn[16]\u001b[39m\u001b[32m, line 11\u001b[39m\n\u001b[32m      9\u001b[39m y = bib.evaluation.cached_sets[\u001b[33m\"\u001b[39m\u001b[33madwin\u001b[39m\u001b[33m\"\u001b[39m].curves[\u001b[33m\"\u001b[39m\u001b[33mcurrent-voltage\u001b[39m\u001b[33m\"\u001b[39m]\n\u001b[32m     10\u001b[39m \u001b[38;5;66;03m# dy = np.gradient(y, x)\u001b[39;00m\n\u001b[32m---> \u001b[39m\u001b[32m11\u001b[39m \u001b[43mplt\u001b[49m\u001b[43m.\u001b[49m\u001b[43mplot\u001b[49m\u001b[43m(\u001b[49m\u001b[43mx\u001b[49m\u001b[43m,\u001b[49m\u001b[43m \u001b[49m\u001b[43my\u001b[49m\u001b[43m,\u001b[49m\u001b[43m \u001b[49m\u001b[43mlabel\u001b[49m\u001b[43m=\u001b[49m\u001b[33;43m\"\u001b[39;49m\u001b[33;43mAdwin\u001b[39;49m\u001b[33;43m\"\u001b[39;49m\u001b[43m)\u001b[49m\n\u001b[32m     12\u001b[39m plt.xlabel(\u001b[33m\"\u001b[39m\u001b[33meV₀ (eV)\u001b[39m\u001b[33m\"\u001b[39m)\n\u001b[32m     13\u001b[39m plt.ylabel(\u001b[33m\"\u001b[39m\u001b[33mI (GΔ/e)\u001b[39m\u001b[33m\"\u001b[39m)\n",
      "\u001b[36mFile \u001b[39m\u001b[32m~/Documents/p5control-bluefors-evaluation/.venv/lib/python3.13/site-packages/matplotlib/pyplot.py:3827\u001b[39m, in \u001b[36mplot\u001b[39m\u001b[34m(scalex, scaley, data, *args, **kwargs)\u001b[39m\n\u001b[32m   3819\u001b[39m \u001b[38;5;129m@_copy_docstring_and_deprecators\u001b[39m(Axes.plot)\n\u001b[32m   3820\u001b[39m \u001b[38;5;28;01mdef\u001b[39;00m\u001b[38;5;250m \u001b[39m\u001b[34mplot\u001b[39m(\n\u001b[32m   3821\u001b[39m     *args: \u001b[38;5;28mfloat\u001b[39m | ArrayLike | \u001b[38;5;28mstr\u001b[39m,\n\u001b[32m   (...)\u001b[39m\u001b[32m   3825\u001b[39m     **kwargs,\n\u001b[32m   3826\u001b[39m ) -> \u001b[38;5;28mlist\u001b[39m[Line2D]:\n\u001b[32m-> \u001b[39m\u001b[32m3827\u001b[39m     \u001b[38;5;28;01mreturn\u001b[39;00m \u001b[43mgca\u001b[49m\u001b[43m(\u001b[49m\u001b[43m)\u001b[49m\u001b[43m.\u001b[49m\u001b[43mplot\u001b[49m\u001b[43m(\u001b[49m\n\u001b[32m   3828\u001b[39m \u001b[43m        \u001b[49m\u001b[43m*\u001b[49m\u001b[43margs\u001b[49m\u001b[43m,\u001b[49m\n\u001b[32m   3829\u001b[39m \u001b[43m        \u001b[49m\u001b[43mscalex\u001b[49m\u001b[43m=\u001b[49m\u001b[43mscalex\u001b[49m\u001b[43m,\u001b[49m\n\u001b[32m   3830\u001b[39m \u001b[43m        \u001b[49m\u001b[43mscaley\u001b[49m\u001b[43m=\u001b[49m\u001b[43mscaley\u001b[49m\u001b[43m,\u001b[49m\n\u001b[32m   3831\u001b[39m \u001b[43m        \u001b[49m\u001b[43m*\u001b[49m\u001b[43m*\u001b[49m\u001b[43m(\u001b[49m\u001b[43m{\u001b[49m\u001b[33;43m\"\u001b[39;49m\u001b[33;43mdata\u001b[39;49m\u001b[33;43m\"\u001b[39;49m\u001b[43m:\u001b[49m\u001b[43m \u001b[49m\u001b[43mdata\u001b[49m\u001b[43m}\u001b[49m\u001b[43m \u001b[49m\u001b[38;5;28;43;01mif\u001b[39;49;00m\u001b[43m \u001b[49m\u001b[43mdata\u001b[49m\u001b[43m \u001b[49m\u001b[38;5;129;43;01mis\u001b[39;49;00m\u001b[43m \u001b[49m\u001b[38;5;129;43;01mnot\u001b[39;49;00m\u001b[43m \u001b[49m\u001b[38;5;28;43;01mNone\u001b[39;49;00m\u001b[43m \u001b[49m\u001b[38;5;28;43;01melse\u001b[39;49;00m\u001b[43m \u001b[49m\u001b[43m{\u001b[49m\u001b[43m}\u001b[49m\u001b[43m)\u001b[49m\u001b[43m,\u001b[49m\n\u001b[32m   3832\u001b[39m \u001b[43m        \u001b[49m\u001b[43m*\u001b[49m\u001b[43m*\u001b[49m\u001b[43mkwargs\u001b[49m\u001b[43m,\u001b[49m\n\u001b[32m   3833\u001b[39m \u001b[43m    \u001b[49m\u001b[43m)\u001b[49m\n",
      "\u001b[36mFile \u001b[39m\u001b[32m~/Documents/p5control-bluefors-evaluation/.venv/lib/python3.13/site-packages/matplotlib/axes/_axes.py:1777\u001b[39m, in \u001b[36mAxes.plot\u001b[39m\u001b[34m(self, scalex, scaley, data, *args, **kwargs)\u001b[39m\n\u001b[32m   1534\u001b[39m \u001b[38;5;250m\u001b[39m\u001b[33;03m\"\"\"\u001b[39;00m\n\u001b[32m   1535\u001b[39m \u001b[33;03mPlot y versus x as lines and/or markers.\u001b[39;00m\n\u001b[32m   1536\u001b[39m \n\u001b[32m   (...)\u001b[39m\u001b[32m   1774\u001b[39m \u001b[33;03m(``'green'``) or hex strings (``'#008000'``).\u001b[39;00m\n\u001b[32m   1775\u001b[39m \u001b[33;03m\"\"\"\u001b[39;00m\n\u001b[32m   1776\u001b[39m kwargs = cbook.normalize_kwargs(kwargs, mlines.Line2D)\n\u001b[32m-> \u001b[39m\u001b[32m1777\u001b[39m lines = [*\u001b[38;5;28mself\u001b[39m._get_lines(\u001b[38;5;28mself\u001b[39m, *args, data=data, **kwargs)]\n\u001b[32m   1778\u001b[39m \u001b[38;5;28;01mfor\u001b[39;00m line \u001b[38;5;129;01min\u001b[39;00m lines:\n\u001b[32m   1779\u001b[39m     \u001b[38;5;28mself\u001b[39m.add_line(line)\n",
      "\u001b[36mFile \u001b[39m\u001b[32m~/Documents/p5control-bluefors-evaluation/.venv/lib/python3.13/site-packages/matplotlib/axes/_base.py:297\u001b[39m, in \u001b[36m_process_plot_var_args.__call__\u001b[39m\u001b[34m(self, axes, data, return_kwargs, *args, **kwargs)\u001b[39m\n\u001b[32m    295\u001b[39m     this += args[\u001b[32m0\u001b[39m],\n\u001b[32m    296\u001b[39m     args = args[\u001b[32m1\u001b[39m:]\n\u001b[32m--> \u001b[39m\u001b[32m297\u001b[39m \u001b[38;5;28;01myield from\u001b[39;00m \u001b[38;5;28;43mself\u001b[39;49m\u001b[43m.\u001b[49m\u001b[43m_plot_args\u001b[49m\u001b[43m(\u001b[49m\n\u001b[32m    298\u001b[39m \u001b[43m    \u001b[49m\u001b[43maxes\u001b[49m\u001b[43m,\u001b[49m\u001b[43m \u001b[49m\u001b[43mthis\u001b[49m\u001b[43m,\u001b[49m\u001b[43m \u001b[49m\u001b[43mkwargs\u001b[49m\u001b[43m,\u001b[49m\u001b[43m \u001b[49m\u001b[43mambiguous_fmt_datakey\u001b[49m\u001b[43m=\u001b[49m\u001b[43mambiguous_fmt_datakey\u001b[49m\u001b[43m,\u001b[49m\n\u001b[32m    299\u001b[39m \u001b[43m    \u001b[49m\u001b[43mreturn_kwargs\u001b[49m\u001b[43m=\u001b[49m\u001b[43mreturn_kwargs\u001b[49m\n\u001b[32m    300\u001b[39m \u001b[43m\u001b[49m\u001b[43m)\u001b[49m\n",
      "\u001b[36mFile \u001b[39m\u001b[32m~/Documents/p5control-bluefors-evaluation/.venv/lib/python3.13/site-packages/matplotlib/axes/_base.py:494\u001b[39m, in \u001b[36m_process_plot_var_args._plot_args\u001b[39m\u001b[34m(self, axes, tup, kwargs, return_kwargs, ambiguous_fmt_datakey)\u001b[39m\n\u001b[32m    491\u001b[39m     axes.yaxis.update_units(y)\n\u001b[32m    493\u001b[39m \u001b[38;5;28;01mif\u001b[39;00m x.shape[\u001b[32m0\u001b[39m] != y.shape[\u001b[32m0\u001b[39m]:\n\u001b[32m--> \u001b[39m\u001b[32m494\u001b[39m     \u001b[38;5;28;01mraise\u001b[39;00m \u001b[38;5;167;01mValueError\u001b[39;00m(\u001b[33mf\u001b[39m\u001b[33m\"\u001b[39m\u001b[33mx and y must have same first dimension, but \u001b[39m\u001b[33m\"\u001b[39m\n\u001b[32m    495\u001b[39m                      \u001b[33mf\u001b[39m\u001b[33m\"\u001b[39m\u001b[33mhave shapes \u001b[39m\u001b[38;5;132;01m{\u001b[39;00mx.shape\u001b[38;5;132;01m}\u001b[39;00m\u001b[33m and \u001b[39m\u001b[38;5;132;01m{\u001b[39;00my.shape\u001b[38;5;132;01m}\u001b[39;00m\u001b[33m\"\u001b[39m)\n\u001b[32m    496\u001b[39m \u001b[38;5;28;01mif\u001b[39;00m x.ndim > \u001b[32m2\u001b[39m \u001b[38;5;129;01mor\u001b[39;00m y.ndim > \u001b[32m2\u001b[39m:\n\u001b[32m    497\u001b[39m     \u001b[38;5;28;01mraise\u001b[39;00m \u001b[38;5;167;01mValueError\u001b[39;00m(\u001b[33mf\u001b[39m\u001b[33m\"\u001b[39m\u001b[33mx and y can be no greater than 2D, but have \u001b[39m\u001b[33m\"\u001b[39m\n\u001b[32m    498\u001b[39m                      \u001b[33mf\u001b[39m\u001b[33m\"\u001b[39m\u001b[33mshapes \u001b[39m\u001b[38;5;132;01m{\u001b[39;00mx.shape\u001b[38;5;132;01m}\u001b[39;00m\u001b[33m and \u001b[39m\u001b[38;5;132;01m{\u001b[39;00my.shape\u001b[38;5;132;01m}\u001b[39;00m\u001b[33m\"\u001b[39m)\n",
      "\u001b[31mValueError\u001b[39m: x and y must have same first dimension, but have shapes (250,) and (500,)"
     ]
    },
    {
     "data": {
      "image/png": "[encoded data removed]",
      "text/plain": [
       "<Figure size 640x480 with 1 Axes>"
      ]
     },
     "metadata": {},
     "output_type": "display_data"
    }
   ],
   "source": [
    "Macros.load(bib, 1)\n",
    "Macros.eval(bib, \"adwin\")\n",
    "\n",
    "import matplotlib.pyplot as plt\n",
    "import numpy as np\n",
    "\n",
    "# Plot.plot_curves(bib, (\"cached\", \"adwin\"), [(\"voltage-bin\",\"current-voltage\",)], True)\n",
    "x = bib.evaluation.persistent_sets[\"norm\"].curves[\"voltage-bin\"]\n",
    "y = bib.evaluation.cached_sets[\"adwin\"].curves[\"current-voltage\"]\n",
    "# dy = np.gradient(y, x)\n",
    "plt.plot(x, y, label=\"Adwin\")\n",
    "plt.xlabel(\"eV₀ (eV)\")\n",
    "plt.ylabel(\"I (GΔ/e)\")\n",
    "plt.xlim(-6, 6)\n",
    "\n",
    "plt.figure()\n",
    "dx = np.gradient(x)\n",
    "dy = np.gradient(y)\n",
    "plt.plot(x, dy / dx, label=\"Adwin derivative\")\n",
    "plt.xlabel(\"eV₀ (eV)\")\n",
    "plt.ylabel(\"dI/dV (G₀)\")\n",
    "plt.xlim(-6, 6)"
   ]
  }
 ],
 "metadata": {
  "kernelspec": {
   "display_name": ".venv",
   "language": "python",
   "name": "python3"
  },
  "language_info": {
   "codemirror_mode": {
    "name": "ipython",
    "version": 3
   },
   "file_extension": ".py",
   "mimetype": "text/x-python",
   "name": "python",
   "nbconvert_exporter": "python",
   "pygments_lexer": "ipython3",
   "version": "3.13.3"
  }
 },
 "nbformat": 4,
 "nbformat_minor": 5
}
